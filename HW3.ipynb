{
 "cells": [
  {
   "cell_type": "markdown",
   "metadata": {},
   "source": [
    "# CSE 258 Fall 2017 - Homework 3\n",
    "- - -\n",
    "\n",
    "## Xiangyuan Ren\n",
    "###  Department of Electrical and Computer Engineering \n",
    "### Email: xir010@eng.ucsd.edu \n"
   ]
  },
  {
   "cell_type": "markdown",
   "metadata": {},
   "source": [
    "---\n",
    "## Tasks (Visit prediction)\n",
    "### 1. Although we have built a validation set, it only consists of positive samples. For this task we also need examples of user/business pairs that weren’t visited. Build such a set by randomly sampling users and businesses until you have 100,000 non-visited user/business pairs. This random sample combined with your 100,000 validation reviews now corresponds to the complete validation set for the visit prediction task. Evaluate the performance (accuracy) of the baseline model on the validation set you have built (1 mark).\n",
    "### 2.The existing ‘visit prediction’ baseline just returns True if the business in question is ‘popular,’ using a threshold of the 50th percentile of popularity (totalVisits/2). Assuming that the ‘non-visited’ test examples are a random sample of user-visit pairs, is this particular threshold value the best? If not, see if you can find a better one (and report its performance), or if so, explain why it is the best (1 mark).\n",
    "* import data\n",
    "* shuffle data\n",
    "* building training data"
   ]
  },
  {
   "cell_type": "code",
   "execution_count": 2,
   "metadata": {},
   "outputs": [],
   "source": [
    "import numpy as np\n",
    "import math\n",
    "from collections import defaultdict\n",
    "def ParseDataFromFile(f):\n",
    "    for l in open(f):\n",
    "        yield eval(l)\n",
    "data=list(ParseDataFromFile(\"assignment1_data/train.json\"))\n",
    "np.random.shuffle(data) \n",
    "train=data[:100000]"
   ]
  },
  {
   "cell_type": "code",
   "execution_count": 3,
   "metadata": {},
   "outputs": [
    {
     "data": {
      "text/plain": [
       "{'businessID': 'B015691642',\n",
       " 'categories': [u'Restaurant', u'Thai Restaurant', u'Filipino Restaurant'],\n",
       " 'rating': 4.0,\n",
       " 'reviewHash': 'R546396645',\n",
       " 'reviewText': u'A venture by Top Chef alum Leah Cohen and there Fatty Crew, Pig and Khao serves up Filipino and Thai-influenced dishes in a cozy space in the Lower East Side. Grab a seat by the counter for a view of the kitchen at work, or pick from a few two-tops for a more intimate meal. The Sizzing Sisig is one of the more popular dishes, consisting of a variety of pork parts mixed with chilies and cilantro which are served in a hot skillet. A raw egg is mixed in and the remaining heat cooks it through. Worth a trip, especially for their brunch menu.',\n",
       " 'reviewTime': u'Jan 17, 2014',\n",
       " 'unixReviewTime': 1389989083,\n",
       " 'userID': 'U094737036'}"
      ]
     },
     "execution_count": 3,
     "metadata": {},
     "output_type": "execute_result"
    }
   ],
   "source": [
    "data[0]"
   ]
  },
  {
   "cell_type": "code",
   "execution_count": 2,
   "metadata": {},
   "outputs": [],
   "source": [
    "#train=data[:100000]"
   ]
  },
  {
   "cell_type": "markdown",
   "metadata": {},
   "source": [
    "* UserS,BuzS  :set{str} set that contain ID(str) of user and business\n",
    "* UserS2N UserN2S: dict{str:int} dict{int: str} that translate string in number and translate number into string for user\n",
    "* BuzS2N BuzN2S: dict{str:int} dict{int: str} that translate string in number and translate number into string for businessUserT \n",
    "* UserT BuzT: dict{str:int} that shows how many visits a user make and how many times a businiess been visited "
   ]
  },
  {
   "cell_type": "code",
   "execution_count": 4,
   "metadata": {},
   "outputs": [],
   "source": [
    "\n",
    "#21321 business - 20472 in train\n",
    "#18793 users - 18085 in train\n",
    "UserS   = set()\n",
    "UserS2N = {}\n",
    "UserN2S = {}\n",
    "BuzS    = set()\n",
    "BuzS2N  = {}\n",
    "BuzN2S  = {}\n",
    "\n",
    "for i in data:\n",
    "    UserS.add(i['userID'])\n",
    "    BuzS.add(i['businessID'])\n",
    "    \n",
    "j=0\n",
    "for i in UserS:\n",
    "    UserS2N[i]=j\n",
    "    UserN2S[j]=i\n",
    "    j+=1\n",
    "\n",
    "j=0\n",
    "for i in BuzS:\n",
    "    BuzS2N[i]=j\n",
    "    BuzN2S[j]=i\n",
    "    j+=1\n",
    "\n",
    "UserT   = defaultdict(int)\n",
    "BuzT    = defaultdict(int)\n",
    "for i in data:\n",
    "    UserT[i['userID']]+=1\n",
    "    BuzT[i['businessID']]+=1"
   ]
  },
  {
   "cell_type": "markdown",
   "metadata": {},
   "source": [
    "* UserBlist,BuzUlist: dict{int:list} contains which buz a user visit, and which user visit the buz"
   ]
  },
  {
   "cell_type": "code",
   "execution_count": 5,
   "metadata": {},
   "outputs": [],
   "source": [
    "UserBlist=defaultdict(list)\n",
    "BuzUlist =defaultdict(list)\n",
    "for i in data:\n",
    "    u=UserS2N[i['userID']]\n",
    "    b=BuzS2N[i['businessID']]\n",
    "    UserBlist[u].append(b)\n",
    "    BuzUlist[b].append(u)"
   ]
  },
  {
   "cell_type": "markdown",
   "metadata": {},
   "source": [
    "* Making validation set\n",
    "* UserBlist_V{(user int,buz int):1/0} : dict that shows whether user visit buz 1- visit, 0- not visit"
   ]
  },
  {
   "cell_type": "code",
   "execution_count": 6,
   "metadata": {},
   "outputs": [],
   "source": [
    "\n",
    "import random\n",
    "UserBlist_V={}\n",
    "for i in data:\n",
    "    u=UserS2N[i['userID']]\n",
    "    b=BuzS2N[i['businessID']]\n",
    "    UserBlist_V[(u,b)]=1\n",
    "\n",
    "i=0\n",
    "while i<200000:\n",
    "    b=int(random.uniform(0,len(BuzS)))\n",
    "    u=int(random.uniform(0,len(UserS)))\n",
    "    if b not in UserBlist[u] and (u,b) not in UserBlist_V:\n",
    "        UserBlist_V[(u,b)]=0\n",
    "        i+=1"
   ]
  },
  {
   "cell_type": "code",
   "execution_count": null,
   "metadata": {},
   "outputs": [],
   "source": []
  },
  {
   "cell_type": "markdown",
   "metadata": {},
   "source": [
    "* testing baseline on  50th  percentile of popularity\n",
    "* Popular : list (#popularity, buz) \n",
    "* totalPurchases= 100K"
   ]
  },
  {
   "cell_type": "code",
   "execution_count": 47,
   "metadata": {},
   "outputs": [
    {
     "name": "stdout",
     "output_type": "stream",
     "text": [
      "accuracy:  0.5954075\n"
     ]
    }
   ],
   "source": [
    "#testing baseline\n",
    "Popular = [(BuzT[x],x) for x in BuzT]\n",
    "Popular.sort()\n",
    "Popular.reverse()\n",
    "\n",
    "totalPurchases=100000\n",
    "return1 = set()\n",
    "count = 0\n",
    "for ic, i in Popular:\n",
    "    count += ic\n",
    "    return1.add(BuzS2N[i])\n",
    "    if count > totalPurchases*0.5: \n",
    "        break\n",
    "\n",
    "miss=0\n",
    "for i in UserBlist_V:\n",
    "    predict=1 if (i[1] in return1)else 0\n",
    "    miss+=(predict+UserBlist_V[i])%2\n",
    "print \"accuracy: \",1-miss*1.0/400000"
   ]
  },
  {
   "cell_type": "markdown",
   "metadata": {},
   "source": [
    "### So, the baseline of threshold on 50% of total purchase get accuracy of 62.54%\n",
    "---"
   ]
  },
  {
   "cell_type": "code",
   "execution_count": 119,
   "metadata": {},
   "outputs": [
    {
     "name": "stdout",
     "output_type": "stream",
     "text": [
      "0.4 \taccuracy:  0.579295\n",
      "0.45 \taccuracy:  0.587615\n",
      "0.5 \taccuracy:  0.5954075\n",
      "0.55 \taccuracy:  0.6027575\n",
      "0.6 \taccuracy:  0.60963\n",
      "0.65 \taccuracy:  0.6158875\n",
      "0.7 \taccuracy:  0.6220975\n",
      "0.8 \taccuracy:  0.633115\n",
      "1 \taccuracy:  0.6492925\n"
     ]
    }
   ],
   "source": [
    "for thres in [0.4,0.45,0.5,0.55,0.6,0.65,0.7,0.8,1]:\n",
    "    #Popular = [(BuzT[x],x) for x in BuzT]\n",
    "    #Popular.sort()\n",
    "    #Popular.reverse()\n",
    "\n",
    "    #totalPurchases=100000\n",
    "    return1 = set()\n",
    "    count = 0\n",
    "    for ic, i in Popular:\n",
    "        count += ic\n",
    "        return1.add(BuzS2N[i])\n",
    "        if count > totalPurchases*thres: \n",
    "            break\n",
    "\n",
    "    miss=0\n",
    "    for i in UserBlist_V:\n",
    "        predict=1 if (i[1] in return1)else 0\n",
    "        miss+=(predict+UserBlist_V[i])%2\n",
    "    print thres,'\\t',\n",
    "    print \"accuracy: \",1-miss*1.0/400000"
   ]
  },
  {
   "cell_type": "markdown",
   "metadata": {},
   "source": [
    "### So, the 50% threshold is not the best\n",
    "### with the  threshold on 60% of total purchase get better accuracy of 62.75%\n",
    "---"
   ]
  },
  {
   "cell_type": "markdown",
   "metadata": {},
   "source": [
    "### 3.Users may tend to repeatedly visit business of the same type. Build a baseline that returns ‘True’ if a user has visited a business of the same category before (at least one category in common), or zero otherwise (1 mark).\n",
    "### 4. To run our model on the test set, we’ll have to use the files ‘pairs Visit.txt’ to find the userID/businessID pairs about which we have to make predictions. Using that data, run the above model and upload your solution to Kaggle. Tell us your Kaggle user name (1 mark). If you’ve already uploaded a better solution to Kaggle, that’s fine too!"
   ]
  },
  {
   "cell_type": "code",
   "execution_count": 49,
   "metadata": {},
   "outputs": [],
   "source": [
    "# making a dict {buzID int: categories} \n",
    "BuzCate=defaultdict(set)\n",
    "for i in data:\n",
    "    b=BuzS2N[i['businessID']]\n",
    "    for j in i['categories']:\n",
    "        BuzCate[b].add(j)"
   ]
  },
  {
   "cell_type": "code",
   "execution_count": 50,
   "metadata": {},
   "outputs": [],
   "source": [
    "# making a function to find categories in common using Jaccard similarity\n",
    "def findcate(u,b):\n",
    "    if u not in UserN2S:\n",
    "        return 0\n",
    "    if b not in BuzN2S: \n",
    "        return 0\n",
    "    d=0\n",
    "    for b2 in UserBlist[u]:\n",
    "        d+=distance2(b,b2)\n",
    "    return d\n",
    "\n",
    "def distance2(b1,b2):\n",
    "    if BuzT[BuzN2S[b2]]==0:   \n",
    "        return 0\n",
    "    set1=set(BuzCate[b1])\n",
    "    set2=set(BuzCate[b2])\n",
    "    return len(set1 & set2)*1.0/len(set1 | set2)"
   ]
  },
  {
   "cell_type": "code",
   "execution_count": 52,
   "metadata": {},
   "outputs": [
    {
     "name": "stdout",
     "output_type": "stream",
     "text": [
      "0 \taccuracy:  0.8492275\n",
      "0.1 \taccuracy:  0.8492275\n",
      "0.2 \taccuracy:  0.8705725\n",
      "0.5 \taccuracy:  0.93211\n"
     ]
    }
   ],
   "source": [
    "#test category\n",
    "for thres in [0,0.1,0.2,0.5]:#,0.1,0.2]:\n",
    "    miss=0\n",
    "    for i in UserBlist_V:\n",
    "        predict=1 if (findcate(i[0],i[1])>thres) else 0\n",
    "        miss+=(predict+UserBlist_V[i])%2\n",
    "    print thres,'\\t',\n",
    "    print \"accuracy: \",1-(miss*1.0/400000)"
   ]
  },
  {
   "cell_type": "code",
   "execution_count": 70,
   "metadata": {},
   "outputs": [
    {
     "name": "stdout",
     "output_type": "stream",
     "text": [
      "1 \taccuracy:  0.9512375\n"
     ]
    }
   ],
   "source": [
    "for thres in [1]:#,0.1,0.2]:\n",
    "    miss=0\n",
    "    for i in UserBlist_V:\n",
    "        d=0\n",
    "        for b2 in UserBlist[i[0]]:\n",
    "            d+=distance1(b2,i[1])*1000\n",
    "        predict=1 if (d>thres) else 0\n",
    "        miss+=(predict+UserBlist_V[i])%2\n",
    "    print thres,'\\t',\n",
    "    print \"accuracy: \",1-(miss*1.0/400000)"
   ]
  },
  {
   "cell_type": "code",
   "execution_count": null,
   "metadata": {},
   "outputs": [],
   "source": []
  },
  {
   "cell_type": "code",
   "execution_count": 73,
   "metadata": {},
   "outputs": [],
   "source": [
    "d0=[]\n",
    "d1=[]\n",
    "d2=[]\n",
    "d3=[]\n",
    "y =[]\n",
    "for i in UserBlist_V:\n",
    "    dd0=0;dd1=0;dd2=0\n",
    "    for b2 in UserBlist[i[0]]:\n",
    "        dd0+=distance1(b2,i[1])\n",
    "        dd1+=distance2(b2,i[1])\n",
    "    d0.append(dd0)#user距离\n",
    "    d1.append(dd0*1.0/pu[i[0]])#user距离除以买的东西数量\n",
    "    d2.append(p[i[1]])#item popular\n",
    "    d3.append(dd1)#cate距离\n",
    "    y.append(UserBlist_V[i])"
   ]
  },
  {
   "cell_type": "code",
   "execution_count": 74,
   "metadata": {},
   "outputs": [
    {
     "data": {
      "text/plain": [
       "400000"
      ]
     },
     "execution_count": 74,
     "metadata": {},
     "output_type": "execute_result"
    }
   ],
   "source": [
    "len(y)"
   ]
  },
  {
   "cell_type": "code",
   "execution_count": 143,
   "metadata": {},
   "outputs": [
    {
     "name": "stdout",
     "output_type": "stream",
     "text": [
      "1 \t0.99926\n",
      "1.1 \t0.99943\n",
      "1.2 \t0.9993725\n",
      "2 \t0.9986975\n",
      "10 \t0.98808\n",
      "1000 \t0.9512375\n",
      "1100 \t0.9512375\n",
      "1500 \t0.9512375\n",
      "10000000 \t0.9512375\n"
     ]
    }
   ],
   "source": [
    "for amp in [1,1.1,1.2,2,10,1000,1100,1500,10000000]:\n",
    "    out=1-sum([((d0[i]*amp>1)+y[i])%2for i in range(400000)])*1.0/400000\n",
    "    print amp,'\\t',out"
   ]
  },
  {
   "cell_type": "code",
   "execution_count": 141,
   "metadata": {},
   "outputs": [
    {
     "name": "stdout",
     "output_type": "stream",
     "text": [
      "0.1 0.5042975\n",
      "1 0.973405\n",
      "2 0.9961025\n",
      "3 0.993395\n",
      "4 0.9899175\n",
      "5 0.9867675\n",
      "10 0.97586\n",
      "100 0.953685\n",
      "1000 0.951255\n"
     ]
    }
   ],
   "source": [
    "for amp in [0.1,1,2,3,4,5,10,100,1000]:\n",
    "    out=1-sum([((d1[i]*20*amp>1)+y[i])%2for i in range(400000)])*1.0/400000\n",
    "    print amp,out"
   ]
  },
  {
   "cell_type": "code",
   "execution_count": 146,
   "metadata": {},
   "outputs": [
    {
     "name": "stdout",
     "output_type": "stream",
     "text": [
      "0 \t0.5\n",
      "1 \t0.7820675\n",
      "1.5 \t0.9465875\n",
      "2 \t0.93211\n",
      "2.5 \t0.913175\n",
      "3 \t0.90845\n",
      "4 \t0.8915775\n",
      "5 \t0.8705725\n",
      "6 \t0.84927\n",
      "7 \t0.8492275\n",
      "10 \t0.8492275\n",
      "100 \t0.8492275\n"
     ]
    }
   ],
   "source": [
    "for amp in [0,1,1.5,2,2.5,3,4]:\n",
    "    out=1-sum([((d3[i]*amp>1)+y[i])%2for i in range(400000)])*1.0/400000\n",
    "    print amp,'\\t',out"
   ]
  },
  {
   "cell_type": "code",
   "execution_count": 134,
   "metadata": {},
   "outputs": [
    {
     "data": {
      "text/plain": [
       "1.4492725297619828"
      ]
     },
     "execution_count": 134,
     "metadata": {},
     "output_type": "execute_result"
    }
   ],
   "source": [
    "sum(d3)*1.0/len(d0)"
   ]
  },
  {
   "cell_type": "markdown",
   "metadata": {},
   "source": [
    "## ？"
   ]
  },
  {
   "cell_type": "code",
   "execution_count": null,
   "metadata": {},
   "outputs": [],
   "source": [
    "i=(5152, 19073)\n",
    "d=0\n",
    "for b2 in UserBlist[i[0]]:\n",
    "    d+=distance1(b2,i[1])\n",
    "d"
   ]
  },
  {
   "cell_type": "markdown",
   "metadata": {},
   "source": [
    "### When returning True if any categories in common found, the accuracy is 65.09%\n",
    "---\n",
    "* distance1 shows similarity in users\n",
    "* using both similarity on dataset\n",
    "* train model in different parameter"
   ]
  },
  {
   "cell_type": "code",
   "execution_count": 30,
   "metadata": {},
   "outputs": [],
   "source": [
    "def distance1(b1,b2):#????\n",
    "    set1=set(BuzUlist[b1])\n",
    "    set2=set(BuzUlist[b2])\n",
    "    try:\n",
    "        return len(set1 & set2)*1.0/len(set1 | set2)\n",
    "    except:\n",
    "        return 0"
   ]
  },
  {
   "cell_type": "code",
   "execution_count": 31,
   "metadata": {},
   "outputs": [
    {
     "name": "stdout",
     "output_type": "stream",
     "text": [
      "distance storage finished\n"
     ]
    }
   ],
   "source": [
    "d1=[[0]*len(BuzS) for i in range(len(BuzS))]\n",
    "d2=[[0]*len(BuzS) for i in range(len(BuzS))]\n",
    "for i in UserBlist_V:\n",
    "    b=i[1]\n",
    "    u=i[0]\n",
    "    d=0\n",
    "    for j in UserBlist[u]:\n",
    "        d1[b][j]=distance1(b,j)\n",
    "        d2[b][j]=distance2(b,j)\n",
    "print \"distance storage finished\""
   ]
  },
  {
   "cell_type": "code",
   "execution_count": 27,
   "metadata": {},
   "outputs": [],
   "source": [
    "UserT   = defaultdict(int)\n",
    "BuzT    = defaultdict(int)\n",
    "for i in data:\n",
    "    BuzT[i['businessID']]+=1\n",
    "    UserT[i['userID']]+=1\n",
    "Popular = [(BuzT[x],x) for x in BuzT]    \n",
    "p={}\n",
    "for i in Popular:\n",
    "    p[BuzS2N[i[1]]]=i[0]\n",
    "pu={}\n",
    "for i in UserT:\n",
    "    pu[UserS2N[i]]=UserT[i]"
   ]
  },
  {
   "cell_type": "code",
   "execution_count": 28,
   "metadata": {},
   "outputs": [
    {
     "data": {
      "text/plain": [
       "(21321, 21321)"
      ]
     },
     "execution_count": 28,
     "metadata": {},
     "output_type": "execute_result"
    }
   ],
   "source": [
    "len(p),len(BuzS)"
   ]
  },
  {
   "cell_type": "code",
   "execution_count": 29,
   "metadata": {},
   "outputs": [],
   "source": [
    "tttrain=[]\n",
    "ytrain=[]\n",
    "#theta=[0,1,0]\n",
    "for theta[0] in [1]:\n",
    "    for theta[1] in [1]:\n",
    "        for theta[2] in [1]:\n",
    "            miss=0\n",
    "            for i in UserBlist_V:\n",
    "                u=i[0];b=i[1]\n",
    "                if u not in UserN2S:\n",
    "                    miss+=(0+UserBlist_V[i])%2\n",
    "                    continue\n",
    "                if b not in BuzN2S:\n",
    "                    miss+=(0+UserBlist_V[i])%2\n",
    "                    continue\n",
    "                duser=0\n",
    "                dcate=0\n",
    "                for b2 in UserBlist[u]:\n",
    "                    duser+=d1[b][b2]*theta[0]\n",
    "                    dcate+=d2[b][b2]*theta[1]\n",
    "                tttrain.append([1,duser,dcate,p[b],pu[u],duser*1.0/pu[u]])\n",
    "                ytrain.append(UserBlist_V[i])\n",
    "#                 predict=1 if d>theta[2] else 0\n",
    "#                 miss+=(predict+UserBlist_V[i])%2\n",
    "#             print theta[0],theta[1],theta[2]\n",
    "#             print \"accuracy: \",1-(miss*1.0/200000)"
   ]
  },
  {
   "cell_type": "code",
   "execution_count": 33,
   "metadata": {},
   "outputs": [
    {
     "data": {
      "text/plain": [
       "0.7522766666666667"
      ]
     },
     "execution_count": 33,
     "metadata": {},
     "output_type": "execute_result"
    }
   ],
   "source": [
    "from sklearn.ensemble import RandomForestClassifier\n",
    "random_forest = RandomForestClassifier(n_estimators=100)\n",
    "\n",
    "random_forest.fit(tttrain, ytrain)\n",
    "\n",
    "Y_pred = random_forest.predict(tttrain)\n",
    "\n",
    "random_forest.score(tttrain, ytrain)"
   ]
  },
  {
   "cell_type": "code",
   "execution_count": 42,
   "metadata": {},
   "outputs": [
    {
     "data": {
      "text/plain": [
       "0"
      ]
     },
     "execution_count": 42,
     "metadata": {},
     "output_type": "execute_result"
    }
   ],
   "source": [
    "int(random_forest.predict(tttrain[200000:200001]))"
   ]
  },
  {
   "cell_type": "code",
   "execution_count": 34,
   "metadata": {},
   "outputs": [
    {
     "data": {
      "text/plain": [
       "0.74817666666666671"
      ]
     },
     "execution_count": 34,
     "metadata": {},
     "output_type": "execute_result"
    }
   ],
   "source": [
    "from sklearn.linear_model import LogisticRegression\n",
    "logreg = LogisticRegression()\n",
    "\n",
    "logreg.fit(tttrain, ytrain)\n",
    "\n",
    "Y_pred = logreg.predict(tttrain)\n",
    "\n",
    "logreg.score(tttrain, ytrain)"
   ]
  },
  {
   "cell_type": "code",
   "execution_count": 30,
   "metadata": {},
   "outputs": [],
   "source": [
    "#from sklearn import svm"
   ]
  },
  {
   "cell_type": "code",
   "execution_count": 31,
   "metadata": {},
   "outputs": [],
   "source": [
    "# clf = svm.SVC(C=10)\n",
    "# clf.fit(tttrain, ytrain)"
   ]
  },
  {
   "cell_type": "code",
   "execution_count": 32,
   "metadata": {},
   "outputs": [],
   "source": [
    "# test_accuracy=sum([(x==y) for x,y in zip(tttrain,ytrain)])*1.0/len(ytrain)*100\n",
    "# print test_accuracy"
   ]
  },
  {
   "cell_type": "markdown",
   "metadata": {},
   "source": [
    "###  the accuracy is higher: 74%\n",
    "---\n",
    "### using it on the whole dataset"
   ]
  },
  {
   "cell_type": "code",
   "execution_count": 5,
   "metadata": {},
   "outputs": [],
   "source": [
    "UserT   = defaultdict(int)\n",
    "BuzT    = defaultdict(int)\n",
    "for i in data:\n",
    "    UserT[i['userID']]+=1\n",
    "    BuzT[i['businessID']]+=1\n",
    "UserBlist=defaultdict(list)\n",
    "BuzUlist =defaultdict(list)\n",
    "for i in data:\n",
    "    u=UserS2N[i['userID']]\n",
    "    b=BuzS2N[i['businessID']]\n",
    "    UserBlist[u].append(b)\n",
    "    BuzUlist[b].append(u)"
   ]
  },
  {
   "cell_type": "code",
   "execution_count": 8,
   "metadata": {},
   "outputs": [],
   "source": [
    "def distance1(b1,b2):#????\n",
    "    set1=set(BuzUlist[b1])\n",
    "    set2=set(BuzUlist[b2])\n",
    "    try:\n",
    "        return len(set1 & set2)*1.0/len(set1 | set2)\n",
    "    except:\n",
    "        return 0\n",
    "def distance2(b1,b2):\n",
    "    if BuzT[BuzN2S[b2]]==0:   \n",
    "        return 0\n",
    "    set1=set(BuzCate[b1])\n",
    "    set2=set(BuzCate[b2])\n",
    "    return len(set1 & set2)*1.0/len(set1 | set2)"
   ]
  },
  {
   "cell_type": "code",
   "execution_count": 12,
   "metadata": {},
   "outputs": [],
   "source": [
    "# UserBlist1={}\n",
    "# for i in data:\n",
    "#     u=UserS2N[i['userID']]\n",
    "#     b=BuzS2N[i['businessID']]\n",
    "#     UserBlist1[(u,b)]=1"
   ]
  },
  {
   "cell_type": "code",
   "execution_count": 35,
   "metadata": {},
   "outputs": [],
   "source": [
    "# d1=[[0]*len(BuzS) for i in range(len(BuzS))]\n",
    "# d2=[[0]*len(BuzS) for i in range(len(BuzS))]\n",
    "# for u in UserBlist:\n",
    "#     b=i[1]\n",
    "#     u=i[0]\n",
    "#     d=0\n",
    "#     for j in UserBlist[u]:\n",
    "#         d1[b][j]=distance1(b,j)\n",
    "#         d2[b][j]=distance2(b,j)\n",
    "# print \"distance storage finished\""
   ]
  },
  {
   "cell_type": "code",
   "execution_count": 150,
   "metadata": {},
   "outputs": [
    {
     "name": "stdout",
     "output_type": "stream",
     "text": [
      "63\n"
     ]
    }
   ],
   "source": [
    "#theta=[1000,1.5,1]\n",
    "predictions = open(\"predictions_Visiting.txt\", 'w')\n",
    "noUorB=0\n",
    "for l in open(\"pairs_Visit.txt\"):\n",
    "    if l.startswith(\"userID\"):\n",
    "        #header\n",
    "        predictions.write(l)\n",
    "        continue\n",
    "    u,b = l.strip().split('-')\n",
    "    predictions.write(u + '-' + b + ',')\n",
    "    if u not in UserS2N or b not in BuzS2N:\n",
    "        noUorB+=1\n",
    "        predictions.write(str(0) + '\\n')        \n",
    "    else:\n",
    "        u = UserS2N[u]\n",
    "        b = BuzS2N[b]\n",
    "        flag = 0\n",
    "        duser=0\n",
    "        dcate=0\n",
    "        for j in UserBlist[u]:#j=b2\n",
    "            duser+=distance1(b,j)#*theta[0]\n",
    "            #dcate+=distance2(b,j)#*theta[1]\n",
    "        #flag=int(random_forest.predict([[1,duser,dcate,p[b],pu[u],duser*1.0/pu[u]]]))\n",
    "        flag = 1 if duser*150 >1 else 0 #theta[2]\n",
    "        #flag = 1 if dcate*1.5 >1 else 0\n",
    "        predictions.write(str(flag) + '\\n')\n",
    "predictions.close()\n",
    "print noUorB"
   ]
  },
  {
   "cell_type": "markdown",
   "metadata": {},
   "source": [
    "* 63 user or buz not shown in the dataset\n",
    "## Now I am the best in the leaderboard (Nov. 3th), I achieved 87% accuracy\n",
    "----"
   ]
  },
  {
   "cell_type": "markdown",
   "metadata": {},
   "source": [
    "## Tasks (Rating prediction)\n",
    "### 1.Let’s start by building our training/validation sets much as we did for the first task. This time building a validation set is more straightforward, you can simply use half of the data for validation, and do not need to randomly sample non-visited users/businesses.\n"
   ]
  },
  {
   "cell_type": "code",
   "execution_count": 6,
   "metadata": {},
   "outputs": [],
   "source": [
    "import math\n",
    "validation=data[100000:]"
   ]
  },
  {
   "cell_type": "markdown",
   "metadata": {},
   "source": [
    "### 2.What is the performance of a trivial predictor\n",
    "###  rating(user, item) = α\n",
    "### on the validation set, and what is the value of α (1 mark)?"
   ]
  },
  {
   "cell_type": "code",
   "execution_count": 7,
   "metadata": {},
   "outputs": [
    {
     "data": {
      "text/plain": [
       "{'businessID': 'B623658108',\n",
       " 'categories': [u'Clothing Store', u\"Women's Clothing Store\", u'Shoe Store'],\n",
       " 'rating': 3.0,\n",
       " 'reviewHash': 'R581117063',\n",
       " 'reviewText': u\"This Zara is so big, but it's kind of overwhelming. It's also kind of dark in there, so make sure you watch you're going lest you run into something. The service is okay? They say hello but that's about the extent of their involvement with you until you check out. It goes without saying that the clothes are amazing though!\",\n",
       " 'reviewTime': u'Jun 22, 2013',\n",
       " 'unixReviewTime': 1371936682,\n",
       " 'userID': 'U635583657'}"
      ]
     },
     "execution_count": 7,
     "metadata": {},
     "output_type": "execute_result"
    }
   ],
   "source": [
    "train[0]"
   ]
  },
  {
   "cell_type": "code",
   "execution_count": 16,
   "metadata": {},
   "outputs": [],
   "source": [
    "alpha=sum([i['rating'] for i in train])/len(train)"
   ]
  },
  {
   "cell_type": "code",
   "execution_count": 17,
   "metadata": {},
   "outputs": [],
   "source": [
    "MSE0=math.sqrt(sum([(i['rating']-alpha)**2 for i in validation])/len(validation))"
   ]
  },
  {
   "cell_type": "code",
   "execution_count": 18,
   "metadata": {},
   "outputs": [
    {
     "data": {
      "text/plain": [
       "0.8625808567315142"
      ]
     },
     "execution_count": 18,
     "metadata": {},
     "output_type": "execute_result"
    }
   ],
   "source": [
    "MSE0"
   ]
  },
  {
   "cell_type": "markdown",
   "metadata": {},
   "source": [
    "### So, with only alpha included, alpha is 4.18588, RMSE is 0.8639757999500715\n",
    "---"
   ]
  },
  {
   "cell_type": "markdown",
   "metadata": {},
   "source": [
    "### 3.Fit a predictor of the form\n",
    "### rating(user, item) ≃ alpha + beta_user + beta_item,\n",
    "### by fitting the mean and the two bias terms as described in the lecture notes. Use a regularization parameter of λ = 1. Report the MSE on the validation set (1 mark).\n"
   ]
  },
  {
   "cell_type": "code",
   "execution_count": 19,
   "metadata": {},
   "outputs": [],
   "source": [
    "UserRlist=defaultdict(list)# in training set User int: Rating float\n",
    "BuzRlist=defaultdict(list)# in training set  User int: Rating float\n",
    "for i in train:\n",
    "    u=UserS2N[i['userID']]\n",
    "    b=BuzS2N[i['businessID']]\n",
    "    r=i['rating']\n",
    "    UserRlist[u].append(r)\n",
    "    BuzRlist[b].append(r)"
   ]
  },
  {
   "cell_type": "code",
   "execution_count": 20,
   "metadata": {},
   "outputs": [],
   "source": [
    "UserRaverage=[0]*len(UserS)# list: average rating float\n",
    "BuzRaverage=[0]*len(BuzS)"
   ]
  },
  {
   "cell_type": "code",
   "execution_count": 21,
   "metadata": {},
   "outputs": [],
   "source": [
    "for i in UserRlist:\n",
    "    if len(UserRlist[i])!=0:\n",
    "        UserRaverage[i]=sum(UserRlist[i])*1.0/len(UserRlist[i])\n",
    "for i in BuzRlist:\n",
    "    if len(BuzRlist[i])!=0:\n",
    "        BuzRaverage[i]=sum(BuzRlist[i])*1.0/len(BuzRlist[i])"
   ]
  },
  {
   "cell_type": "code",
   "execution_count": 22,
   "metadata": {},
   "outputs": [],
   "source": [
    "ubr=defaultdict(list)# dict{ userID int: (userID buzID rating) } \n",
    "bur=defaultdict(list)# dict{  buzID int: (userID buzID rating) } \n",
    "for i in train:\n",
    "    u=UserS2N[i['userID']]\n",
    "    b=BuzS2N[i['businessID']]\n",
    "    r=i['rating']\n",
    "    ubr[u].append((u,b,r))\n",
    "    bur[b].append((u,b,r))"
   ]
  },
  {
   "cell_type": "code",
   "execution_count": 15,
   "metadata": {},
   "outputs": [
    {
     "ename": "KeyboardInterrupt",
     "evalue": "",
     "output_type": "error",
     "traceback": [
      "\u001b[0;31m---------------------------------------------------------------------------\u001b[0m",
      "\u001b[0;31mKeyboardInterrupt\u001b[0m                         Traceback (most recent call last)",
      "\u001b[0;32m<ipython-input-15-f8e34723486b>\u001b[0m in \u001b[0;36m<module>\u001b[0;34m()\u001b[0m\n\u001b[1;32m      8\u001b[0m         \u001b[0mUserRaverage\u001b[0m\u001b[0;34m[\u001b[0m\u001b[0mu\u001b[0m\u001b[0;34m]\u001b[0m\u001b[0;34m=\u001b[0m\u001b[0mbetau\u001b[0m\u001b[0;34m\u001b[0m\u001b[0m\n\u001b[1;32m      9\u001b[0m     \u001b[0;32mfor\u001b[0m \u001b[0mb\u001b[0m \u001b[0;32min\u001b[0m \u001b[0mbur\u001b[0m\u001b[0;34m:\u001b[0m\u001b[0;34m\u001b[0m\u001b[0m\n\u001b[0;32m---> 10\u001b[0;31m         \u001b[0mbetab\u001b[0m\u001b[0;34m=\u001b[0m\u001b[0msum\u001b[0m\u001b[0;34m(\u001b[0m\u001b[0mi\u001b[0m\u001b[0;34m[\u001b[0m\u001b[0;36m2\u001b[0m\u001b[0;34m]\u001b[0m\u001b[0;34m-\u001b[0m\u001b[0mUserRaverage\u001b[0m\u001b[0;34m[\u001b[0m\u001b[0mi\u001b[0m\u001b[0;34m[\u001b[0m\u001b[0;36m0\u001b[0m\u001b[0;34m]\u001b[0m\u001b[0;34m]\u001b[0m\u001b[0;34m-\u001b[0m\u001b[0malpha\u001b[0m \u001b[0;32mfor\u001b[0m \u001b[0mi\u001b[0m \u001b[0;32min\u001b[0m \u001b[0mbur\u001b[0m\u001b[0;34m[\u001b[0m\u001b[0mb\u001b[0m\u001b[0;34m]\u001b[0m\u001b[0;34m)\u001b[0m\u001b[0;34m/\u001b[0m\u001b[0;34m(\u001b[0m\u001b[0mlam\u001b[0m\u001b[0;34m+\u001b[0m\u001b[0mlen\u001b[0m\u001b[0;34m(\u001b[0m\u001b[0mbur\u001b[0m\u001b[0;34m[\u001b[0m\u001b[0mb\u001b[0m\u001b[0;34m]\u001b[0m\u001b[0;34m)\u001b[0m\u001b[0;34m)\u001b[0m\u001b[0;34m\u001b[0m\u001b[0m\n\u001b[0m\u001b[1;32m     11\u001b[0m         \u001b[0mBuzRaverage\u001b[0m\u001b[0;34m[\u001b[0m\u001b[0mb\u001b[0m\u001b[0;34m]\u001b[0m\u001b[0;34m=\u001b[0m\u001b[0mbetab\u001b[0m\u001b[0;34m\u001b[0m\u001b[0m\n",
      "\u001b[0;31mKeyboardInterrupt\u001b[0m: "
     ]
    }
   ],
   "source": [
    "alphaold=0\n",
    "lam=1.0\n",
    "while (abs(alpha-alphaold)>1e-8):\n",
    "    alphaold=alpha\n",
    "    alpha=sum([ sum(i[2]-UserRaverage[i[0]]-BuzRaverage[i[1]] for i in ubr[u]) for u in ubr])/len(train)\n",
    "    for u in ubr:\n",
    "        betau=sum(i[2]-alpha-BuzRaverage[i[1]] for i in ubr[u])/(lam+len(ubr[u]))\n",
    "        UserRaverage[u]=betau\n",
    "    for b in bur:\n",
    "        betab=sum(i[2]-UserRaverage[i[0]]-alpha for i in bur[b])/(lam+len(bur[b]))\n",
    "        BuzRaverage[b]=betab"
   ]
  },
  {
   "cell_type": "code",
   "execution_count": null,
   "metadata": {},
   "outputs": [],
   "source": [
    "MSE1=0\n",
    "for i in validation:\n",
    "    u=UserS2N[i['userID']]\n",
    "    b=BuzS2N[i['businessID']]\n",
    "    r=i['rating']\n",
    "    MSE1+= (r - alpha - BuzRaverage[b] -UserRaverage[u])**2"
   ]
  },
  {
   "cell_type": "code",
   "execution_count": null,
   "metadata": {},
   "outputs": [],
   "source": [
    "MSE1/=len(validation)\n",
    "MSE1 = math.sqrt(MSE1)\n",
    "MSE1"
   ]
  },
  {
   "cell_type": "markdown",
   "metadata": {},
   "source": [
    "### lambda = 1.0 and RMSE: 0.8000199799312584\n",
    "---\n",
    "### Report the user and item IDs that have the largest and smallest values of beta (1 mark).\n"
   ]
  },
  {
   "cell_type": "code",
   "execution_count": 233,
   "metadata": {},
   "outputs": [],
   "source": [
    "tmp1=[(UserRaverage[i],i) for i in range(len(UserRaverage)) if UserRaverage[i]!=0]"
   ]
  },
  {
   "cell_type": "code",
   "execution_count": 234,
   "metadata": {},
   "outputs": [],
   "source": [
    "tmp2=[(BuzRaverage[i],i) for i in range(len(BuzRaverage)) if BuzRaverage[i]!=0]"
   ]
  },
  {
   "cell_type": "code",
   "execution_count": 236,
   "metadata": {},
   "outputs": [
    {
     "name": "stdout",
     "output_type": "stream",
     "text": [
      "1.16174870406 U565835214\n",
      "-2.31510836222 U378878648\n",
      "1.08216024736 B093985406\n",
      "-2.24398033386 B808255680\n"
     ]
    }
   ],
   "source": [
    "a=[max(tmp1),min(tmp1),max(tmp2),min(tmp2)]\n",
    "\n",
    "print a[0][0],UserN2S[a[0][1]]\n",
    "print a[1][0],UserN2S[a[1][1]]\n",
    "print a[2][0],BuzN2S[a[2][1]]\n",
    "print a[3][0],BuzN2S[a[3][1]]"
   ]
  },
  {
   "cell_type": "markdown",
   "metadata": {},
   "source": [
    "* MAX beta: User U565835214 : 1.16174870406\n",
    "* MAX beta: Buz  B093985406 : 1.08216024736\n",
    "* MIN  beta: User U378878648 : -2.31510836222\n",
    "* MIN  beta: Buz  B808255680 : -2.24398033386"
   ]
  },
  {
   "cell_type": "markdown",
   "metadata": {},
   "source": [
    "### Find a better value of lambda using your validation set. Report the value you chose, its MSE, and upload your solution to Kaggle by running it on the test data (1 mark)."
   ]
  },
  {
   "cell_type": "code",
   "execution_count": 237,
   "metadata": {},
   "outputs": [
    {
     "name": "stdout",
     "output_type": "stream",
     "text": [
      "lam:  2 \t66 \talpha:  4.22058188091 \tMSE:  0.782648063632\n",
      "lam:  2.5 \t57 \talpha:  4.22017547666 \tMSE:  0.7794265575\n",
      "lam:  4 \t42 \talpha:  4.21915985952 \tMSE:  0.776761359093\n",
      "lam:  5 \t37 \talpha:  4.21853891828 \tMSE:  0.777392046172\n",
      "lam:  6 \t33 \talpha:  4.21793576219 \tMSE:  0.778741347218\n"
     ]
    }
   ],
   "source": [
    "for lam in [2,2.5,4,5,6]:\n",
    "    alphaold=0\n",
    "    alpha=sum([i['rating'] for i in train])/len(train)\n",
    "    \n",
    "    for i in UserRlist:\n",
    "        if len(UserRlist[i])!=0:\n",
    "            UserRaverage[i]=sum(UserRlist[i])*1.0/len(UserRlist[i])\n",
    "    for i in BuzRlist:\n",
    "        if len(BuzRlist[i])!=0:\n",
    "            BuzRaverage[i]=sum(BuzRlist[i])*1.0/len(BuzRlist[i])\n",
    "    j=0\n",
    "    while (abs(alpha-alphaold)>1e-6):\n",
    "        alphaold=alpha\n",
    "        alpha=sum( [sum([ (i[2]-UserRaverage[i[0]]-BuzRaverage[i[1]]) for i in ubr[u]]) for u in ubr] )*1.0/len(train)\n",
    "        for u in ubr:\n",
    "            betau=sum(i[2]-alpha-BuzRaverage[i[1]] for i in ubr[u])/(lam+len(ubr[u]))\n",
    "            UserRaverage[u]=betau\n",
    "        for b in bur:\n",
    "            betab=sum(i[2]-UserRaverage[i[0]]-alpha for i in bur[b])/(lam+len(bur[b]))\n",
    "            BuzRaverage[b]=betab\n",
    "        j+=1\n",
    "    \n",
    "    MSE1=0\n",
    "    for i in validation:\n",
    "        u=UserS2N[i['userID']]\n",
    "        b=BuzS2N[i['businessID']]\n",
    "        r=i['rating']\n",
    "        MSE1+= (r - alpha - BuzRaverage[b] -UserRaverage[u])**2\n",
    "    MSE1/=len(validation)\n",
    "    MSE1=math.sqrt(MSE1)\n",
    "    print \"lam: \",lam,'\\t',j,'\\t',\"alpha: \",alpha,\"\\tMSE: \",MSE1\n",
    "\n",
    "# lam:  0 \t2 \talpha:  -4.18111 \tMSE:  1.33058794417\n",
    "# lam:  0.1 \t766 \talpha:  4.23267676712 \tMSE:  0.879022928257\n",
    "# lam:  1 \t110 \talpha:  4.22188678821 \tMSE:  0.800019974418\n",
    "# lam:  1.5 \t81 \talpha:  4.22109435537 \tMSE:  0.788595740468\n",
    "# lam:  3 \t50 \talpha:  4.21981608503 \tMSE:  0.777730937422\n",
    "# lam:  6 \t33 \talpha:  4.21793576219 \tMSE:  0.778741347218\n",
    "# lam:  9 \t27 \talpha:  4.21621132091 \tMSE:  0.78409147555\n",
    "# lam:  10 \t25 \talpha:  4.21566482307 \tMSE:  0.785934296225\n",
    "# lam:  12 \t23 \talpha:  4.21461746606 \tMSE:  0.789480189525\n",
    "# lam:  100 \t11 \talpha:  4.19625888896 \tMSE:  0.837800031307\n",
    "# lam:  1000.0 \t7 \talpha:  4.18372121862 \tMSE:  0.860034493429\n"
   ]
  },
  {
   "cell_type": "markdown",
   "metadata": {},
   "source": [
    "### lambda: 4 RMSE: 0.776761359093\n",
    "---\n",
    "### Below is running on the whole dataset and upload\n",
    "### Now I rank the 2nd in the leaderboard.(RMSE=0.74579)"
   ]
  },
  {
   "cell_type": "code",
   "execution_count": 7,
   "metadata": {},
   "outputs": [],
   "source": [
    "UserRlist=defaultdict(list)\n",
    "BuzRlist=defaultdict(list)\n",
    "ubr=defaultdict(list)\n",
    "bur=defaultdict(list)\n",
    "for i in data:\n",
    "    u=UserS2N[i['userID']]\n",
    "    b=BuzS2N[i['businessID']]\n",
    "    r=i['rating']\n",
    "    UserRlist[u].append(r)\n",
    "    BuzRlist[b].append(r)\n",
    "    ubr[u].append((u,b,r))\n",
    "    bur[b].append((u,b,r)) \n",
    "\n",
    "UserRaverage=[0]*len(UserS)\n",
    "BuzRaverage=[0]*len(BuzS)\n",
    "\n",
    "for i in UserRlist:\n",
    "    if len(UserRlist[i])!=0:\n",
    "        UserRaverage[i]=sum(UserRlist[i])*1.0/len(UserRlist[i])\n",
    "for i in BuzRlist:\n",
    "    if len(BuzRlist[i])!=0:\n",
    "        BuzRaverage[i]=sum(BuzRlist[i])*1.0/len(BuzRlist[i]) \n",
    "          \n",
    "    \n",
    "    \n",
    "lam=4\n",
    "alphaold=0\n",
    "alpha=sum([i['rating'] for i in data])/len(data)\n",
    "\n",
    "\n",
    "j=0\n",
    "while (abs(alpha-alphaold)>1e-6):\n",
    "    alphaold=alpha\n",
    "    alpha=sum( [sum([ (i[2]-UserRaverage[i[0]]-BuzRaverage[i[1]]) for i in ubr[u]]) for u in ubr] )*1.0/len(data)\n",
    "    for u in ubr:\n",
    "        betau=sum(i[2]-alpha-BuzRaverage[i[1]] for i in ubr[u])/(lam+len(ubr[u]))\n",
    "        UserRaverage[u]=betau\n",
    "    for b in bur:\n",
    "        betab=sum(i[2]-UserRaverage[i[0]]-alpha for i in bur[b])/(lam+len(bur[b]))\n",
    "        BuzRaverage[b]=betab\n",
    "    j+=1\n",
    "\n"
   ]
  },
  {
   "cell_type": "code",
   "execution_count": 8,
   "metadata": {},
   "outputs": [
    {
     "ename": "NameError",
     "evalue": "name 'math' is not defined",
     "output_type": "error",
     "traceback": [
      "\u001b[0;31m---------------------------------------------------------------------------\u001b[0m",
      "\u001b[0;31mNameError\u001b[0m                                 Traceback (most recent call last)",
      "\u001b[0;32m<ipython-input-8-951879733999>\u001b[0m in \u001b[0;36m<module>\u001b[0;34m()\u001b[0m\n\u001b[1;32m      6\u001b[0m     \u001b[0mMSE1\u001b[0m\u001b[0;34m+=\u001b[0m \u001b[0;34m(\u001b[0m\u001b[0mr\u001b[0m \u001b[0;34m-\u001b[0m \u001b[0malpha\u001b[0m \u001b[0;34m-\u001b[0m \u001b[0mBuzRaverage\u001b[0m\u001b[0;34m[\u001b[0m\u001b[0mb\u001b[0m\u001b[0;34m]\u001b[0m \u001b[0;34m-\u001b[0m\u001b[0mUserRaverage\u001b[0m\u001b[0;34m[\u001b[0m\u001b[0mu\u001b[0m\u001b[0;34m]\u001b[0m\u001b[0;34m)\u001b[0m\u001b[0;34m**\u001b[0m\u001b[0;36m2\u001b[0m\u001b[0;34m\u001b[0m\u001b[0m\n\u001b[1;32m      7\u001b[0m \u001b[0mMSE1\u001b[0m\u001b[0;34m/=\u001b[0m\u001b[0mlen\u001b[0m\u001b[0;34m(\u001b[0m\u001b[0mdata\u001b[0m\u001b[0;34m)\u001b[0m\u001b[0;34m\u001b[0m\u001b[0m\n\u001b[0;32m----> 8\u001b[0;31m \u001b[0mMSE1\u001b[0m\u001b[0;34m=\u001b[0m\u001b[0mmath\u001b[0m\u001b[0;34m.\u001b[0m\u001b[0msqrt\u001b[0m\u001b[0;34m(\u001b[0m\u001b[0mMSE1\u001b[0m\u001b[0;34m)\u001b[0m\u001b[0;34m\u001b[0m\u001b[0m\n\u001b[0m\u001b[1;32m      9\u001b[0m \u001b[0;32mprint\u001b[0m \u001b[0;34m\"lam: \"\u001b[0m\u001b[0;34m,\u001b[0m\u001b[0mlam\u001b[0m\u001b[0;34m,\u001b[0m\u001b[0;34m'\\t'\u001b[0m\u001b[0;34m,\u001b[0m\u001b[0mj\u001b[0m\u001b[0;34m,\u001b[0m\u001b[0;34m'\\t'\u001b[0m\u001b[0;34m,\u001b[0m\u001b[0;34m\"alpha: \"\u001b[0m\u001b[0;34m,\u001b[0m\u001b[0malpha\u001b[0m\u001b[0;34m,\u001b[0m\u001b[0;34m\"\\tMSE: \"\u001b[0m\u001b[0;34m,\u001b[0m\u001b[0mMSE1\u001b[0m\u001b[0;34m\u001b[0m\u001b[0m\n",
      "\u001b[0;31mNameError\u001b[0m: name 'math' is not defined"
     ]
    }
   ],
   "source": [
    "MSE1=0\n",
    "for i in data:\n",
    "    u=UserS2N[i['userID']]\n",
    "    b=BuzS2N[i['businessID']]\n",
    "    r=i['rating']\n",
    "    MSE1+= (r - alpha - BuzRaverage[b] -UserRaverage[u])**2\n",
    "MSE1/=len(data)\n",
    "MSE1=math.sqrt(MSE1)\n",
    "print \"lam: \",lam,'\\t',j,'\\t',\"alpha: \",alpha,\"\\tMSE: \",MSE1"
   ]
  },
  {
   "cell_type": "code",
   "execution_count": 27,
   "metadata": {},
   "outputs": [
    {
     "name": "stdout",
     "output_type": "stream",
     "text": [
      "1 3.62697160518\n",
      "1 4.03788213092\n",
      "1 4.29469870205\n",
      "0 3.82819169286\n",
      "1 3.77966186143\n",
      "1 4.07635256601\n",
      "0 3.62554971221\n",
      "1 4.41190180667\n",
      "0 4.3202928927\n",
      "1 3.87102297365\n",
      "1 4.32825558809\n",
      "1 4.35376940127\n",
      "0 4.4426834473\n",
      "0 4.21417803686\n",
      "0 3.97626566821\n",
      "0 4.28324095531\n",
      "0 4.02763027263\n",
      "1 3.81634513698\n",
      "1 4.4309821432\n",
      "0 4.48187352949\n",
      "1 4.55299371942\n",
      "0 4.50766998148\n",
      "1 3.77534694104\n",
      "0 4.36683285414\n",
      "11 13\n"
     ]
    }
   ],
   "source": [
    "#noUnoB=0\n",
    "noUyesB=0\n",
    "yesUnoB=0\n",
    "predictions = open(\"predictions_Rating.txt\", 'w')\n",
    "\n",
    "for l in open(\"pairs_Rating.txt\"):\n",
    "    if l.startswith(\"userID\"):\n",
    "        #header\n",
    "        predictions.write(l)\n",
    "        continue\n",
    "    u,b = l.strip().split('-')\n",
    "    predictions.write(u + '-' + b + ',')\n",
    "#     if u not in UserS2N and b not in BuzS2N: # 0\n",
    "#         noUandB+=1\n",
    "    if u not in UserS and b in BuzS: #11\n",
    "        #tmp=sum(BuzRlist[BuzS2N[b]])*1.0/len(BuzRlist[BuzS2N[b]])\n",
    "        b = BuzS2N[b]\n",
    "        tmp=alpha+BuzRaverage[b]\n",
    "        if tmp>5:\n",
    "            tmp=5\n",
    "        predictions.write(str(tmp) + '\\n')\n",
    "        print '0',tmp\n",
    "        noUyesB+=1\n",
    "        continue\n",
    "    if u in UserS and b not in BuzS:#13\n",
    "        #tmp=sum(UserRlist[UserS2N[u]])*1.0/len(UserRlist[UserS2N[u]])\n",
    "        u = UserS2N[u]\n",
    "        tmp=alpha+UserRaverage[u]\n",
    "        if tmp>5:\n",
    "            tmp=5\n",
    "        predictions.write(str(tmp) + '\\n')  \n",
    "        print '1',tmp\n",
    "        yesUnoB+=1  \n",
    "        continue\n",
    "    \n",
    "    if u in \n",
    "    u = UserS2N[u]\n",
    "    b = BuzS2N[b]\n",
    "    tmp=alpha+UserRaverage[u]+BuzRaverage[b]\n",
    "    if tmp>5:\n",
    "        tmp=5\n",
    "    predictions.write(str(tmp) + '\\n')\n",
    "predictions.close()\n",
    "print noUyesB,yesUnoB"
   ]
  },
  {
   "cell_type": "code",
   "execution_count": null,
   "metadata": {},
   "outputs": [],
   "source": []
  },
  {
   "cell_type": "code",
   "execution_count": null,
   "metadata": {},
   "outputs": [],
   "source": []
  },
  {
   "cell_type": "code",
   "execution_count": null,
   "metadata": {},
   "outputs": [],
   "source": []
  },
  {
   "cell_type": "code",
   "execution_count": 23,
   "metadata": {},
   "outputs": [],
   "source": []
  },
  {
   "cell_type": "code",
   "execution_count": null,
   "metadata": {},
   "outputs": [],
   "source": []
  },
  {
   "cell_type": "code",
   "execution_count": null,
   "metadata": {},
   "outputs": [],
   "source": []
  },
  {
   "cell_type": "code",
   "execution_count": null,
   "metadata": {},
   "outputs": [],
   "source": []
  },
  {
   "cell_type": "code",
   "execution_count": 24,
   "metadata": {},
   "outputs": [],
   "source": []
  },
  {
   "cell_type": "code",
   "execution_count": 25,
   "metadata": {},
   "outputs": [],
   "source": []
  }
 ],
 "metadata": {
  "kernelspec": {
   "display_name": "Python 2",
   "language": "python",
   "name": "python2"
  },
  "language_info": {
   "codemirror_mode": {
    "name": "ipython",
    "version": 2
   },
   "file_extension": ".py",
   "mimetype": "text/x-python",
   "name": "python",
   "nbconvert_exporter": "python",
   "pygments_lexer": "ipython2",
   "version": "2.7.13"
  }
 },
 "nbformat": 4,
 "nbformat_minor": 2
}
