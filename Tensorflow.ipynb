{
 "cells": [
  {
   "cell_type": "code",
   "execution_count": 32,
   "metadata": {},
   "outputs": [],
   "source": [
    "import tensorflow as tf # Needs python 3.5.2\n",
    "\n",
    "# Standard imports\n",
    "import numpy\n",
    "import urllib\n",
    "import random\n",
    "from math import exp\n",
    "from math import log"
   ]
  },
  {
   "cell_type": "code",
   "execution_count": 33,
   "metadata": {},
   "outputs": [],
   "source": [
    "def parseData(fname):\n",
    "    for l in urllib.urlopen(fname):\n",
    "        yield eval(l)\n",
    "\n",
    "# Read the data (as in hw2)\n",
    "dataFile = open(\"winequality-white.csv\")\n",
    "header = dataFile.readline()"
   ]
  },
  {
   "cell_type": "code",
   "execution_count": 34,
   "metadata": {},
   "outputs": [],
   "source": [
    "fields = [\"constant\"] + header.strip().replace('\"','').split(';')"
   ]
  },
  {
   "cell_type": "code",
   "execution_count": 35,
   "metadata": {},
   "outputs": [
    {
     "data": {
      "text/plain": [
       "['constant',\n",
       " 'fixed acidity',\n",
       " 'volatile acidity',\n",
       " 'citric acid',\n",
       " 'residual sugar',\n",
       " 'chlorides',\n",
       " 'free sulfur dioxide',\n",
       " 'total sulfur dioxide',\n",
       " 'density',\n",
       " 'pH',\n",
       " 'sulphates',\n",
       " 'alcohol',\n",
       " 'quality']"
      ]
     },
     "execution_count": 35,
     "metadata": {},
     "output_type": "execute_result"
    }
   ],
   "source": [
    "fields"
   ]
  },
  {
   "cell_type": "code",
   "execution_count": 36,
   "metadata": {},
   "outputs": [],
   "source": [
    "featureNames = fields[:-1]\n",
    "labelName = fields[-1]"
   ]
  },
  {
   "cell_type": "code",
   "execution_count": 37,
   "metadata": {},
   "outputs": [],
   "source": [
    "lines = [[1.0] + [float(x) for x in l.split(';')] for l in dataFile]"
   ]
  },
  {
   "cell_type": "code",
   "execution_count": 38,
   "metadata": {},
   "outputs": [],
   "source": [
    "X = [l[:-1] for l in lines]\n",
    "y_reg = [l[-1] for l in lines]# For regression\n",
    "y_class = [1.0*(l[-1] > 5) for l in lines] # for classification"
   ]
  },
  {
   "cell_type": "markdown",
   "metadata": {},
   "source": [
    "## Basic Function:"
   ]
  },
  {
   "cell_type": "code",
   "execution_count": 15,
   "metadata": {},
   "outputs": [],
   "source": [
    "# Standard MSE in tensorflow\n",
    "def MSE(X, y, theta):\n",
    "    return tf.reduce_mean((tf.matmul(X,theta) - y)**2)\n",
    "\n",
    "# Mean-squared error with a regularizer\n",
    "def MSE_regularized(X, y, theta, lamb):\n",
    "    return tf.reduce_mean((tf.matmul(X,theta) - y)**2)\\\n",
    "            + lamb*tf.reduce_sum(theta**2)\n",
    "\n",
    "# Logistic regression\n",
    "def logreg(X, y, theta):\n",
    "    error1 = tf.multiply(y, tf.log(tf.sigmoid(tf.matmul(X,theta))))\n",
    "    error2 = tf.multiply((1-y), tf.log(1 - tf.sigmoid(tf.matmul(X,theta))))\n",
    "    return tf.reduce_sum(error1) + tf.reduce_sum(error2)\n"
   ]
  },
  {
   "cell_type": "code",
   "execution_count": 12,
   "metadata": {},
   "outputs": [],
   "source": [
    "# Create a new variable, and initialize to a vector of zeros\n",
    "theta = tf.Variable(tf.constant([0.0]*len(featureNames), shape=[len(featureNames),1]))"
   ]
  },
  {
   "cell_type": "code",
   "execution_count": 13,
   "metadata": {},
   "outputs": [],
   "source": [
    "# Stochastic gradient descent\n",
    "optimizer = tf.train.AdamOptimizer(0.01)"
   ]
  },
  {
   "cell_type": "code",
   "execution_count": 41,
   "metadata": {},
   "outputs": [],
   "source": [
    "# The objective we'll optimize is the MSE\n",
    "objective = MSE(X,y_reg,theta)"
   ]
  },
  {
   "cell_type": "code",
   "execution_count": 42,
   "metadata": {},
   "outputs": [],
   "source": [
    "# Our goal is to minimize it\n",
    "train = optimizer.minimize(objective)"
   ]
  },
  {
   "cell_type": "code",
   "execution_count": 43,
   "metadata": {},
   "outputs": [],
   "source": [
    "# Initialize our variables\n",
    "init = tf.global_variables_initializer()"
   ]
  },
  {
   "cell_type": "code",
   "execution_count": 44,
   "metadata": {},
   "outputs": [],
   "source": [
    "# Create a new optimization session\n",
    "sess = tf.Session()\n",
    "sess.run(init)"
   ]
  },
  {
   "cell_type": "code",
   "execution_count": 45,
   "metadata": {},
   "outputs": [
    {
     "name": "stdout",
     "output_type": "stream",
     "text": [
      "objective = 34.8338\n",
      "objective = 15.8163\n",
      "objective = 5.51401\n",
      "objective = 3.31064\n",
      "objective = 6.24567\n",
      "objective = 10.144\n",
      "objective = 11.9419\n",
      "objective = 11.216\n",
      "objective = 8.79905\n",
      "objective = 6.04314\n",
      "objective = 3.90953\n",
      "objective = 2.97809\n",
      "objective = 3.2338\n",
      "objective = 4.23007\n",
      "objective = 5.31062\n",
      "objective = 5.91683\n",
      "objective = 5.80879\n",
      "objective = 5.0974\n",
      "objective = 4.08306\n",
      "objective = 3.19004\n"
     ]
    }
   ],
   "source": [
    "# Run 20 iterations of gradient descent\n",
    "for iteration in range(20):\n",
    "    cvalues = sess.run([train, objective])\n",
    "    print(\"objective = \" + str(cvalues[1]))"
   ]
  },
  {
   "cell_type": "code",
   "execution_count": 46,
   "metadata": {
    "scrolled": true
   },
   "outputs": [
    {
     "name": "stdout",
     "output_type": "stream",
     "text": [
      "2.65848\n",
      "[[ 0.05076306]\n",
      " [ 0.04985048]\n",
      " [ 0.04906804]\n",
      " [ 0.04617972]\n",
      " [ 0.01758974]\n",
      " [ 0.04264234]\n",
      " [ 0.01735806]\n",
      " [ 0.02378146]\n",
      " [ 0.05060577]\n",
      " [ 0.05083761]\n",
      " [ 0.04809618]\n",
      " [ 0.05559598]]\n"
     ]
    }
   ],
   "source": [
    "# Print the outputs\n",
    "with sess.as_default():\n",
    "    print(MSE(X, y_reg, theta).eval())\n",
    "    print(theta.eval())"
   ]
  },
  {
   "cell_type": "code",
   "execution_count": null,
   "metadata": {},
   "outputs": [],
   "source": []
  }
 ],
 "metadata": {
  "kernelspec": {
   "display_name": "Python 2",
   "language": "python",
   "name": "python2"
  },
  "language_info": {
   "codemirror_mode": {
    "name": "ipython",
    "version": 2
   },
   "file_extension": ".py",
   "mimetype": "text/x-python",
   "name": "python",
   "nbconvert_exporter": "python",
   "pygments_lexer": "ipython2",
   "version": "2.7.13"
  }
 },
 "nbformat": 4,
 "nbformat_minor": 2
}
