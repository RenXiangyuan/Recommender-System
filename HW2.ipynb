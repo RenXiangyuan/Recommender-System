{
 "cells": [
  {
   "cell_type": "markdown",
   "metadata": {},
   "source": [
    "# <center>CSE 258 Fall 2017 - Homework 2<center>\n",
    "- - -\n",
    "\n",
    "## <center>Xiangyuan Ren<center>\n",
    "### <center> Department of Electrical and Computer Engineering <center>\n",
    "### <center>Email: xir010@eng.ucsd.edu <center>\n"
   ]
  },
  {
   "cell_type": "markdown",
   "metadata": {},
   "source": [
    "## Classifier evaluation \n",
    "### Answers Briefly (*Details shown in following pages*)\n",
    "* \n",
    "#### Q1:\n",
    "* Accuracy on the validation set: 0.71842563148737026\n",
    "* Accuracy on the test set: 0.72004559908801824 \n",
    "#### Q2:\n",
    "* Using new features\n",
    "* Accuracy on the validation set: 0.62590748185036305\n",
    "* Accuracy on the test set: 0.61960760784784308\n",
    "#### Q3:\n",
    "* #positives: 10254\n",
    "* #true negatives: 73\n",
    "* #false positives: 6243\n",
    "* #false negatives: 97\n",
    "* #Balanced Error Rate: 0.498906563595\n",
    "#### Q4:\n",
    "* Balanced Error Rate on the train set: 0.440505888296\n",
    "* Balanced Error Rate on the validation set: 0.444763207313\n",
    "* Balanced Error Rate on the test set: 0.433740167554\n",
    "#### Q5:\n",
    "* The best model: **$\\lambda$** == 100\n",
    "* Balanced Error Rate on the train set: 0.440827067227\n",
    "* Balanced Error Rate on the validation set: 0.444881466162\n",
    "* Balanced Error Rate on the test set: 0.432677468298\n"
   ]
  },
  {
   "cell_type": "code",
   "execution_count": 82,
   "metadata": {},
   "outputs": [],
   "source": [
    "import numpy\n",
    "import scipy.optimize\n",
    "import random\n",
    "from sklearn.decomposition import PCA\n",
    "from collections import defaultdict\n",
    "from math import exp\n",
    "from math import log\n",
    "import string\n",
    "def ParseDataFromFile(f):\n",
    "    for l in open(f):\n",
    "        yield eval(l)\n",
    "data=list(ParseDataFromFile(\"beer_50000.json\"))"
   ]
  },
  {
   "cell_type": "markdown",
   "metadata": {},
   "source": [
    "---\n",
    "## Qestion 1: \n",
    "###           Split the data into training, validation, and test sets, via 1/3, 1/3, 1/3 splits. After training on the training set, report the accuracy of the classifier on the validation and test sets\n",
    "* First, shuffle the data.\n",
    "* feature(datum): to build the feature vector like θ0 + θ1 × ‘review/taste’ + θ2 × ‘review/appearance’ + θ3 × ‘review/aroma’+θ4 × ‘review/palate’ + θ5 × ‘review/overall\n",
    "* inner(), sigmoid(), f(), frime(), train(), performance(): to use logistic regression to train and test data."
   ]
  },
  {
   "cell_type": "code",
   "execution_count": 83,
   "metadata": {},
   "outputs": [],
   "source": [
    "numpy.random.shuffle(data)            # Shuffle Data Here"
   ]
  },
  {
   "cell_type": "code",
   "execution_count": 84,
   "metadata": {},
   "outputs": [],
   "source": [
    "def feature(datum):\n",
    "    feat = [1, datum['review/taste'], datum['review/appearance'], datum['review/aroma'], \n",
    "            datum['review/palate'], datum['review/overall']]\n",
    "    return feat\n",
    "#\n",
    "\n",
    "X = [feature(d) for d in data]\n",
    "y = [d['beer/ABV']>=6.5 for d in data]\n"
   ]
  },
  {
   "cell_type": "code",
   "execution_count": 85,
   "metadata": {},
   "outputs": [],
   "source": [
    "def inner(x,y):\n",
    "    return sum([x[i]*y[i] for i in range(len(x))])\n",
    "\n",
    "def sigmoid(x):\n",
    "    return 1.0 / (1 + exp(-x))\n",
    "\n",
    "# NEGATIVE Log-likelihood\n",
    "def f(theta, X, y, lam):\n",
    "    loglikelihood = 0\n",
    "    for i in range(len(X)):\n",
    "        logit = inner(X[i], theta)\n",
    "        loglikelihood -= log(1 + exp(-logit))\n",
    "        if not y[i]:\n",
    "            loglikelihood -= logit\n",
    "    for k in range(len(theta)):\n",
    "        loglikelihood -= lam * theta[k]*theta[k]\n",
    "  # for debugging\n",
    "  # print(\"ll =\" + str(loglikelihood))\n",
    "    return -loglikelihood\n",
    "# NEGATIVE Derivative of log-likelihood\n",
    "def fprime(theta, X, y, lam):\n",
    "    dl = [0]*len(theta)\n",
    "    for i in range(len(X)):\n",
    "        logit = inner(X[i], theta)\n",
    "        for k in range(len(theta)):\n",
    "            dl[k] += X[i][k] * (1 - sigmoid(logit))\n",
    "            if not y[i]:\n",
    "                dl[k] -= X[i][k]\n",
    "    for k in range(len(theta)):\n",
    "        dl[k] -= lam*2*theta[k]\n",
    "    return numpy.array([-x for x in dl])\n",
    "\n",
    "def train(lam):\n",
    "    theta,_,_ = scipy.optimize.fmin_l_bfgs_b(f, [0]*len(X[0]), fprime, pgtol = 10, args = (X_train, y_train, lam))\n",
    "    return theta\n",
    "def performance(theta):\n",
    "    \n",
    "#     scores = [inner(theta,x) for x in X]\n",
    "#     predictions = [s > 0 for s in scores]\n",
    "#     correct = [(a==b) for (a,b) in zip(predictions,y_train)]\n",
    "#     acc = sum(correct) * 1.0 / len(correct)\n",
    "#     return acc\n",
    "    scores_train = [inner(theta,x) for x in X_train]\n",
    "    scores_validate = [inner(theta,x) for x in X_validate]\n",
    "    scores_test = [inner(theta,x) for x in X_test]\n",
    "\n",
    "    predictions_train = [s > 0 for s in scores_train]\n",
    "    predictions_validate = [s >0 for s in scores_validate]\n",
    "    predictions_test = [s > 0 for s in scores_test]\n",
    "\n",
    "    correct_train = [(a==b) for (a,b) in zip(predictions_train,y_train)]\n",
    "    correct_validate = [(a==b) for (a,b) in zip(predictions_validate,y_validate)]\n",
    "    correct_test = [(a==b) for (a,b) in zip(predictions_test,y_test)]\n",
    "  \n",
    "    acc_train = sum(correct_train) * 1.0 / len(correct_train)\n",
    "    acc_validate = sum(correct_validate) * 1.0 / len(correct_validate)\n",
    "    acc_test = sum(correct_test) * 1.0 / len(correct_test)\n",
    "    return acc_train, acc_validate, acc_test"
   ]
  },
  {
   "cell_type": "code",
   "execution_count": 86,
   "metadata": {},
   "outputs": [],
   "source": [
    "X_train = X[:int(len(X)/3)]\n",
    "y_train = y[:int(len(y)/3)]\n",
    "X_validate = X[int(len(X)/3):int(2*len(X)/3)]\n",
    "y_validate = y[int(len(y)/3):int(2*len(y)/3)]\n",
    "X_test = X[int(2*len(X)/3):]\n",
    "y_test = y[int(2*len(X)/3):]"
   ]
  },
  {
   "cell_type": "code",
   "execution_count": 87,
   "metadata": {},
   "outputs": [
    {
     "name": "stdout",
     "output_type": "stream",
     "text": [
      "theta =  [-6.01898262  0.78253351  0.41889885  0.79923473  0.63163875 -0.93382104]\n",
      "lambda = 1.0:\taccuracy=(0.71786871474858993, 0.71842563148737026, 0.72004559908801824)\n"
     ]
    }
   ],
   "source": [
    "lam = 1.0\n",
    "\n",
    "theta = train(lam)\n",
    "print \"theta = \",theta\n",
    "acc = performance(theta)\n",
    "print(\"lambda = \" + str(lam) + \":\\taccuracy=\" + str(acc))"
   ]
  },
  {
   "cell_type": "markdown",
   "metadata": {},
   "source": [
    "#### Answer Q1:\n",
    "* ( lambda is: 1.0)\n",
    "* ( theta is: [-6.01898262  0.78253351  0.41889885  0.79923473  0.63163875 -0.93382104] )\n",
    "* ( Accuracy on the training set: 0.71786871474858993 )\n",
    "* Accuracy on the validation set: 0.71842563148737026\n",
    "* Accuracy on the test set:  0.72004559908801824"
   ]
  },
  {
   "cell_type": "markdown",
   "metadata": {},
   "source": [
    "* \n",
    "* \n",
    "* \n",
    "* \n",
    "* \n",
    "* \n",
    "* \n",
    "* \n",
    "* \n",
    "* \n",
    "* \n",
    "* \n",
    "* \n",
    "* \n",
    "* \n",
    "* \n",
    "* \n",
    "* \n",
    "* \n",
    "* \n",
    "* \n",
    "* \n",
    "* \n",
    "* \n",
    "\n",
    "\n",
    "\n",
    "\n",
    "\n",
    "---\n",
    "\n",
    "\n",
    "### Q2:\n",
    "### p(positive label) = σ(θ0 + θ1 × #‘lactic’ + θ2 × #‘tart’...),\n",
    "* the feature function should be changed first\n",
    "\n",
    "```\n",
    "reviewcontent=datum['review/text'].strip().translate(None, string.punctuation).lower().split()\n",
    "\n",
    "```\n",
    "\n",
    "* Then we re-run the code again"
   ]
  },
  {
   "cell_type": "code",
   "execution_count": 88,
   "metadata": {},
   "outputs": [],
   "source": [
    "def feature(datum):\n",
    "    feat=[1]*11\n",
    "    reviewcontent=datum['review/text'].strip().translate(None, string.punctuation).lower().split()\n",
    "    featureword=[\"lactic\",\"tart\",\"sour\",\"citric\",\"sweet\",\"acid\",\"hop\",\"fruit\",\"salt\",\"spicy\"]\n",
    "    for i in range(1,11):\n",
    "        feat[i]=sum([featureword[i-1]==j for j in reviewcontent])\n",
    "    return feat"
   ]
  },
  {
   "cell_type": "code",
   "execution_count": 89,
   "metadata": {},
   "outputs": [],
   "source": [
    "def testlambda(lam):\n",
    "    theta = train(lam)\n",
    "    print \"theta = \",theta\n",
    "    acc = performance(theta)\n",
    "    print(\"lambda = \" + str(lam) + \":\\taccuracy=\" + str(acc))\n",
    "    return theta\n",
    "    "
   ]
  },
  {
   "cell_type": "code",
   "execution_count": 90,
   "metadata": {},
   "outputs": [
    {
     "name": "stdout",
     "output_type": "stream",
     "text": [
      "theta =  [ 0.34042945  0.05371304  0.48523357 -0.27661991 -0.11306548  0.23566173\n",
      "  0.03792651 -0.01502086  0.44948817 -0.08324426 -0.18300371]\n",
      "lambda = 1.0:\taccuracy=(0.62246489859594378, 0.62590748185036305, 0.61960760784784308)\n"
     ]
    }
   ],
   "source": [
    "X = [feature(d) for d in data]\n",
    "y = [d['beer/ABV']>=6.5 for d in data]\n",
    "X_train = X[:int(len(X)/3)]\n",
    "y_train = y[:int(len(y)/3)]\n",
    "X_validate = X[int(len(X)/3):int(2*len(X)/3)]\n",
    "y_validate = y[int(len(y)/3):int(2*len(y)/3)]\n",
    "X_test = X[int(2*len(X)/3):]\n",
    "y_test = y[int(2*len(X)/3):]\n",
    "\n",
    "lam = 1.0\n",
    "\n",
    "theta=testlambda(lam)"
   ]
  },
  {
   "cell_type": "markdown",
   "metadata": {},
   "source": [
    "* \n",
    "* \n",
    "* \n",
    "* \n",
    "#### Answer Q2:\n",
    "* ( lambda is: 1.0)\n",
    "* ( theta is: [ 0.34042945  0.05371304  0.48523357 -0.27661991 -0.11306548  0.23566173\n",
    "  0.03792651 -0.01502086  0.44948817 -0.08324426 -0.18300371] )\n",
    "* ( Accuracy on the training set: 0.62246489859594378 )\n",
    "* Accuracy on the validation set: 0.62590748185036305\n",
    "* Accuracy on the training set:  0.61960760784784308\n",
    "* \n",
    "* \n",
    "* \n",
    "* \n",
    "* \n",
    "* \n",
    "* \n",
    "* \n",
    "* \n",
    "* \n",
    "* \n",
    "* \n",
    "* \n",
    "* \n",
    "* \n",
    "* \n",
    "* \n",
    "* \n",
    "* \n",
    "* \n",
    "* \n",
    "* \n",
    "* \n",
    "* \n",
    "* \n",
    "* \n",
    "* \n",
    "* \n",
    "* \n",
    "* \n",
    "* \n",
    "* \n",
    "* \n",
    "* \n",
    "* \n",
    "* \n",
    "* \n",
    "* \n",
    "* \n",
    "* \n",
    "* \n",
    "* \n",
    "* \n",
    "* "
   ]
  },
  {
   "cell_type": "markdown",
   "metadata": {},
   "source": [
    "---\n",
    "### Q3:\n",
    "#### Report the number of true positives, true negatives, false positives, false negatives, and the Balanced Error Rate of the classifier on the test set\n",
    "* First design the function to test TP/FP/FN/TN/FPR/FNR/BER\n",
    "* Then run testerror() on the test set"
   ]
  },
  {
   "cell_type": "code",
   "execution_count": 91,
   "metadata": {},
   "outputs": [],
   "source": [
    "def testerror(X_test,y_test):\n",
    "    scores_test = [inner(theta,x) for x in X_test]\n",
    "    predictions_test = [s > 0 for s in scores_test]\n",
    "    TP=sum([a and b for (a,b) in zip(predictions_test,y_test)])\n",
    "    FP=sum([a and not b for (a,b) in zip(predictions_test,y_test)])\n",
    "    FN=sum([not a and b for (a,b) in zip(predictions_test,y_test)])\n",
    "    TN=sum([not a and not b for (a,b) in zip(predictions_test,y_test)])\n",
    "    FPR=FP/float(FP+TN)\n",
    "    FNR=FN/float(FN+TP)\n",
    "    BER=(FPR+FNR)/2\n",
    "    print \"TP,FP,FN,TN:\\t\",TP,FP,FN,TN\n",
    "    print \"FPR,FNR:\\t\",FPR,FNR\n",
    "    print \"BER:\\t\\t\",BER"
   ]
  },
  {
   "cell_type": "code",
   "execution_count": 92,
   "metadata": {},
   "outputs": [
    {
     "name": "stdout",
     "output_type": "stream",
     "text": [
      "TP,FP,FN,TN:\t10254 6243 97 73\n",
      "FPR,FNR:\t0.988442051932 0.00937107525843\n",
      "BER:\t\t0.498906563595\n"
     ]
    }
   ],
   "source": [
    "testerror(X_test,y_test)"
   ]
  },
  {
   "cell_type": "markdown",
   "metadata": {},
   "source": [
    "#### Answer Q3:\n",
    "* #positives: 10254\n",
    "* #true negatives: 73\n",
    "* #false positives: 6243\n",
    "* #false negatives: 97\n",
    "* #Balanced Error Rate: 0.498906563595\n",
    "* \n",
    "* \n",
    "* \n",
    "* \n",
    "* \n",
    "* \n",
    "* \n",
    "* \n",
    "* \n",
    "* "
   ]
  },
  {
   "cell_type": "markdown",
   "metadata": {},
   "source": [
    "---\n",
    "### Q4:\n",
    "#### Adjust the gradient ascent code provided such that the classifier would be approximately ‘balanced’ between the positive and negative classes\n",
    "* First change the log-likelihood based on its label (add weights to each label)\n",
    "```\n",
    "if y[i]:\n",
    "            loglikelihood -=N/float(2*Y1)* log(1 + exp(-logit))\n",
    "        if not y[i]:\n",
    "            loglikelihood -= N/float(2*Y0)*(log(1+exp(-logit))+logit)\n",
    "```\n",
    "* Then change the frime accordingly\n",
    "```\n",
    "if y[i]:\n",
    "                dl[k] +=N/float(2*Y1)* X[i][k] * (1 - sigmoid(logit))\n",
    "            if not y[i]:\n",
    "                dl[k] +=N/float(2*Y0)* X[i][k] * (1 - sigmoid(logit))\n",
    "                dl[k] -=N/float(2*Y0)* X[i][k]\n",
    "```\n",
    "* Report the Balanced Error Rate (on the train/validation/test sets) for the new classifier"
   ]
  },
  {
   "cell_type": "code",
   "execution_count": 93,
   "metadata": {},
   "outputs": [],
   "source": [
    "# NEGATIVE Log-likelihood\n",
    "def f(theta, X, y, lam):\n",
    "    N=len(y)\n",
    "    Y1=sum(y)\n",
    "    Y0=N-Y1\n",
    "    loglikelihood = 0\n",
    "    for i in range(len(X)):\n",
    "        logit = inner(X[i], theta)\n",
    "        if y[i]:\n",
    "            loglikelihood -=N/float(2*Y1)* log(1 + exp(-logit))\n",
    "        if not y[i]:\n",
    "            loglikelihood -= N/float(2*Y0)*(log(1+exp(-logit))+logit)\n",
    "    for k in range(len(theta)):\n",
    "        loglikelihood -= lam * theta[k]*theta[k]\n",
    "  # for debugging\n",
    "  # print(\"ll =\" + str(loglikelihood))\n",
    "    return -loglikelihood\n",
    "\n",
    "def fprime(theta, X, y, lam):\n",
    "    N=len(y)\n",
    "    Y1=sum(y)\n",
    "    Y0=N-Y1\n",
    "    dl = [0]*len(theta)\n",
    "    for i in range(len(X)):\n",
    "        logit = inner(X[i], theta)\n",
    "        for k in range(len(theta)):\n",
    "            if y[i]:\n",
    "                dl[k] +=N/float(2*Y1)* X[i][k] * (1 - sigmoid(logit))\n",
    "            if not y[i]:\n",
    "                dl[k] +=N/float(2*Y0)* X[i][k] * (1 - sigmoid(logit))\n",
    "                dl[k] -=N/float(2*Y0)* X[i][k]\n",
    "    for k in range(len(theta)):\n",
    "        dl[k] -= lam*2*theta[k]\n",
    "    return numpy.array([-x for x in dl])\n",
    "def train(lam):\n",
    "    theta,_,_ = scipy.optimize.fmin_l_bfgs_b(f, [0]*len(X[0]), fprime, pgtol = 10, args = (X_train, y_train, lam))\n",
    "    return theta"
   ]
  },
  {
   "cell_type": "code",
   "execution_count": 94,
   "metadata": {},
   "outputs": [
    {
     "name": "stdout",
     "output_type": "stream",
     "text": [
      "theta =  [-0.15741912  0.06659128  0.52613262 -0.26389162 -0.13014552  0.23019588\n",
      "  0.04661892 -0.01709154  0.43591598 -0.10288322 -0.16390937]\n",
      "lambda = 1.0:\taccuracy=(0.53288131525261007, 0.52732945341093174, 0.53986920261594773)\n"
     ]
    }
   ],
   "source": [
    "lam = 1.0\n",
    "\n",
    "theta=testlambda(lam)\n",
    "# theta = train(lam)\n",
    "# acc = performance(theta)\n",
    "# print(\"lambda = \" + str(lam) + \":\\taccuracy=\" + str(acc))"
   ]
  },
  {
   "cell_type": "code",
   "execution_count": 95,
   "metadata": {},
   "outputs": [
    {
     "name": "stdout",
     "output_type": "stream",
     "text": [
      "TRAIN:\n",
      "TP,FP,FN,TN:\t4675 2088 5697 4206\n",
      "FPR,FNR:\t0.331744518589 0.549267258002\n",
      "BER:\t\t0.440505888296\n"
     ]
    }
   ],
   "source": [
    "print \"TRAIN:\"\n",
    "testerror(X_train,y_train)"
   ]
  },
  {
   "cell_type": "code",
   "execution_count": 96,
   "metadata": {},
   "outputs": [
    {
     "name": "stdout",
     "output_type": "stream",
     "text": [
      "VALIDATE:\n",
      "TP,FP,FN,TN:\t4650 2082 5796 4139\n",
      "FPR,FNR:\t0.334672882173 0.554853532453\n",
      "BER:\t\t0.444763207313\n"
     ]
    }
   ],
   "source": [
    "print \"VALIDATE:\"\n",
    "testerror(X_validate,y_validate)"
   ]
  },
  {
   "cell_type": "code",
   "execution_count": 97,
   "metadata": {},
   "outputs": [
    {
     "name": "stdout",
     "output_type": "stream",
     "text": [
      "TEST:\n",
      "TP,FP,FN,TN:\t4733 2051 5618 4265\n",
      "FPR,FNR:\t0.324730842305 0.542749492803\n",
      "BER:\t\t0.433740167554\n"
     ]
    }
   ],
   "source": [
    "print \"TEST:\"\n",
    "testerror(X_test,y_test)"
   ]
  },
  {
   "cell_type": "markdown",
   "metadata": {},
   "source": [
    "#### Answer Q4:\n",
    "* Balanced Error Rate on the train set: 0.440505888296\n",
    "* Balanced Error Rate on the validation set: 0.444763207313\n",
    "* Balanced Error Rate on the test set: 0.433740167554\n",
    "* \n",
    "* \n",
    "* \n",
    "* \n",
    "* \n",
    "* \n",
    "* \n",
    "* \n",
    "* \n",
    "* \n",
    "* \n",
    "* \n",
    "* \n",
    "* \n",
    "* \n",
    "* \n",
    "* \n",
    "* \n"
   ]
  },
  {
   "cell_type": "markdown",
   "metadata": {},
   "source": [
    "---\n",
    "### Q5:\n",
    "####  Implement a training/validation/test pipeline so that you can select the best model based on its perfor- mance on the validation set.\n",
    "* Run logistic-regressor on all the $\\lambda$\n",
    "* Pick the best $\\lambda$, which has best performance"
   ]
  },
  {
   "cell_type": "code",
   "execution_count": 98,
   "metadata": {},
   "outputs": [
    {
     "name": "stdout",
     "output_type": "stream",
     "text": [
      "theta =  [-0.15783973  0.06778283  0.53295583 -0.26693821 -0.13215964  0.23036407\n",
      "  0.04743829 -0.01692134  0.43740362 -0.10470616 -0.16447784]\n",
      "lambda = 0:\taccuracy=(0.53282131285251411, 0.52738945221095579, 0.53986920261594773)\n",
      "\n",
      "theta =  [-0.1578355   0.06777073  0.53288658 -0.26690732 -0.13213921  0.23036239\n",
      "  0.04742998 -0.01692307  0.43738865 -0.10468766 -0.16447212]\n",
      "lambda = 0.01:\taccuracy=(0.53282131285251411, 0.52738945221095579, 0.53986920261594773)\n",
      "\n",
      "theta =  [-0.15779741  0.06766208  0.53226426 -0.2666297  -0.13195561  0.23034727\n",
      "  0.04735527 -0.01693856  0.43725396 -0.10452145 -0.16442071]\n",
      "lambda = 0.1:\taccuracy=(0.53282131285251411, 0.52738945221095579, 0.53986920261594773)\n",
      "\n",
      "theta =  [-0.15741912  0.06659128  0.52613262 -0.26389162 -0.13014552  0.23019588\n",
      "  0.04661892 -0.01709154  0.43591598 -0.10288322 -0.16390937]\n",
      "lambda = 1:\taccuracy=(0.53288131525261007, 0.52732945341093174, 0.53986920261594773)\n",
      "\n",
      "theta =  [-0.12910281  0.02039949  0.24784724 -0.12986642 -0.04861796  0.21283683\n",
      "  0.01472938 -0.02318686  0.34009174 -0.03182648 -0.12248925]\n",
      "lambda = 100:\taccuracy=(0.53318132725309009, 0.52762944741105178, 0.54118917621647566)\n",
      "\n"
     ]
    }
   ],
   "source": [
    "for lam in [0,0.01,0.1,1,100]:\n",
    "    theta=testlambda(lam)\n",
    "    print"
   ]
  },
  {
   "cell_type": "markdown",
   "metadata": {},
   "source": [
    "---\n",
    "#### When lambda=100, I have best performance on  validation set, which is 0.52762944741105178. So, I pick it as my best model\n"
   ]
  },
  {
   "cell_type": "code",
   "execution_count": 100,
   "metadata": {},
   "outputs": [
    {
     "name": "stdout",
     "output_type": "stream",
     "text": [
      "theta =  [-0.12910281  0.02039949  0.24784724 -0.12986642 -0.04861796  0.21283683\n",
      "  0.01472938 -0.02318686  0.34009174 -0.03182648 -0.12248925]\n",
      "lambda = 100:\taccuracy=(0.53318132725309009, 0.52762944741105178, 0.54118917621647566)\n",
      "TRAIN:\n",
      "TP,FP,FN,TN:\t4698 2106 5674 4188\n",
      "FPR,FNR:\t0.334604385129 0.547049749325\n",
      "BER:\t\t0.440827067227\n",
      "VALIDATE:\n",
      "TP,FP,FN,TN:\t4666 2093 5780 4128\n",
      "FPR,FNR:\t0.336441086642 0.553321845683\n",
      "BER:\t\t0.444881466162\n",
      "TEST:\n",
      "TP,FP,FN,TN:\t4755 2051 5596 4265\n",
      "FPR,FNR:\t0.324730842305 0.54062409429\n",
      "BER:\t\t0.432677468298\n"
     ]
    }
   ],
   "source": [
    "theta=testlambda(100)\n",
    "print \"TRAIN:\"\n",
    "testerror(X_train,y_train)\n",
    "print \"VALIDATE:\"\n",
    "testerror(X_validate,y_validate)\n",
    "print \"TEST:\"\n",
    "testerror(X_test,y_test)"
   ]
  },
  {
   "cell_type": "markdown",
   "metadata": {},
   "source": [
    "#### Q5:\n",
    "* The best model: **$\\lambda$** == 100\n",
    "* Balanced Error Rate on the train set: 0.440827067227\n",
    "* Balanced Error Rate on the validation set: 0.444881466162\n",
    "* Balanced Error Rate on the test set: 0.432677468298"
   ]
  },
  {
   "cell_type": "markdown",
   "metadata": {},
   "source": [
    "* \n",
    "* \n",
    "* \n",
    "* \n",
    "* \n",
    "* \n",
    "* \n",
    "* \n",
    "* \n",
    "* \n",
    "* \n",
    "* \n",
    "* \n",
    "* \n",
    "* \n",
    "* \n",
    "* \n",
    "* \n",
    "* \n",
    "* \n",
    "* \n",
    "* \n",
    "* \n",
    "* \n",
    "\n",
    "---\n",
    "## Part II: Dimensionality reduction\n",
    "### Q6:\n",
    "#### Find and report the PCA components \n",
    "* First get the 10-d data:\n",
    "```\n",
    "X10d=[x[1:] for x in X]\n",
    "```\n",
    "* Then report PCA for 1-10components"
   ]
  },
  {
   "cell_type": "code",
   "execution_count": 30,
   "metadata": {},
   "outputs": [],
   "source": [
    "X10d=[x[1:] for x in X]"
   ]
  },
  {
   "cell_type": "code",
   "execution_count": 31,
   "metadata": {},
   "outputs": [
    {
     "data": {
      "text/plain": [
       "([0, 0, 0, 0, 0, 0, 3, 0, 0, 0], [1, 0, 0, 0, 0, 0, 0, 3, 0, 0, 0])"
      ]
     },
     "execution_count": 31,
     "metadata": {},
     "output_type": "execute_result"
    }
   ],
   "source": [
    "X10d[0],X[0]"
   ]
  },
  {
   "cell_type": "code",
   "execution_count": 108,
   "metadata": {},
   "outputs": [
    {
     "name": "stdout",
     "output_type": "stream",
     "text": [
      "When n_components= 1 \n",
      "[[  3.84781897e-04   2.93550360e-02   9.41570014e-03   3.70747587e-03\n",
      "    9.76398248e-01  -4.53936670e-05   1.95730560e-01   8.29094610e-02\n",
      "    2.87235246e-05   2.23105359e-02]] \n",
      "\n",
      "When n_components= 2 \n",
      "[[  3.84781897e-04   2.93550360e-02   9.41570014e-03   3.70747587e-03\n",
      "    9.76398248e-01  -4.53936670e-05   1.95730560e-01   8.29094610e-02\n",
      "    2.87235246e-05   2.23105359e-02]\n",
      " [ -8.73841023e-04  -2.12881276e-02  -1.52948443e-02   1.62711131e-02\n",
      "   -1.96510401e-01   3.68488368e-04   9.79233491e-01   5.07531808e-04\n",
      "    1.50338567e-04   3.91457090e-02]] \n",
      "\n",
      "When n_components= 3 \n",
      "[[  3.84781897e-04   2.93550360e-02   9.41570014e-03   3.70747587e-03\n",
      "    9.76398248e-01  -4.53936670e-05   1.95730560e-01   8.29094610e-02\n",
      "    2.87235246e-05   2.23105359e-02]\n",
      " [ -8.73841023e-04  -2.12881276e-02  -1.52948443e-02   1.62711131e-02\n",
      "   -1.96510401e-01   3.68488368e-04   9.79233491e-01   5.07531808e-04\n",
      "    1.50338567e-04   3.91457090e-02]\n",
      " [  1.07750032e-03   1.27386243e-01   7.54590139e-02   2.78797250e-03\n",
      "   -8.54409326e-02   1.01260929e-03  -1.36862786e-02   9.85179240e-01\n",
      "    4.48334945e-04  -1.70882783e-03]] \n",
      "\n",
      "When n_components= 4 \n",
      "[[  3.84781897e-04   2.93550360e-02   9.41570014e-03   3.70747587e-03\n",
      "    9.76398248e-01  -4.53936670e-05   1.95730560e-01   8.29094610e-02\n",
      "    2.87235246e-05   2.23105359e-02]\n",
      " [ -8.73841023e-04  -2.12881276e-02  -1.52948443e-02   1.62711131e-02\n",
      "   -1.96510401e-01   3.68488368e-04   9.79233491e-01   5.07531808e-04\n",
      "    1.50338567e-04   3.91457090e-02]\n",
      " [  1.07750032e-03   1.27386243e-01   7.54590139e-02   2.78797250e-03\n",
      "   -8.54409326e-02   1.01260929e-03  -1.36862786e-02   9.85179240e-01\n",
      "    4.48334945e-04  -1.70882783e-03]\n",
      " [ -4.51179020e-04   7.82751883e-03   7.28227279e-03   1.46779738e-02\n",
      "   -1.44595393e-02  -3.72728740e-04  -4.27895653e-02  -1.72687872e-03\n",
      "    7.30775673e-04   9.98812481e-01]] \n",
      "\n"
     ]
    }
   ],
   "source": [
    "for i in range(1,4+1):\n",
    "    pca = PCA(n_components=i)\n",
    "    pca.fit(X10d)\n",
    "    print \"When n_components=\",i,'\\n',pca.components_,'\\n'\n"
   ]
  },
  {
   "cell_type": "code",
   "execution_count": 110,
   "metadata": {},
   "outputs": [
    {
     "name": "stdout",
     "output_type": "stream",
     "text": [
      "When n_components= 5 \n",
      "[[  3.84781897e-04   2.93550360e-02   9.41570014e-03   3.70747587e-03\n",
      "    9.76398248e-01  -4.53936670e-05   1.95730560e-01   8.29094610e-02\n",
      "    2.87235246e-05   2.23105359e-02]\n",
      " [ -8.73841023e-04  -2.12881276e-02  -1.52948443e-02   1.62711131e-02\n",
      "   -1.96510401e-01   3.68488368e-04   9.79233491e-01   5.07531808e-04\n",
      "    1.50338567e-04   3.91457090e-02]\n",
      " [  1.07750032e-03   1.27386243e-01   7.54590139e-02   2.78797250e-03\n",
      "   -8.54409326e-02   1.01260929e-03  -1.36862786e-02   9.85179240e-01\n",
      "    4.48334945e-04  -1.70882783e-03]\n",
      " [ -4.51179020e-04   7.82751883e-03   7.28227279e-03   1.46779738e-02\n",
      "   -1.44595393e-02  -3.72728740e-04  -4.27895653e-02  -1.72687872e-03\n",
      "    7.30775673e-04   9.98812481e-01]\n",
      " [  1.39047801e-02   6.11500916e-01   7.77931329e-01   1.13638384e-02\n",
      "   -1.82411489e-02   6.37557442e-03   2.20844753e-02  -1.40001081e-01\n",
      "    1.37120014e-03  -1.01834248e-02]] \n",
      "\n",
      "When n_components= 6 \n",
      "[[  3.84781897e-04   2.93550360e-02   9.41570014e-03   3.70747587e-03\n",
      "    9.76398248e-01  -4.53936670e-05   1.95730560e-01   8.29094610e-02\n",
      "    2.87235246e-05   2.23105359e-02]\n",
      " [ -8.73841023e-04  -2.12881276e-02  -1.52948443e-02   1.62711131e-02\n",
      "   -1.96510401e-01   3.68488368e-04   9.79233491e-01   5.07531808e-04\n",
      "    1.50338567e-04   3.91457090e-02]\n",
      " [  1.07750032e-03   1.27386243e-01   7.54590139e-02   2.78797250e-03\n",
      "   -8.54409326e-02   1.01260929e-03  -1.36862786e-02   9.85179240e-01\n",
      "    4.48334945e-04  -1.70882783e-03]\n",
      " [ -4.51179020e-04   7.82751883e-03   7.28227279e-03   1.46779738e-02\n",
      "   -1.44595393e-02  -3.72728740e-04  -4.27895653e-02  -1.72687872e-03\n",
      "    7.30775673e-04   9.98812481e-01]\n",
      " [  1.39047801e-02   6.11500916e-01   7.77931329e-01   1.13638384e-02\n",
      "   -1.82411489e-02   6.37557442e-03   2.20844753e-02  -1.40001081e-01\n",
      "    1.37120014e-03  -1.01834248e-02]\n",
      " [ -4.03744089e-04  -7.79885511e-01   6.23370361e-01  -5.51135085e-03\n",
      "    1.37075104e-02  -1.16422329e-03  -4.47316463e-03   5.42423779e-02\n",
      "   -1.69982762e-03   1.74908365e-03]] \n",
      "\n",
      "When n_components= 7 \n",
      "[[  3.84781897e-04   2.93550360e-02   9.41570014e-03   3.70747587e-03\n",
      "    9.76398248e-01  -4.53936670e-05   1.95730560e-01   8.29094610e-02\n",
      "    2.87235246e-05   2.23105359e-02]\n",
      " [ -8.73841023e-04  -2.12881276e-02  -1.52948443e-02   1.62711131e-02\n",
      "   -1.96510401e-01   3.68488368e-04   9.79233491e-01   5.07531808e-04\n",
      "    1.50338567e-04   3.91457090e-02]\n",
      " [  1.07750032e-03   1.27386243e-01   7.54590139e-02   2.78797250e-03\n",
      "   -8.54409326e-02   1.01260929e-03  -1.36862786e-02   9.85179240e-01\n",
      "    4.48334945e-04  -1.70882783e-03]\n",
      " [ -4.51179020e-04   7.82751883e-03   7.28227279e-03   1.46779738e-02\n",
      "   -1.44595393e-02  -3.72728740e-04  -4.27895653e-02  -1.72687872e-03\n",
      "    7.30775673e-04   9.98812481e-01]\n",
      " [  1.39047801e-02   6.11500916e-01   7.77931329e-01   1.13638384e-02\n",
      "   -1.82411489e-02   6.37557442e-03   2.20844753e-02  -1.40001081e-01\n",
      "    1.37120014e-03  -1.01834248e-02]\n",
      " [ -4.03744089e-04  -7.79885511e-01   6.23370361e-01  -5.51135085e-03\n",
      "    1.37075104e-02  -1.16422329e-03  -4.47316463e-03   5.42423779e-02\n",
      "   -1.69982762e-03   1.74908365e-03]\n",
      " [  4.02303337e-03  -1.15707251e-02  -5.59667233e-03   9.99611141e-01\n",
      "    3.13336301e-04   9.84579602e-03  -1.62758636e-02  -1.14421414e-03\n",
      "    6.53824555e-04  -1.52479220e-02]] \n",
      "\n"
     ]
    }
   ],
   "source": [
    "for i in range(5,7+1):\n",
    "    pca = PCA(n_components=i)\n",
    "    pca.fit(X10d)\n",
    "    print \"When n_components=\",i,'\\n',pca.components_,'\\n'\n"
   ]
  },
  {
   "cell_type": "code",
   "execution_count": 111,
   "metadata": {},
   "outputs": [
    {
     "name": "stdout",
     "output_type": "stream",
     "text": [
      "When n_components= 8 \n",
      "[[  3.84781897e-04   2.93550360e-02   9.41570014e-03   3.70747587e-03\n",
      "    9.76398248e-01  -4.53936670e-05   1.95730560e-01   8.29094610e-02\n",
      "    2.87235246e-05   2.23105359e-02]\n",
      " [ -8.73841023e-04  -2.12881276e-02  -1.52948443e-02   1.62711131e-02\n",
      "   -1.96510401e-01   3.68488368e-04   9.79233491e-01   5.07531808e-04\n",
      "    1.50338567e-04   3.91457090e-02]\n",
      " [  1.07750032e-03   1.27386243e-01   7.54590139e-02   2.78797250e-03\n",
      "   -8.54409326e-02   1.01260929e-03  -1.36862786e-02   9.85179240e-01\n",
      "    4.48334945e-04  -1.70882783e-03]\n",
      " [ -4.51179020e-04   7.82751883e-03   7.28227279e-03   1.46779738e-02\n",
      "   -1.44595393e-02  -3.72728740e-04  -4.27895653e-02  -1.72687872e-03\n",
      "    7.30775673e-04   9.98812481e-01]\n",
      " [  1.39047801e-02   6.11500916e-01   7.77931329e-01   1.13638384e-02\n",
      "   -1.82411489e-02   6.37557442e-03   2.20844753e-02  -1.40001081e-01\n",
      "    1.37120014e-03  -1.01834248e-02]\n",
      " [ -4.03744089e-04  -7.79885511e-01   6.23370361e-01  -5.51135085e-03\n",
      "    1.37075104e-02  -1.16422329e-03  -4.47316463e-03   5.42423779e-02\n",
      "   -1.69982762e-03   1.74908365e-03]\n",
      " [  4.02303337e-03  -1.15707251e-02  -5.59667233e-03   9.99611141e-01\n",
      "    3.13336301e-04   9.84579602e-03  -1.62758636e-02  -1.14421414e-03\n",
      "    6.53824555e-04  -1.52479220e-02]\n",
      " [  9.94092033e-01  -9.38302334e-03  -1.10326770e-02  -5.20118822e-03\n",
      "   -1.68472241e-04   1.07160210e-01   4.94021992e-04   8.72664903e-04\n",
      "   -7.70175338e-03   7.45310085e-04]] \n",
      "\n",
      "When n_components= 9 \n",
      "[[  3.84781897e-04   2.93550360e-02   9.41570014e-03   3.70747587e-03\n",
      "    9.76398248e-01  -4.53936670e-05   1.95730560e-01   8.29094610e-02\n",
      "    2.87235246e-05   2.23105359e-02]\n",
      " [ -8.73841023e-04  -2.12881276e-02  -1.52948443e-02   1.62711131e-02\n",
      "   -1.96510401e-01   3.68488368e-04   9.79233491e-01   5.07531808e-04\n",
      "    1.50338567e-04   3.91457090e-02]\n",
      " [  1.07750032e-03   1.27386243e-01   7.54590139e-02   2.78797250e-03\n",
      "   -8.54409326e-02   1.01260929e-03  -1.36862786e-02   9.85179240e-01\n",
      "    4.48334945e-04  -1.70882783e-03]\n",
      " [ -4.51179020e-04   7.82751883e-03   7.28227279e-03   1.46779738e-02\n",
      "   -1.44595393e-02  -3.72728740e-04  -4.27895653e-02  -1.72687872e-03\n",
      "    7.30775673e-04   9.98812481e-01]\n",
      " [  1.39047801e-02   6.11500916e-01   7.77931329e-01   1.13638384e-02\n",
      "   -1.82411489e-02   6.37557442e-03   2.20844753e-02  -1.40001081e-01\n",
      "    1.37120014e-03  -1.01834248e-02]\n",
      " [ -4.03744089e-04  -7.79885511e-01   6.23370361e-01  -5.51135085e-03\n",
      "    1.37075104e-02  -1.16422329e-03  -4.47316463e-03   5.42423779e-02\n",
      "   -1.69982762e-03   1.74908365e-03]\n",
      " [  4.02303337e-03  -1.15707251e-02  -5.59667233e-03   9.99611141e-01\n",
      "    3.13336301e-04   9.84579602e-03  -1.62758636e-02  -1.14421414e-03\n",
      "    6.53824555e-04  -1.52479220e-02]\n",
      " [  9.94092033e-01  -9.38302334e-03  -1.10326770e-02  -5.20118822e-03\n",
      "   -1.68472241e-04   1.07160210e-01   4.94021992e-04   8.72664903e-04\n",
      "   -7.70175338e-03   7.45310085e-04]\n",
      " [  8.82766450e-03  -2.24670412e-03  -9.12067230e-05  -6.28236833e-04\n",
      "    9.33155012e-05  -1.02566013e-02  -1.34473067e-04  -1.49885078e-04\n",
      "    9.99905432e-01  -7.08580114e-04]] \n",
      "\n",
      "When n_components= 10 \n",
      "[[  3.84781897e-04   2.93550360e-02   9.41570014e-03   3.70747587e-03\n",
      "    9.76398248e-01  -4.53936670e-05   1.95730560e-01   8.29094610e-02\n",
      "    2.87235246e-05   2.23105359e-02]\n",
      " [ -8.73841023e-04  -2.12881276e-02  -1.52948443e-02   1.62711131e-02\n",
      "   -1.96510401e-01   3.68488368e-04   9.79233491e-01   5.07531808e-04\n",
      "    1.50338567e-04   3.91457090e-02]\n",
      " [  1.07750032e-03   1.27386243e-01   7.54590139e-02   2.78797250e-03\n",
      "   -8.54409326e-02   1.01260929e-03  -1.36862786e-02   9.85179240e-01\n",
      "    4.48334945e-04  -1.70882783e-03]\n",
      " [ -4.51179020e-04   7.82751883e-03   7.28227279e-03   1.46779738e-02\n",
      "   -1.44595393e-02  -3.72728740e-04  -4.27895653e-02  -1.72687872e-03\n",
      "    7.30775673e-04   9.98812481e-01]\n",
      " [  1.39047801e-02   6.11500916e-01   7.77931329e-01   1.13638384e-02\n",
      "   -1.82411489e-02   6.37557442e-03   2.20844753e-02  -1.40001081e-01\n",
      "    1.37120014e-03  -1.01834248e-02]\n",
      " [ -4.03744089e-04  -7.79885511e-01   6.23370361e-01  -5.51135085e-03\n",
      "    1.37075104e-02  -1.16422329e-03  -4.47316463e-03   5.42423779e-02\n",
      "   -1.69982762e-03   1.74908365e-03]\n",
      " [  4.02303337e-03  -1.15707251e-02  -5.59667233e-03   9.99611141e-01\n",
      "    3.13336301e-04   9.84579602e-03  -1.62758636e-02  -1.14421414e-03\n",
      "    6.53824555e-04  -1.52479220e-02]\n",
      " [  9.94092033e-01  -9.38302334e-03  -1.10326770e-02  -5.20118822e-03\n",
      "   -1.68472241e-04   1.07160210e-01   4.94021992e-04   8.72664903e-04\n",
      "   -7.70175338e-03   7.45310085e-04]\n",
      " [  8.82766450e-03  -2.24670412e-03  -9.12067230e-05  -6.28236833e-04\n",
      "    9.33155012e-05  -1.02566013e-02  -1.34473067e-04  -1.49885078e-04\n",
      "    9.99905432e-01  -7.08580114e-04]\n",
      " [ -1.07196716e-01  -3.84980557e-03  -3.08335266e-03  -9.42855330e-03\n",
      "    3.48092236e-04   9.94118326e-01  -3.96451954e-04  -1.23443833e-04\n",
      "    1.11290158e-02   4.93461116e-04]] \n",
      "\n"
     ]
    }
   ],
   "source": [
    "for i in range(8,10+1):\n",
    "    pca = PCA(n_components=i)\n",
    "    pca.fit(X10d)\n",
    "    print \"When n_components=\",i,'\\n',pca.components_,'\\n'\n"
   ]
  },
  {
   "cell_type": "markdown",
   "metadata": {},
   "source": [
    "* \n",
    "* \n",
    "* \n",
    "* \n",
    "* \n",
    "* \n",
    "* \n",
    "* \n",
    "* \n",
    "* \n",
    "* \n",
    "* \n",
    "* \n",
    "* \n",
    "* \n",
    "* \n",
    "* \n",
    "* \n",
    "* \n",
    "* \n",
    "* \n",
    "* \n",
    "* \n",
    "* \n",
    "* \n",
    "* \n",
    "* \n",
    "* \n",
    "---\n",
    "### Q7:\n",
    "#### Suppose we want to compress the data using just two PCA dimensions. How large is the reconstruction error when doing so\n",
    "* Get the 2-d data and the reconstruction:\n",
    "```\n",
    "X_train_pca = pca.transform(X10d)\n",
    "X_projected = pca.inverse_transform(X_train_pca)\n",
    "```\n",
    "* Calculate the reconstruction error\n",
    "```\n",
    "loss = ((X10d - X_projected) ** 2).mean()\n",
    "```"
   ]
  },
  {
   "cell_type": "code",
   "execution_count": 115,
   "metadata": {},
   "outputs": [
    {
     "name": "stdout",
     "output_type": "stream",
     "text": [
      "1.56068615804e-31\n"
     ]
    }
   ],
   "source": [
    "X_train_pca = pca.transform(X10d)\n",
    "X_projected = pca.inverse_transform(X_train_pca)\n",
    "loss = ((X10d - X_projected) ** 2).mean()\n",
    "print loss"
   ]
  },
  {
   "cell_type": "markdown",
   "metadata": {},
   "source": [
    "#### Answer Q7:\n",
    "* the reconstruction error is: 1.56068615804e-31"
   ]
  },
  {
   "cell_type": "markdown",
   "metadata": {},
   "source": [
    "* \n",
    "* \n",
    "* \n",
    "* \n",
    "* \n",
    "* \n",
    "* \n",
    "* \n",
    "* \n",
    "* \n",
    "* \n",
    "* \n",
    "* \n",
    "* \n",
    "* \n",
    "\n",
    "* \n",
    "* \n",
    "* \n",
    "* \n",
    "* \n",
    "* \n",
    "* \n",
    "\n",
    "---\n",
    "### Q8:\n",
    "#### make a 2-d scatterplot showing the difference between ‘American IPA’ style beers versus all other styles* Get the 2-d data and the reconstruction:\n",
    "* First split the 2-d into X and Y:\n",
    "```\n",
    "x =X_train_pca[:,0]  \n",
    "y =X_train_pca[:,1] \n",
    "```\n",
    "* Then get the color according to its label\n",
    "```\n",
    "cValue = []\n",
    "for i in C:\n",
    "    if i==1:\n",
    "        cValue.append('r')\n",
    "    else:\n",
    "        cValue.append('b')\n",
    "```\n",
    "* Using **matplotlib.pyplot** to plot"
   ]
  },
  {
   "cell_type": "code",
   "execution_count": 123,
   "metadata": {},
   "outputs": [
    {
     "data": {
      "image/png": "[encoded data removed]",
      "text/plain": [
       "<matplotlib.figure.Figure at 0x11b30ecd0>"
      ]
     },
     "metadata": {},
     "output_type": "display_data"
    }
   ],
   "source": [
    "import matplotlib.pyplot as plt\n",
    "x =X_train_pca[:,0]  \n",
    "y =X_train_pca[:,1] \n",
    "C=[0]*50000\n",
    "for i in range(50000):\n",
    "    if data[i]['beer/style']== 'American IPA':\n",
    "        C[i]=1\n",
    "fig = plt.figure()  \n",
    "ax1 = fig.add_subplot(111)  \n",
    "\n",
    "ax1.set_title('Plotting American IPA v.s. others')  \n",
    "plt.xlabel('X')  \n",
    "plt.ylabel('Y')  \n",
    "\n",
    "cValue = []\n",
    "for i in C:\n",
    "    if i==1:\n",
    "        cValue.append('r')\n",
    "    else:\n",
    "        cValue.append('b')\n",
    "\n",
    "ax1.scatter(x,y,c=cValue,marker='.')   \n",
    "plt.show() "
   ]
  }
 ],
 "metadata": {
  "kernelspec": {
   "display_name": "Python 2",
   "language": "python",
   "name": "python2"
  },
  "language_info": {
   "codemirror_mode": {
    "name": "ipython",
    "version": 2
   },
   "file_extension": ".py",
   "mimetype": "text/x-python",
   "name": "python",
   "nbconvert_exporter": "python",
   "pygments_lexer": "ipython2",
   "version": "2.7.13"
  }
 },
 "nbformat": 4,
 "nbformat_minor": 2
}
