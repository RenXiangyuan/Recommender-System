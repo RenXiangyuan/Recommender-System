{
 "cells": [
  {
   "cell_type": "markdown",
   "metadata": {},
   "source": [
    "# <center>CSE 258 Fall 2017 - Homework 2<center>\n",
    "- - -\n",
    "\n",
    "## <center>Xiangyuan Ren<center>\n",
    "### <center> Department of Electrical and Computer Engineering <center>\n",
    "### <center>Email: xir010@eng.ucsd.edu <center>\n"
   ]
  },
  {
   "cell_type": "markdown",
   "metadata": {},
   "source": [
    "## Classifier evaluation \n",
    "### Answers Briefly with shuffle \n",
    "### (*Answers without shuffle are shown in following pages*)\n",
    "* \n",
    "#### Q1:\n",
    "* Accuracy on the validation set: 0.71842563148737026\n",
    "* Accuracy on the test set: 0.72004559908801824 \n",
    "#### Q2:\n",
    "* Using new features\n",
    "* Accuracy on the validation set: 0.62590748185036305\n",
    "* Accuracy on the test set: 0.61960760784784308\n",
    "#### Q3:\n",
    "* #positives: 10254\n",
    "* #true negatives: 73\n",
    "* #false positives: 6243\n",
    "* #false negatives: 97\n",
    "* #Balanced Error Rate: 0.498906563595\n",
    "#### Q4:\n",
    "* Balanced Error Rate on the train set: 0.440505888296\n",
    "* Balanced Error Rate on the validation set: 0.444763207313\n",
    "* Balanced Error Rate on the test set: 0.433740167554\n",
    "#### Q5:\n",
    "* The best model: **$\\lambda$** == 100\n",
    "* Balanced Error Rate on the train set: 0.440827067227\n",
    "* Balanced Error Rate on the validation set: 0.444881466162\n",
    "* Balanced Error Rate on the test set: 0.432677468298\n"
   ]
  },
  {
   "cell_type": "code",
   "execution_count": 1,
   "metadata": {},
   "outputs": [],
   "source": [
    "import numpy\n",
    "import scipy.optimize\n",
    "import random\n",
    "from sklearn.decomposition import PCA\n",
    "from collections import defaultdict\n",
    "from math import exp\n",
    "from math import log\n",
    "import string\n",
    "def ParseDataFromFile(f):\n",
    "    for l in open(f):\n",
    "        yield eval(l)\n",
    "data=list(ParseDataFromFile(\"beer_50000.json\"))"
   ]
  },
  {
   "cell_type": "markdown",
   "metadata": {},
   "source": [
    "---\n",
    "## Qestion 1: \n",
    "###           Split the data into training, validation, and test sets, via 1/3, 1/3, 1/3 splits. After training on the training set, report the accuracy of the classifier on the validation and test sets\n",
    "* No shuffle data.\n",
    "* feature(datum): to build the feature vector like θ0 + θ1 × ‘review/taste’ + θ2 × ‘review/appearance’ + θ3 × ‘review/aroma’+θ4 × ‘review/palate’ + θ5 × ‘review/overall\n",
    "* inner(), sigmoid(), f(), frime(), train(), performance(): to use logistic regression to train and test data."
   ]
  },
  {
   "cell_type": "code",
   "execution_count": 91,
   "metadata": {},
   "outputs": [],
   "source": [
    "#numpy.random.shuffle(data)            # Shuffle Data Here"
   ]
  },
  {
   "cell_type": "code",
   "execution_count": 2,
   "metadata": {},
   "outputs": [],
   "source": [
    "def feature(datum):\n",
    "    feat = [1, datum['review/taste'], datum['review/appearance'], datum['review/aroma'], \n",
    "            datum['review/palate'], datum['review/overall']]\n",
    "    return feat\n",
    "#\n",
    "\n",
    "X = [feature(d) for d in data]\n",
    "y = [d['beer/ABV']>=6.5 for d in data]\n"
   ]
  },
  {
   "cell_type": "code",
   "execution_count": 3,
   "metadata": {},
   "outputs": [],
   "source": [
    "def inner(x,y):\n",
    "    return sum([x[i]*y[i] for i in range(len(x))])\n",
    "\n",
    "def sigmoid(x):\n",
    "    return 1.0 / (1 + exp(-x))\n",
    "\n",
    "# NEGATIVE Log-likelihood\n",
    "def f(theta, X, y, lam):\n",
    "    loglikelihood = 0\n",
    "    for i in range(len(X)):\n",
    "        logit = inner(X[i], theta)\n",
    "        loglikelihood -= log(1 + exp(-logit))\n",
    "        if not y[i]:\n",
    "            loglikelihood -= logit\n",
    "    for k in range(len(theta)):\n",
    "        loglikelihood -= lam * theta[k]*theta[k]\n",
    "  # for debugging\n",
    "  # print(\"ll =\" + str(loglikelihood))\n",
    "    return -loglikelihood\n",
    "# NEGATIVE Derivative of log-likelihood\n",
    "def fprime(theta, X, y, lam):\n",
    "    dl = [0]*len(theta)\n",
    "    for i in range(len(X)):\n",
    "        logit = inner(X[i], theta)\n",
    "        for k in range(len(theta)):\n",
    "            dl[k] += X[i][k] * (1 - sigmoid(logit))\n",
    "            if not y[i]:\n",
    "                dl[k] -= X[i][k]\n",
    "    for k in range(len(theta)):\n",
    "        dl[k] -= lam*2*theta[k]\n",
    "    return numpy.array([-x for x in dl])\n",
    "\n",
    "def train(lam):\n",
    "    theta,_,_ = scipy.optimize.fmin_l_bfgs_b(f, [0]*len(X[0]), fprime, pgtol = 10, args = (X_train, y_train, lam))\n",
    "    return theta\n",
    "def performance(theta):\n",
    "    \n",
    "#     scores = [inner(theta,x) for x in X]\n",
    "#     predictions = [s > 0 for s in scores]\n",
    "#     correct = [(a==b) for (a,b) in zip(predictions,y_train)]\n",
    "#     acc = sum(correct) * 1.0 / len(correct)\n",
    "#     return acc\n",
    "    scores_train = [inner(theta,x) for x in X_train]\n",
    "    scores_validate = [inner(theta,x) for x in X_validate]\n",
    "    scores_test = [inner(theta,x) for x in X_test]\n",
    "\n",
    "    predictions_train = [s > 0 for s in scores_train]\n",
    "    predictions_validate = [s >0 for s in scores_validate]\n",
    "    predictions_test = [s > 0 for s in scores_test]\n",
    "\n",
    "    correct_train = [(a==b) for (a,b) in zip(predictions_train,y_train)]\n",
    "    correct_validate = [(a==b) for (a,b) in zip(predictions_validate,y_validate)]\n",
    "    correct_test = [(a==b) for (a,b) in zip(predictions_test,y_test)]\n",
    "  \n",
    "    acc_train = sum(correct_train) * 1.0 / len(correct_train)\n",
    "    acc_validate = sum(correct_validate) * 1.0 / len(correct_validate)\n",
    "    acc_test = sum(correct_test) * 1.0 / len(correct_test)\n",
    "    return acc_train, acc_validate, acc_test"
   ]
  },
  {
   "cell_type": "code",
   "execution_count": 4,
   "metadata": {},
   "outputs": [],
   "source": [
    "X_train = X[:int(len(X)/3)]\n",
    "y_train = y[:int(len(y)/3)]\n",
    "X_validate = X[int(len(X)/3):int(2*len(X)/3)]\n",
    "y_validate = y[int(len(y)/3):int(2*len(y)/3)]\n",
    "X_test = X[int(2*len(X)/3):]\n",
    "y_test = y[int(2*len(X)/3):]"
   ]
  },
  {
   "cell_type": "code",
   "execution_count": 5,
   "metadata": {},
   "outputs": [
    {
     "name": "stdout",
     "output_type": "stream",
     "text": [
      "theta =  [-4.40507927  0.59370219  0.34404315  0.81246286  0.57522903 -1.06525496]\n",
      "lambda = 1.0:\taccuracy=(0.66986679467178689, 0.9002819943601128, 0.57778844423111542)\n"
     ]
    }
   ],
   "source": [
    "lam = 1.0\n",
    "\n",
    "theta = train(lam)\n",
    "print \"theta = \",theta\n",
    "acc = performance(theta)\n",
    "print(\"lambda = \" + str(lam) + \":\\taccuracy=\" + str(acc))"
   ]
  },
  {
   "cell_type": "markdown",
   "metadata": {},
   "source": [
    "#### Answer Q1:\n",
    "* ( lambda is: 1.0)\n",
    "* ( theta is: [-4.40507927  0.59370219  0.34404315  0.81246286  0.57522903 -1.06525496] )\n",
    "* ( Accuracy on the training set: 0.66986679467178689 )\n",
    "* Accuracy on the validation set: 0.9002819943601128\n",
    "* Accuracy on the test set:  0.57778844423111542"
   ]
  },
  {
   "cell_type": "markdown",
   "metadata": {},
   "source": [
    "* \n",
    "* \n",
    "* \n",
    "* \n",
    "* \n",
    "* \n",
    "* \n",
    "* \n",
    "* \n",
    "* \n",
    "* \n",
    "* \n",
    "* \n",
    "* \n",
    "* \n",
    "* \n",
    "* \n",
    "* \n",
    "* \n",
    "* \n",
    "* \n",
    "* \n",
    "* \n",
    "* \n",
    "\n",
    "\n",
    "\n",
    "\n",
    "\n",
    "---\n",
    "\n",
    "\n",
    "### Q2:\n",
    "### p(positive label) = σ(θ0 + θ1 × #‘lactic’ + θ2 × #‘tart’...),\n",
    "* the feature function should be changed first\n",
    "\n",
    "```\n",
    "reviewcontent=datum['review/text'].translate(None, string.punctuation).lower().strip().split()\n",
    "\n",
    "```\n",
    "\n",
    "* Then we re-run the code again"
   ]
  },
  {
   "cell_type": "code",
   "execution_count": 6,
   "metadata": {},
   "outputs": [],
   "source": [
    "def feature(datum):\n",
    "    feat=[1]*11\n",
    "    reviewcontent=datum['review/text'].translate(None, string.punctuation).lower()\n",
    "    reviewcontent=reviewcontent.strip().split()\n",
    "    featureword=[\"lactic\",\"tart\",\"sour\",\"citric\",\"sweet\",\"acid\",\"hop\",\"fruit\",\"salt\",\"spicy\"]\n",
    "    for i in range(1,11):\n",
    "        feat[i]=sum([featureword[i-1]==j for j in reviewcontent])\n",
    "    return feat"
   ]
  },
  {
   "cell_type": "code",
   "execution_count": 7,
   "metadata": {},
   "outputs": [],
   "source": [
    "def testlambda(lam):\n",
    "    theta = train(lam)\n",
    "    print \"theta = \",theta\n",
    "    acc = performance(theta)\n",
    "    print(\"lambda = \" + str(lam) + \":\\taccuracy=\" + str(acc))\n",
    "    return theta\n",
    "    "
   ]
  },
  {
   "cell_type": "code",
   "execution_count": 8,
   "metadata": {},
   "outputs": [
    {
     "name": "stdout",
     "output_type": "stream",
     "text": [
      "theta =  [ 0.0572843   0.01233175  0.04761345 -0.0954871  -0.03561509  0.28703378\n",
      "  0.02399778 -0.01049852  0.40460598 -0.00519373  0.0029034 ]\n",
      "lambda = 1.0:\taccuracy=(0.56258250330013204, 0.94630107397852048, 0.36233275334493309)\n"
     ]
    }
   ],
   "source": [
    "X = [feature(d) for d in data]\n",
    "y = [d['beer/ABV']>=6.5 for d in data]\n",
    "X_train = X[:int(len(X)/3)]\n",
    "y_train = y[:int(len(y)/3)]\n",
    "X_validate = X[int(len(X)/3):int(2*len(X)/3)]\n",
    "y_validate = y[int(len(y)/3):int(2*len(y)/3)]\n",
    "X_test = X[int(2*len(X)/3):]\n",
    "y_test = y[int(2*len(X)/3):]\n",
    "\n",
    "lam = 1.0\n",
    "\n",
    "theta=testlambda(lam)"
   ]
  },
  {
   "cell_type": "markdown",
   "metadata": {},
   "source": [
    "* \n",
    "* \n",
    "* \n",
    "* \n",
    "#### Answer Q2:\n",
    "* ( lambda is: 1.0)\n",
    "* ( theta is: [ 0.0572843   0.01233175  0.04761345 -0.0954871  -0.03561509  0.28703378\n",
    "  0.02399778 -0.01049852  0.40460598 -0.00519373  0.0029034 ] )\n",
    "* ( Accuracy on the training set: 0.56258250330013204 )\n",
    "* Accuracy on the validation set: 0.94630107397852048\n",
    "* Accuracy on the training set:  0.36233275334493309\n",
    "* \n",
    "* \n",
    "* \n",
    "* \n",
    "* \n",
    "* \n",
    "* \n",
    "* \n",
    "* \n",
    "* \n",
    "* \n",
    "* \n",
    "* \n",
    "* \n",
    "* \n",
    "* \n",
    "* \n",
    "* \n",
    "* \n",
    "* \n",
    "* \n",
    "* \n",
    "* \n",
    "* \n",
    "* \n",
    "* \n",
    "* \n",
    "* \n",
    "* \n",
    "* \n",
    "* \n",
    "* \n",
    "* \n",
    "* \n",
    "* \n",
    "* \n",
    "* \n",
    "* \n",
    "* \n",
    "* \n",
    "* \n",
    "* \n",
    "* \n",
    "* "
   ]
  },
  {
   "cell_type": "markdown",
   "metadata": {},
   "source": [
    "---\n",
    "### Q3:\n",
    "#### Report the number of true positives, true negatives, false positives, false negatives, and the Balanced Error Rate of the classifier on the test set\n",
    "* First design the function to test TP/FP/FN/TN/FPR/FNR/BER\n",
    "* Then run testerror() on the test set"
   ]
  },
  {
   "cell_type": "code",
   "execution_count": 9,
   "metadata": {},
   "outputs": [],
   "source": [
    "def testerror(X_test,y_test):\n",
    "    scores_test = [inner(theta,x) for x in X_test]\n",
    "    predictions_test = [s > 0 for s in scores_test]\n",
    "    TP=sum([a and b for (a,b) in zip(predictions_test,y_test)])\n",
    "    FP=sum([a and not b for (a,b) in zip(predictions_test,y_test)])\n",
    "    FN=sum([not a and b for (a,b) in zip(predictions_test,y_test)])\n",
    "    TN=sum([not a and not b for (a,b) in zip(predictions_test,y_test)])\n",
    "    FPR=FP/float(FP+TN)\n",
    "    FNR=FN/float(FN+TP)\n",
    "    BER=(FPR+FNR)/2\n",
    "    print \"TP,FP,FN,TN:\\t\",TP,FP,FN,TN\n",
    "    print \"FPR,FNR:\\t\",FPR,FNR\n",
    "    print \"BER:\\t\\t\",BER"
   ]
  },
  {
   "cell_type": "code",
   "execution_count": 10,
   "metadata": {},
   "outputs": [
    {
     "name": "stdout",
     "output_type": "stream",
     "text": [
      "TP,FP,FN,TN:\t5833 10549 79 206\n",
      "FPR,FNR:\t0.980846118085 0.0133626522327\n",
      "BER:\t\t0.497104385159\n"
     ]
    }
   ],
   "source": [
    "testerror(X_test,y_test)"
   ]
  },
  {
   "cell_type": "markdown",
   "metadata": {},
   "source": [
    "#### Answer Q3:\n",
    "* #true positives: 5833\n",
    "* #true negatives: 206\n",
    "* #false positives: 10549\n",
    "* #false negatives: 79\n",
    "* #Balanced Error Rate: 0.497104385159\n",
    "* \n",
    "* \n",
    "* \n",
    "* \n",
    "* \n",
    "* \n",
    "* \n",
    "* \n",
    "* \n",
    "* "
   ]
  },
  {
   "cell_type": "markdown",
   "metadata": {},
   "source": [
    "---\n",
    "### Q4:\n",
    "#### Adjust the gradient ascent code provided such that the classifier would be approximately ‘balanced’ between the positive and negative classes\n",
    "* First change the log-likelihood based on its label (add weights to each label)\n",
    "```\n",
    "if y[i]:\n",
    "            loglikelihood -=N/float(2*Y1)* log(1 + exp(-logit))\n",
    "        if not y[i]:\n",
    "            loglikelihood -= N/float(2*Y0)*(log(1+exp(-logit))+logit)\n",
    "```\n",
    "* Then change the frime accordingly\n",
    "```\n",
    "if y[i]:\n",
    "                dl[k] +=N/float(2*Y1)* X[i][k] * (1 - sigmoid(logit))\n",
    "            if not y[i]:\n",
    "                dl[k] +=N/float(2*Y0)* X[i][k] * (1 - sigmoid(logit))\n",
    "                dl[k] -=N/float(2*Y0)* X[i][k]\n",
    "```\n",
    "* Report the Balanced Error Rate (on the train/validation/test sets) for the new classifier"
   ]
  },
  {
   "cell_type": "code",
   "execution_count": 11,
   "metadata": {},
   "outputs": [],
   "source": [
    "# NEGATIVE Log-likelihood\n",
    "def f(theta, X, y, lam):\n",
    "    N=len(y)\n",
    "    Y1=sum(y)\n",
    "    Y0=N-Y1\n",
    "    loglikelihood = 0\n",
    "    for i in range(len(X)):\n",
    "        logit = inner(X[i], theta)\n",
    "        if y[i]:\n",
    "            loglikelihood -=N/float(2*Y1)* log(1 + exp(-logit))\n",
    "        if not y[i]:\n",
    "            loglikelihood -= N/float(2*Y0)*(log(1+exp(-logit))+logit)\n",
    "    for k in range(len(theta)):\n",
    "        loglikelihood -= lam * theta[k]*theta[k]\n",
    "  # for debugging\n",
    "  # print(\"ll =\" + str(loglikelihood))\n",
    "    return -loglikelihood\n",
    "\n",
    "def fprime(theta, X, y, lam):\n",
    "    N=len(y)\n",
    "    Y1=sum(y)\n",
    "    Y0=N-Y1\n",
    "    dl = [0]*len(theta)\n",
    "    for i in range(len(X)):\n",
    "        logit = inner(X[i], theta)\n",
    "        for k in range(len(theta)):\n",
    "            if y[i]:\n",
    "                dl[k] +=N/float(2*Y1)* X[i][k] * (1 - sigmoid(logit))\n",
    "            if not y[i]:\n",
    "                dl[k] +=N/float(2*Y0)* X[i][k] * (1 - sigmoid(logit))\n",
    "                dl[k] -=N/float(2*Y0)* X[i][k]\n",
    "    for k in range(len(theta)):\n",
    "        dl[k] -= lam*2*theta[k]\n",
    "    return numpy.array([-x for x in dl])\n",
    "def train(lam):\n",
    "    theta,_,_ = scipy.optimize.fmin_l_bfgs_b(f, [0]*len(X[0]), fprime, pgtol = 10, args = (X_train, y_train, lam))\n",
    "    return theta"
   ]
  },
  {
   "cell_type": "code",
   "execution_count": 12,
   "metadata": {},
   "outputs": [
    {
     "name": "stdout",
     "output_type": "stream",
     "text": [
      "theta =  [-0.18369822  0.0100884   0.04149834 -0.08900256 -0.03354634  0.28539368\n",
      "  0.02061901 -0.0121883   0.397628   -0.00474375  0.00267414]\n",
      "lambda = 1.0:\taccuracy=(0.55412216488659549, 0.47117057658846823, 0.5824683506329873)\n"
     ]
    }
   ],
   "source": [
    "lam = 1.0\n",
    "\n",
    "theta=testlambda(lam)\n",
    "# theta = train(lam)\n",
    "# acc = performance(theta)\n",
    "# print(\"lambda = \" + str(lam) + \":\\taccuracy=\" + str(acc))"
   ]
  },
  {
   "cell_type": "code",
   "execution_count": 13,
   "metadata": {},
   "outputs": [
    {
     "name": "stdout",
     "output_type": "stream",
     "text": [
      "TRAIN:\n",
      "TP,FP,FN,TN:\t4399 2482 4949 4836\n",
      "FPR,FNR:\t0.339163705931 0.529418057338\n",
      "BER:\t\t0.434290881635\n"
     ]
    }
   ],
   "source": [
    "print \"TRAIN:\"\n",
    "testerror(X_train,y_train)"
   ]
  },
  {
   "cell_type": "code",
   "execution_count": 14,
   "metadata": {},
   "outputs": [
    {
     "name": "stdout",
     "output_type": "stream",
     "text": [
      "VALIDATE:\n",
      "TP,FP,FN,TN:\t7308 213 8601 545\n",
      "FPR,FNR:\t0.281002638522 0.540637375071\n",
      "BER:\t\t0.410820006797\n"
     ]
    }
   ],
   "source": [
    "print \"VALIDATE:\"\n",
    "testerror(X_validate,y_validate)"
   ]
  },
  {
   "cell_type": "code",
   "execution_count": 15,
   "metadata": {},
   "outputs": [
    {
     "name": "stdout",
     "output_type": "stream",
     "text": [
      "TEST:\n",
      "TP,FP,FN,TN:\t2765 3812 3147 6943\n",
      "FPR,FNR:\t0.354439795444 0.532307171854\n",
      "BER:\t\t0.443373483649\n"
     ]
    }
   ],
   "source": [
    "print \"TEST:\"\n",
    "testerror(X_test,y_test)"
   ]
  },
  {
   "cell_type": "markdown",
   "metadata": {},
   "source": [
    "#### Answer Q4:\n",
    "* Balanced Error Rate on the train set: 0.434290881635\n",
    "* Balanced Error Rate on the validation set: 0.410820006797\n",
    "* Balanced Error Rate on the test set: 0.443373483649\n",
    "* \n",
    "* \n",
    "* \n",
    "* \n",
    "* \n",
    "* \n",
    "* \n",
    "* \n",
    "* \n",
    "* \n",
    "* \n",
    "* \n",
    "* \n",
    "* \n",
    "* \n",
    "* \n",
    "* \n",
    "* \n"
   ]
  },
  {
   "cell_type": "markdown",
   "metadata": {},
   "source": [
    "---\n",
    "### Q5:\n",
    "####  Implement a training/validation/test pipeline so that you can select the best model based on its perfor- mance on the validation set.\n",
    "* Run logistic-regressor on all the $\\lambda$\n",
    "* Pick the best $\\lambda$, which has best performance"
   ]
  },
  {
   "cell_type": "code",
   "execution_count": 16,
   "metadata": {},
   "outputs": [
    {
     "name": "stdout",
     "output_type": "stream",
     "text": [
      "theta =  [-0.18406845  0.0101521   0.04172871 -0.08943733 -0.03373912  0.28564164\n",
      "  0.02075214 -0.0121393   0.39903665 -0.00477337  0.00269198]\n",
      "lambda = 0:\taccuracy=(0.55406216248649942, 0.47063058738825225, 0.58258834823303529)\n",
      "\n",
      "theta =  [-0.18406474  0.01015146  0.0417264  -0.08943296 -0.03373718  0.28563915\n",
      "  0.0207508  -0.0121398   0.3990225  -0.00477308  0.0026918 ]\n",
      "lambda = 0.01:\taccuracy=(0.55412216488659549, 0.47117057658846823, 0.5824683506329873)\n",
      "\n",
      "theta =  [-0.18403135  0.0101457   0.04170556 -0.08939365 -0.03371974  0.28561682\n",
      "  0.02073876 -0.01214423  0.39889526 -0.0047704   0.00269019]\n",
      "lambda = 0.1:\taccuracy=(0.55412216488659549, 0.47117057658846823, 0.5824683506329873)\n",
      "\n",
      "theta =  [-0.18369822  0.0100884   0.04149834 -0.08900256 -0.03354634  0.28539368\n",
      "  0.02061901 -0.0121883   0.397628   -0.00474375  0.00267414]\n",
      "lambda = 1:\taccuracy=(0.55412216488659549, 0.47117057658846823, 0.5824683506329873)\n",
      "\n",
      "theta =  [-0.15422583  0.00577634  0.025877   -0.05942604 -0.0204902   0.26214925\n",
      "  0.011632   -0.01279203  0.29805519 -0.00273439  0.00153136]\n",
      "lambda = 100:\taccuracy=(0.55418216728669145, 0.47159056818863621, 0.58222835543289131)\n",
      "\n"
     ]
    }
   ],
   "source": [
    "for lam in [0,0.01,0.1,1,100]:\n",
    "    theta=testlambda(lam)\n",
    "    print"
   ]
  },
  {
   "cell_type": "markdown",
   "metadata": {},
   "source": [
    "---\n",
    "#### When lambda=100, I have best performance on  validation set, which is 0.47159056818863621. So, I pick it as my best model\n"
   ]
  },
  {
   "cell_type": "code",
   "execution_count": 17,
   "metadata": {},
   "outputs": [
    {
     "name": "stdout",
     "output_type": "stream",
     "text": [
      "theta =  [-0.15422583  0.00577634  0.025877   -0.05942604 -0.0204902   0.26214925\n",
      "  0.011632   -0.01279203  0.29805519 -0.00273439  0.00153136]\n",
      "lambda = 100:\taccuracy=(0.55418216728669145, 0.47159056818863621, 0.58222835543289131)\n",
      "TRAIN:\n",
      "TP,FP,FN,TN:\t4404 2486 4944 4832\n",
      "FPR,FNR:\t0.339710303362 0.528883183569\n",
      "BER:\t\t0.434296743465\n",
      "VALIDATE:\n",
      "TP,FP,FN,TN:\t7315 213 8594 545\n",
      "FPR,FNR:\t0.281002638522 0.540197372556\n",
      "BER:\t\t0.410600005539\n",
      "TEST:\n",
      "TP,FP,FN,TN:\t2768 3819 3144 6936\n",
      "FPR,FNR:\t0.355090655509 0.531799729364\n",
      "BER:\t\t0.443445192437\n"
     ]
    }
   ],
   "source": [
    "theta=testlambda(100)\n",
    "print \"TRAIN:\"\n",
    "testerror(X_train,y_train)\n",
    "print \"VALIDATE:\"\n",
    "testerror(X_validate,y_validate)\n",
    "print \"TEST:\"\n",
    "testerror(X_test,y_test)"
   ]
  },
  {
   "cell_type": "markdown",
   "metadata": {},
   "source": [
    "#### Q5:\n",
    "* The best model: **$\\lambda$** = 100\n",
    "* Balanced Error Rate on the train set: 0.434296743465\n",
    "* Balanced Error Rate on the validation set: 0.410600005539\n",
    "* Balanced Error Rate on the test set: 0.443445192437"
   ]
  },
  {
   "cell_type": "markdown",
   "metadata": {},
   "source": [
    "* \n",
    "* \n",
    "* \n",
    "* \n",
    "* \n",
    "* \n",
    "* \n",
    "* \n",
    "* \n",
    "* \n",
    "* \n",
    "* \n",
    "* \n",
    "* \n",
    "* \n",
    "* \n",
    "* \n",
    "* \n",
    "* \n",
    "* \n",
    "* \n",
    "* \n",
    "* \n",
    "* \n",
    "\n",
    "---\n",
    "## Part II: Dimensionality reduction\n",
    "### Q6:\n",
    "#### Find and report the PCA components \n",
    "* First get the 10-d data:\n",
    "```\n",
    "X10d=[x[1:] for x in X]\n",
    "```\n",
    "* Then report PCA for 1-10components"
   ]
  },
  {
   "cell_type": "code",
   "execution_count": 18,
   "metadata": {},
   "outputs": [],
   "source": [
    "X_train = X[:int(len(X)/3)]\n",
    "X10d=[x[1:] for x in X_train]"
   ]
  },
  {
   "cell_type": "code",
   "execution_count": 20,
   "metadata": {},
   "outputs": [
    {
     "name": "stdout",
     "output_type": "stream",
     "text": [
      "When n_components= 1 \n",
      "[[ -5.99348611e-04   3.95180460e-03  -9.30313126e-03   9.77013461e-03\n",
      "    7.99743141e-01  -1.15982082e-04   5.94935746e-01   7.26421070e-02\n",
      "    1.73560182e-04   3.14239951e-02]] \n",
      "\n",
      "When n_components= 2 \n",
      "[[ -5.99348611e-04   3.95180460e-03  -9.30313126e-03   9.77013461e-03\n",
      "    7.99743141e-01  -1.15982082e-04   5.94935746e-01   7.26421070e-02\n",
      "    1.73560182e-04   3.14239951e-02]\n",
      " [ -1.57703251e-03  -8.65486079e-03  -1.41729712e-02   1.36618507e-02\n",
      "   -5.96957130e-01   2.48551765e-04   8.01904848e-01  -3.25375266e-03\n",
      "   -1.24914732e-03   1.06619909e-02]] \n",
      "\n",
      "When n_components= 3 \n",
      "[[ -5.99348611e-04   3.95180460e-03  -9.30313126e-03   9.77013461e-03\n",
      "    7.99743141e-01  -1.15982082e-04   5.94935746e-01   7.26421070e-02\n",
      "    1.73560182e-04   3.14239951e-02]\n",
      " [ -1.57703251e-03  -8.65486079e-03  -1.41729712e-02   1.36618507e-02\n",
      "   -5.96957130e-01   2.48551765e-04   8.01904848e-01  -3.25375266e-03\n",
      "   -1.24914732e-03   1.06619909e-02]\n",
      " [  4.00311919e-03   4.43650130e-02   9.06341269e-02   3.63555020e-03\n",
      "   -6.10090802e-02  -2.42559237e-04  -3.98261666e-02   9.91605188e-01\n",
      "    3.81500215e-04   3.46218809e-02]] \n",
      "\n",
      "When n_components= 4 \n",
      "[[ -5.99348611e-04   3.95180460e-03  -9.30313126e-03   9.77013461e-03\n",
      "    7.99743141e-01  -1.15982082e-04   5.94935746e-01   7.26421070e-02\n",
      "    1.73560182e-04   3.14239951e-02]\n",
      " [ -1.57703251e-03  -8.65486079e-03  -1.41729712e-02   1.36618507e-02\n",
      "   -5.96957130e-01   2.48551765e-04   8.01904848e-01  -3.25375266e-03\n",
      "   -1.24914732e-03   1.06619909e-02]\n",
      " [  4.00311919e-03   4.43650130e-02   9.06341269e-02   3.63555020e-03\n",
      "   -6.10090802e-02  -2.42559237e-04  -3.98261666e-02   9.91605188e-01\n",
      "    3.81500215e-04   3.46218809e-02]\n",
      " [ -4.26440126e-04   2.28634173e-02  -1.25300143e-02   1.95012054e-02\n",
      "   -1.68370978e-02  -1.59706556e-04  -2.62603663e-02  -3.68946765e-02\n",
      "    2.69012381e-03   9.98297656e-01]] \n",
      "\n"
     ]
    }
   ],
   "source": [
    "for i in range(1,4+1):\n",
    "    pca = PCA(n_components=i)\n",
    "    pca.fit(X10d)\n",
    "    print \"When n_components=\",i,'\\n',pca.components_,'\\n'"
   ]
  },
  {
   "cell_type": "code",
   "execution_count": 21,
   "metadata": {},
   "outputs": [
    {
     "name": "stdout",
     "output_type": "stream",
     "text": [
      "When n_components= 5 \n",
      "[[ -5.99348611e-04   3.95180460e-03  -9.30313126e-03   9.77013461e-03\n",
      "    7.99743141e-01  -1.15982082e-04   5.94935746e-01   7.26421070e-02\n",
      "    1.73560182e-04   3.14239951e-02]\n",
      " [ -1.57703251e-03  -8.65486079e-03  -1.41729712e-02   1.36618507e-02\n",
      "   -5.96957130e-01   2.48551765e-04   8.01904848e-01  -3.25375266e-03\n",
      "   -1.24914732e-03   1.06619909e-02]\n",
      " [  4.00311919e-03   4.43650130e-02   9.06341269e-02   3.63555020e-03\n",
      "   -6.10090802e-02  -2.42559237e-04  -3.98261666e-02   9.91605188e-01\n",
      "    3.81500215e-04   3.46218809e-02]\n",
      " [ -4.26440126e-04   2.28634173e-02  -1.25300143e-02   1.95012054e-02\n",
      "   -1.68370978e-02  -1.59706556e-04  -2.62603663e-02  -3.68946765e-02\n",
      "    2.69012381e-03   9.98297656e-01]\n",
      " [  2.60661794e-02   2.24900160e-01   9.68807960e-01   3.42563694e-03\n",
      "    3.00250324e-03   9.49375889e-03   2.13269955e-02  -9.78249427e-02\n",
      "    7.56407137e-04   3.94909560e-03]] \n",
      "\n",
      "When n_components= 6 \n",
      "[[ -5.99348611e-04   3.95180460e-03  -9.30313126e-03   9.77013461e-03\n",
      "    7.99743141e-01  -1.15982082e-04   5.94935746e-01   7.26421070e-02\n",
      "    1.73560182e-04   3.14239951e-02]\n",
      " [ -1.57703251e-03  -8.65486079e-03  -1.41729712e-02   1.36618507e-02\n",
      "   -5.96957130e-01   2.48551765e-04   8.01904848e-01  -3.25375266e-03\n",
      "   -1.24914732e-03   1.06619909e-02]\n",
      " [  4.00311919e-03   4.43650130e-02   9.06341269e-02   3.63555020e-03\n",
      "   -6.10090802e-02  -2.42559237e-04  -3.98261666e-02   9.91605188e-01\n",
      "    3.81500215e-04   3.46218809e-02]\n",
      " [ -4.26440126e-04   2.28634173e-02  -1.25300143e-02   1.95012054e-02\n",
      "   -1.68370978e-02  -1.59706556e-04  -2.62603663e-02  -3.68946765e-02\n",
      "    2.69012381e-03   9.98297656e-01]\n",
      " [  2.60661794e-02   2.24900160e-01   9.68807960e-01   3.42563694e-03\n",
      "    3.00250324e-03   9.49375889e-03   2.13269955e-02  -9.78249427e-02\n",
      "    7.56407137e-04   3.94909560e-03]\n",
      " [  3.22021761e-02   9.72157312e-01  -2.28841275e-01   1.09560490e-02\n",
      "   -6.07572126e-03   1.00261862e-02   2.06999697e-03  -2.21244155e-02\n",
      "    8.12056096e-03  -2.62232434e-02]] \n",
      "\n",
      "When n_components= 7 \n",
      "[[ -5.99348611e-04   3.95180460e-03  -9.30313126e-03   9.77013461e-03\n",
      "    7.99743141e-01  -1.15982082e-04   5.94935746e-01   7.26421070e-02\n",
      "    1.73560182e-04   3.14239951e-02]\n",
      " [ -1.57703251e-03  -8.65486079e-03  -1.41729712e-02   1.36618507e-02\n",
      "   -5.96957130e-01   2.48551765e-04   8.01904848e-01  -3.25375266e-03\n",
      "   -1.24914732e-03   1.06619909e-02]\n",
      " [  4.00311919e-03   4.43650130e-02   9.06341269e-02   3.63555020e-03\n",
      "   -6.10090802e-02  -2.42559237e-04  -3.98261666e-02   9.91605188e-01\n",
      "    3.81500215e-04   3.46218809e-02]\n",
      " [ -4.26440126e-04   2.28634173e-02  -1.25300143e-02   1.95012054e-02\n",
      "   -1.68370978e-02  -1.59706556e-04  -2.62603663e-02  -3.68946765e-02\n",
      "    2.69012381e-03   9.98297656e-01]\n",
      " [  2.60661794e-02   2.24900160e-01   9.68807960e-01   3.42563694e-03\n",
      "    3.00250324e-03   9.49375889e-03   2.13269955e-02  -9.78249427e-02\n",
      "    7.56407137e-04   3.94909560e-03]\n",
      " [  3.22021761e-02   9.72157312e-01  -2.28841275e-01   1.09560490e-02\n",
      "   -6.07572126e-03   1.00261862e-02   2.06999697e-03  -2.21244155e-02\n",
      "    8.12056096e-03  -2.62232434e-02]\n",
      " [  7.90352064e-03  -1.23571069e-02  -8.14463189e-04   9.99534596e-01\n",
      "    9.49131814e-04   7.16124510e-03  -1.62050193e-02  -2.96988274e-03\n",
      "    5.65145131e-04  -1.97696119e-02]] \n",
      "\n"
     ]
    }
   ],
   "source": [
    "for i in range(5,7+1):\n",
    "    pca = PCA(n_components=i)\n",
    "    pca.fit(X10d)\n",
    "    print \"When n_components=\",i,'\\n',pca.components_,'\\n'\n"
   ]
  },
  {
   "cell_type": "code",
   "execution_count": 22,
   "metadata": {},
   "outputs": [
    {
     "name": "stdout",
     "output_type": "stream",
     "text": [
      "When n_components= 8 \n",
      "[[ -5.99348611e-04   3.95180460e-03  -9.30313126e-03   9.77013461e-03\n",
      "    7.99743141e-01  -1.15982082e-04   5.94935746e-01   7.26421070e-02\n",
      "    1.73560182e-04   3.14239951e-02]\n",
      " [ -1.57703251e-03  -8.65486079e-03  -1.41729712e-02   1.36618507e-02\n",
      "   -5.96957130e-01   2.48551765e-04   8.01904848e-01  -3.25375266e-03\n",
      "   -1.24914732e-03   1.06619909e-02]\n",
      " [  4.00311919e-03   4.43650130e-02   9.06341269e-02   3.63555020e-03\n",
      "   -6.10090802e-02  -2.42559237e-04  -3.98261666e-02   9.91605188e-01\n",
      "    3.81500215e-04   3.46218809e-02]\n",
      " [ -4.26440126e-04   2.28634173e-02  -1.25300143e-02   1.95012054e-02\n",
      "   -1.68370978e-02  -1.59706556e-04  -2.62603663e-02  -3.68946765e-02\n",
      "    2.69012381e-03   9.98297656e-01]\n",
      " [  2.60661794e-02   2.24900160e-01   9.68807960e-01   3.42563694e-03\n",
      "    3.00250324e-03   9.49375889e-03   2.13269955e-02  -9.78249427e-02\n",
      "    7.56407137e-04   3.94909560e-03]\n",
      " [  3.22021761e-02   9.72157312e-01  -2.28841275e-01   1.09560490e-02\n",
      "   -6.07572126e-03   1.00261862e-02   2.06999697e-03  -2.21244155e-02\n",
      "    8.12056096e-03  -2.62232434e-02]\n",
      " [  7.90352064e-03  -1.23571069e-02  -8.14463189e-04   9.99534596e-01\n",
      "    9.49131814e-04   7.16124510e-03  -1.62050193e-02  -2.96988274e-03\n",
      "    5.65145131e-04  -1.97696119e-02]\n",
      " [  9.98261132e-01  -3.77021316e-02  -1.85599207e-02  -8.61671369e-03\n",
      "   -1.02075830e-04   4.01779806e-02   1.26113765e-03  -6.03114313e-04\n",
      "   -4.09164193e-03   1.25188081e-03]] \n",
      "\n",
      "When n_components= 9 \n",
      "[[ -5.99348611e-04   3.95180460e-03  -9.30313126e-03   9.77013461e-03\n",
      "    7.99743141e-01  -1.15982082e-04   5.94935746e-01   7.26421070e-02\n",
      "    1.73560182e-04   3.14239951e-02]\n",
      " [ -1.57703251e-03  -8.65486079e-03  -1.41729712e-02   1.36618507e-02\n",
      "   -5.96957130e-01   2.48551765e-04   8.01904848e-01  -3.25375266e-03\n",
      "   -1.24914732e-03   1.06619909e-02]\n",
      " [  4.00311919e-03   4.43650130e-02   9.06341269e-02   3.63555020e-03\n",
      "   -6.10090802e-02  -2.42559237e-04  -3.98261666e-02   9.91605188e-01\n",
      "    3.81500215e-04   3.46218809e-02]\n",
      " [ -4.26440126e-04   2.28634173e-02  -1.25300143e-02   1.95012054e-02\n",
      "   -1.68370978e-02  -1.59706556e-04  -2.62603663e-02  -3.68946765e-02\n",
      "    2.69012381e-03   9.98297656e-01]\n",
      " [  2.60661794e-02   2.24900160e-01   9.68807960e-01   3.42563694e-03\n",
      "    3.00250324e-03   9.49375889e-03   2.13269955e-02  -9.78249427e-02\n",
      "    7.56407137e-04   3.94909560e-03]\n",
      " [  3.22021761e-02   9.72157312e-01  -2.28841275e-01   1.09560490e-02\n",
      "   -6.07572126e-03   1.00261862e-02   2.06999697e-03  -2.21244155e-02\n",
      "    8.12056096e-03  -2.62232434e-02]\n",
      " [  7.90352064e-03  -1.23571069e-02  -8.14463189e-04   9.99534596e-01\n",
      "    9.49131814e-04   7.16124510e-03  -1.62050193e-02  -2.96988274e-03\n",
      "    5.65145131e-04  -1.97696119e-02]\n",
      " [  9.98261132e-01  -3.77021316e-02  -1.85599207e-02  -8.61671369e-03\n",
      "   -1.02075830e-04   4.01779806e-02   1.26113765e-03  -6.03114313e-04\n",
      "   -4.09164193e-03   1.25188081e-03]\n",
      " [ -4.08021246e-02  -1.02014021e-02  -6.14341646e-03  -6.95244133e-03\n",
      "    2.60043973e-04   9.99036226e-01  -3.10388286e-04   1.44156251e-03\n",
      "   -8.31621523e-03   5.06643363e-04]] \n",
      "\n",
      "When n_components= 10 \n",
      "[[ -5.99348611e-04   3.95180460e-03  -9.30313126e-03   9.77013461e-03\n",
      "    7.99743141e-01  -1.15982082e-04   5.94935746e-01   7.26421070e-02\n",
      "    1.73560182e-04   3.14239951e-02]\n",
      " [ -1.57703251e-03  -8.65486079e-03  -1.41729712e-02   1.36618507e-02\n",
      "   -5.96957130e-01   2.48551765e-04   8.01904848e-01  -3.25375266e-03\n",
      "   -1.24914732e-03   1.06619909e-02]\n",
      " [  4.00311919e-03   4.43650130e-02   9.06341269e-02   3.63555020e-03\n",
      "   -6.10090802e-02  -2.42559237e-04  -3.98261666e-02   9.91605188e-01\n",
      "    3.81500215e-04   3.46218809e-02]\n",
      " [ -4.26440126e-04   2.28634173e-02  -1.25300143e-02   1.95012054e-02\n",
      "   -1.68370978e-02  -1.59706556e-04  -2.62603663e-02  -3.68946765e-02\n",
      "    2.69012381e-03   9.98297656e-01]\n",
      " [  2.60661794e-02   2.24900160e-01   9.68807960e-01   3.42563694e-03\n",
      "    3.00250324e-03   9.49375889e-03   2.13269955e-02  -9.78249427e-02\n",
      "    7.56407137e-04   3.94909560e-03]\n",
      " [  3.22021761e-02   9.72157312e-01  -2.28841275e-01   1.09560490e-02\n",
      "   -6.07572126e-03   1.00261862e-02   2.06999697e-03  -2.21244155e-02\n",
      "    8.12056096e-03  -2.62232434e-02]\n",
      " [  7.90352064e-03  -1.23571069e-02  -8.14463189e-04   9.99534596e-01\n",
      "    9.49131814e-04   7.16124510e-03  -1.62050193e-02  -2.96988274e-03\n",
      "    5.65145131e-04  -1.97696119e-02]\n",
      " [  9.98261132e-01  -3.77021316e-02  -1.85599207e-02  -8.61671369e-03\n",
      "   -1.02075830e-04   4.01779806e-02   1.26113765e-03  -6.03114313e-04\n",
      "   -4.09164193e-03   1.25188081e-03]\n",
      " [ -4.08021246e-02  -1.02014021e-02  -6.14341646e-03  -6.95244133e-03\n",
      "    2.60043973e-04   9.99036226e-01  -3.10388286e-04   1.44156251e-03\n",
      "   -8.31621523e-03   5.06643363e-04]\n",
      " [  3.45755848e-03  -8.38730186e-03   9.82056321e-04  -7.88058439e-04\n",
      "   -7.67708510e-04   8.38147813e-03   9.63150972e-04  -3.08638533e-05\n",
      "    9.99919142e-01  -2.46061844e-03]] \n",
      "\n"
     ]
    }
   ],
   "source": [
    "for i in range(8,10+1):\n",
    "    pca = PCA(n_components=i)\n",
    "    pca.fit(X10d)\n",
    "    print \"When n_components=\",i,'\\n',pca.components_,'\\n'\n"
   ]
  },
  {
   "cell_type": "markdown",
   "metadata": {},
   "source": [
    "* \n",
    "* \n",
    "---\n",
    "### Q7:\n",
    "#### Suppose we want to compress the data using just two PCA dimensions. How large is the reconstruction error when doing so\n",
    "* Get the 2-d data and the reconstruction:\n",
    "```\n",
    "X_train_pca = pca.transform(X10d)\n",
    "X_projected = pca.inverse_transform(X_train_pca)\n",
    "```\n",
    "* Calculate the reconstruction error\n",
    "```\n",
    "loss = ((X10d - X_projected) ** 2).mean()\n",
    "```"
   ]
  },
  {
   "cell_type": "code",
   "execution_count": 24,
   "metadata": {},
   "outputs": [
    {
     "name": "stdout",
     "output_type": "stream",
     "text": [
      "0.0475013035966\n"
     ]
    }
   ],
   "source": [
    "pca = PCA(n_components=2)\n",
    "pca.fit(X10d)\n",
    "X_train_pca = pca.transform(X10d)\n",
    "X_projected = pca.inverse_transform(X_train_pca)\n",
    "loss = ((X10d - X_projected) ** 2).mean()\n",
    "print loss"
   ]
  },
  {
   "cell_type": "markdown",
   "metadata": {},
   "source": [
    "#### Answer Q7:\n",
    "* the reconstruction error is: 0.0475013035966"
   ]
  },
  {
   "cell_type": "markdown",
   "metadata": {},
   "source": [
    "\n",
    "\n",
    "---\n",
    "### Q8:\n",
    "#### make a 2-d scatterplot showing the difference between ‘American IPA’ style beers versus all other styles* Get the 2-d data and the reconstruction:\n",
    "* First split the 2-d into X and Y:\n",
    "```\n",
    "x =X_train_pca[:,0]  \n",
    "y =X_train_pca[:,1] \n",
    "```\n",
    "* Then get the color according to its label\n",
    "```\n",
    "cValue = []\n",
    "for i in C:\n",
    "    if i==1:\n",
    "        cValue.append('r')\n",
    "    else:\n",
    "        cValue.append('b')\n",
    "```\n",
    "* Using **matplotlib.pyplot** to plot"
   ]
  },
  {
   "cell_type": "code",
   "execution_count": 25,
   "metadata": {},
   "outputs": [
    {
     "data": {
      "image/png": "[encoded data removed]",
      "text/plain": [
       "<matplotlib.figure.Figure at 0x114fda3d0>"
      ]
     },
     "metadata": {},
     "output_type": "display_data"
    }
   ],
   "source": [
    "import matplotlib.pyplot as plt\n",
    "x =X_train_pca[:,0]  \n",
    "y =X_train_pca[:,1] \n",
    "C=[0]*(50000/3)\n",
    "for i in range(50000/3):\n",
    "    if data[i]['beer/style']== 'American IPA':\n",
    "        C[i]=1\n",
    "fig = plt.figure()  \n",
    "ax1 = fig.add_subplot(111)  \n",
    "\n",
    "ax1.set_title('Plotting American IPA v.s. others')  \n",
    "plt.xlabel('X')  \n",
    "plt.ylabel('Y')  \n",
    "\n",
    "cValue = []\n",
    "for i in C:\n",
    "    if i==1:\n",
    "        cValue.append('r')\n",
    "    else:\n",
    "        cValue.append('b')\n",
    "\n",
    "ax1.scatter(x,y,c=cValue,marker='.')   \n",
    "plt.show() "
   ]
  }
 ],
 "metadata": {
  "kernelspec": {
   "display_name": "Python 2",
   "language": "python",
   "name": "python2"
  },
  "language_info": {
   "codemirror_mode": {
    "name": "ipython",
    "version": 2
   },
   "file_extension": ".py",
   "mimetype": "text/x-python",
   "name": "python",
   "nbconvert_exporter": "python",
   "pygments_lexer": "ipython2",
   "version": "2.7.13"
  }
 },
 "nbformat": 4,
 "nbformat_minor": 2
}
