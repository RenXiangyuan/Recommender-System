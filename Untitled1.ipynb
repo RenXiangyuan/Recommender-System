{
 "cells": [
  {
   "cell_type": "code",
   "execution_count": 5,
   "metadata": {},
   "outputs": [],
   "source": [
    "# import pandas as pd # data processing, CSV file I/O (e.g. pd.read_csv)\n",
    "# pd.options.mode.chained_assignment = None  # default='warn'"
   ]
  },
  {
   "cell_type": "code",
   "execution_count": 1,
   "metadata": {},
   "outputs": [
    {
     "data": {
      "text/plain": [
       "{'businessID': 'B408037852',\n",
       " 'categories': [u\"Women's Clothing Store\",\n",
       "  u'Fashion Accessories Store',\n",
       "  u'Shoe Store'],\n",
       " 'rating': 5.0,\n",
       " 'reviewHash': 'R471510664',\n",
       " 'reviewText': u\"This is where i go to shop for gifts from my mom. She loves this stuff. Cna't get enough. I like that you can customize the items. Store is well alid out and shoppable.\",\n",
       " 'reviewTime': u'Mar 24, 2013',\n",
       " 'unixReviewTime': 1364143460,\n",
       " 'userID': 'U093387342'}"
      ]
     },
     "execution_count": 1,
     "metadata": {},
     "output_type": "execute_result"
    }
   ],
   "source": [
    "def ParseDataFromFile(f):\n",
    "    for l in open(f):\n",
    "        yield eval(l)\n",
    "data=list(ParseDataFromFile(\"assignment1_data/train.json\"))\n",
    "data[0]"
   ]
  },
  {
   "cell_type": "code",
   "execution_count": 2,
   "metadata": {},
   "outputs": [
    {
     "data": {
      "text/plain": [
       "{'businessID': 'B423621081',\n",
       " 'categories': [u'American Restaurant', u'Cafe', u'Hot Dog Restaurant'],\n",
       " 'categoryID': 0,\n",
       " 'rating': 4.0,\n",
       " 'reviewHash': 'R567271252',\n",
       " 'reviewText': u\"I'm a vegetarian, but every so often I want a hotdog with lots of toppings.  And a tall can of beer.  Frank has got that covered.  And they have a cool warehouse space with some pinball machines.  Prices are a little high for hotdogs...fancy hotdogs, but hotdogs nonetheless.  Good location and service, but gets crowded and loud.\",\n",
       " 'reviewTime': u'Sep 10, 2013',\n",
       " 'unixReviewTime': 1378865039,\n",
       " 'userID': 'U985379327'}"
      ]
     },
     "execution_count": 2,
     "metadata": {},
     "output_type": "execute_result"
    }
   ],
   "source": [
    "data[2]"
   ]
  },
  {
   "cell_type": "code",
   "execution_count": 3,
   "metadata": {},
   "outputs": [
    {
     "name": "stdout",
     "output_type": "stream",
     "text": [
      "rows: 200000\n"
     ]
    }
   ],
   "source": [
    "rows=len(data)\n",
    "print \"rows:\",rows"
   ]
  },
  {
   "cell_type": "code",
   "execution_count": 4,
   "metadata": {},
   "outputs": [],
   "source": [
    "from collections import defaultdict\n",
    "\n",
    "# dUB = defaultdict(set)\n",
    "# lUB =[[]for i in range(18793)]\n",
    "# dBU = defaultdict(set)\n",
    "# lBU = [[]for i in range(21321)]\n",
    "\n",
    "# mapB2N=[]\n",
    "# mapU2N=[]\n",
    "# for l in data:\n",
    "#     if l['userID'] not in mapU2N:\n",
    "#         mapU2N.append(l['userID'])\n",
    "        \n",
    "#         tmpU=len(mapU2N)-1\n",
    "#     else:\n",
    "#         tmpU=mapU2N.index(l['userID'])\n",
    "\n",
    "#     if l['businessID'] not in mapB2N:\n",
    "#         mapB2N.append(l['businessID'])\n",
    "#         tmpB=len(mapB2N)-1\n",
    "#     else:\n",
    "#         tmpB=mapB2N.index(l['businessID'])\n",
    "#     dUB[tmpU].add(tmpB)\n",
    "#     lUB[tmpU].append(tmpB)\n",
    "#     dBU[tmpB].add(tmpU)\n",
    "#     lBU[tmpB].append(tmpB)"
   ]
  },
  {
   "cell_type": "code",
   "execution_count": 6,
   "metadata": {},
   "outputs": [],
   "source": [
    "#计算多少users没有出现过\n",
    "#多少business没有出现"
   ]
  },
  {
   "cell_type": "code",
   "execution_count": 5,
   "metadata": {},
   "outputs": [],
   "source": [
    "import pickle\n",
    "# f0 = open('assignment1_data/dUB.txt','w')\n",
    "# f1 = open('assignment1_data/dBU.txt','w')\n",
    "# f2 = open('assignment1_data/lUB.txt','w')\n",
    "# f3 = open('assignment1_data/lBU.txt','w')\n",
    "f4 = open('assignment1_data/mapU2N.txt','w')\n",
    "# pickle.dump(dUB,f0)\n",
    "# pickle.dump(dBU,f1)\n",
    "# pickle.dump(lUB,f2)\n",
    "# pickle.dump(lBU,f3)\n",
    "pickle.dump(mapU2N,f4)\n",
    "# f0.close();f1.close();f2.close();f3.close();\n",
    "f4.close()"
   ]
  },
  {
   "cell_type": "code",
   "execution_count": 6,
   "metadata": {},
   "outputs": [],
   "source": [
    "f0 = open('assignment1_data/dUB.txt','r')\n",
    "#f1 = open('assignment1_data/dBU.txt','r')\n",
    "#f2 = open('assignment1_data/lUB.txt','r')\n",
    "#f3 = open('assignment1_data/lBU.txt','r')\n",
    "f4 = open('assignment1_data/mapU2N.txt','r')\n",
    "dUB = pickle.load(f0) \n",
    "#dBU = pickle.load(f1) \n",
    "#lUB = pickle.load(f2) \n",
    "#lBU = pickle.load(f3) \n",
    "mapU2N = pickle.load(f4) \n",
    "f0.close();#f1.close();f2.close();f3.close();\n",
    "f4.close()"
   ]
  },
  {
   "cell_type": "code",
   "execution_count": 9,
   "metadata": {},
   "outputs": [
    {
     "name": "stdout",
     "output_type": "stream",
     "text": [
      "#business: 21321 \t#user: 18793\n"
     ]
    }
   ],
   "source": [
    "print \"#business:\",len(mapB2N),\"\\t#user:\",len(mapU2N)"
   ]
  },
  {
   "cell_type": "code",
   "execution_count": 10,
   "metadata": {},
   "outputs": [],
   "source": [
    "timesU=[0]*1000#统计人买东西总次数的分布 1-571; 1-202有效\n",
    "# timesB=[0]*1000#统计东西被卖的总分布  1-195； 1-123有效\n",
    "for k in range(len(mapU2N)):\n",
    "    timesU[len(dUB[k])]+=1\n",
    "# for k in range(len(mapB2N)):\n",
    "#     timesB[len(dBU[k])]+=1"
   ]
  },
  {
   "cell_type": "code",
   "execution_count": 11,
   "metadata": {},
   "outputs": [],
   "source": [
    "timesUp=[len(dUB[i]) for i in range(len(dUB))]#看每个人都买了多少次东西\n",
    "# timesBp=[len(i) for i in lBU]#看每个东西都被多少人买过"
   ]
  },
  {
   "cell_type": "code",
   "execution_count": 12,
   "metadata": {},
   "outputs": [],
   "source": [
    "outlierU=[timesUp.index(i) for i in timesUp if i>202]\n",
    "# outlierB=[timesBp.index(i) for i in timesBp if i>123]"
   ]
  },
  {
   "cell_type": "code",
   "execution_count": 13,
   "metadata": {},
   "outputs": [
    {
     "name": "stdout",
     "output_type": "stream",
     "text": [
      "exclude U: [13, 47, 141, 166, 174, 219, 324, 219, 379, 413, 438, 502, 530, 560, 581, 784, 166, 1119, 1293, 1784, 1888, 2445, 6943]\n"
     ]
    }
   ],
   "source": [
    "print \"exclude U:\",outlierU#,\"\\nexclude B:\",outlierB #单独训练"
   ]
  },
  {
   "cell_type": "code",
   "execution_count": 15,
   "metadata": {},
   "outputs": [],
   "source": [
    "# for i in data: #看看13这个异常\n",
    "#     if i['userID']==mapU2N[13]:\n",
    "#         print i"
   ]
  },
  {
   "cell_type": "code",
   "execution_count": 39,
   "metadata": {},
   "outputs": [],
   "source": [
    "# ans=[[0]*10 for m in range(len(dUB))]\n",
    "# def knn(d,begin,end,k=10):\n",
    "# #放（neighbor，distance）？\n",
    "#     rows=18793\n",
    "    \n",
    "#     recordcommon=[0]*rows\n",
    "#     for i in range(begin,end):\n",
    "#         recordcommon[:]=[0]*rows\n",
    "#         for j in range(rows):\n",
    "#             distance=len(d[i]&d[j])/float(timesUp[j])#对distance除以权值\n",
    "#             recordcommon[j]=distance\n",
    "#         recordcommon[i]=0\n",
    "#         for m in range(k):\n",
    "#             maxtmp=max(recordcommon)\n",
    "#             ans[i][m]=recordcommon.index(maxtmp)\n",
    "#             recordcommon[recordcommon.index(maxtmp)]=0\n",
    "#     print \"thread:\",begin,\" - \",end,\" finished\"\n",
    "#     return"
   ]
  },
  {
   "cell_type": "code",
   "execution_count": 41,
   "metadata": {},
   "outputs": [],
   "source": [
    "#knn(dUB,0,18793,10)"
   ]
  },
  {
   "cell_type": "code",
   "execution_count": 31,
   "metadata": {},
   "outputs": [],
   "source": [
    "#import thread\n",
    "#ans=[[0]*k for m in range(len(dUB))]\n",
    "#n_thread=6\n",
    "# try:\n",
    "\n",
    "#     thread.start_new_thread( knn, ( dUB,10,0,18793/2 ))\n",
    "#     thread.start_new_thread( knn, ( dUB,10,18793/6,18793/3 ))\n",
    "#     thread.start_new_thread( knn, ( dUB,10,18793/3,18793/2))\n",
    "#     thread.start_new_thread( knn, ( dUB,10,18793/2,18793/6*4 ))\n",
    "#     thread.start_new_thread( knn, ( dUB,10,18793/6*4,18793/6*5 ))\n",
    "#     thread.start_new_thread( knn, ( dUB,10,18793/2,18793))\n",
    "    \n",
    "# except:\n",
    "#     print \"Error: unable to start thread\""
   ]
  },
  {
   "cell_type": "code",
   "execution_count": 14,
   "metadata": {},
   "outputs": [],
   "source": [
    "# f = open('assignment1_data/k10.txt','w')\n",
    "# pickle.dump(ans,f)\n",
    "# f.close()\n",
    "\n",
    "f = open('assignment1_data/k10.txt','r')\n",
    "ans=pickle.load(f)\n",
    "f.close()"
   ]
  },
  {
   "cell_type": "code",
   "execution_count": 17,
   "metadata": {},
   "outputs": [],
   "source": [
    "X=[]\n",
    "Y=[]\n",
    "for user in range(1000):#len(dUB)): #18793\n",
    "    friend={}\n",
    "    w1=len(dUB[user])/10.642260416112382\n",
    "    for neighor in ans[user]:\n",
    "        for item in dUB[neighor]:\n",
    "            if item not in friend:\n",
    "                friend[item]=1.0/len(dUB[neighor])\n",
    "            else:\n",
    "                friend[item]+=1.0/len(dUB[neighor])\n",
    "    for i in friend:\n",
    "        X.append([1,friend[i]/w1])\n",
    "        Y.append(1 if i in dUB[user] else 0)"
   ]
  },
  {
   "cell_type": "code",
   "execution_count": 24,
   "metadata": {},
   "outputs": [
    {
     "data": {
      "text/plain": [
       "(33856, 33856)"
      ]
     },
     "execution_count": 24,
     "metadata": {},
     "output_type": "execute_result"
    }
   ],
   "source": [
    "len(X),len(Y)"
   ]
  },
  {
   "cell_type": "code",
   "execution_count": 49,
   "metadata": {},
   "outputs": [
    {
     "data": {
      "text/plain": [
       "SVC(C=10, cache_size=200, class_weight=None, coef0=0.0,\n",
       "  decision_function_shape='ovr', degree=3, gamma='auto', kernel='rbf',\n",
       "  max_iter=-1, probability=False, random_state=None, shrinking=True,\n",
       "  tol=0.001, verbose=False)"
      ]
     },
     "execution_count": 49,
     "metadata": {},
     "output_type": "execute_result"
    }
   ],
   "source": [
    "from sklearn import svm\n",
    "clf = svm.SVC(C=1)\n",
    "clf.fit(X, Y)"
   ]
  },
  {
   "cell_type": "code",
   "execution_count": 50,
   "metadata": {},
   "outputs": [],
   "source": [
    "train_predictions = clf.predict(X)"
   ]
  },
  {
   "cell_type": "code",
   "execution_count": 51,
   "metadata": {},
   "outputs": [
    {
     "data": {
      "text/plain": [
       "(1.6156663516068055, 0.40170132325141777, 26.27008506616257, 74.94387996219281)"
      ]
     },
     "execution_count": 51,
     "metadata": {},
     "output_type": "execute_result"
    }
   ],
   "source": [
    "train_accuracy=sum([(x==y) for x,y in zip(train_predictions,Y)])*1.0/len(X)*100\n",
    "truepositive=sum([(x==1 and y==1) for x,y in zip(train_predictions,Y)])*1.0/len(X)*100\n",
    "falsepositive=sum([(x==1 and y==0) for x,y in zip(train_predictions,Y)])*1.0/len(X)*100\n",
    "truelabel=sum(Y)*1.0/len(Y)*100\n",
    "truepositive,falsepositive,truelabel,train_accuracy"
   ]
  },
  {
   "cell_type": "code",
   "execution_count": 27,
   "metadata": {},
   "outputs": [
    {
     "data": {
      "text/plain": [
       "33856"
      ]
     },
     "execution_count": 27,
     "metadata": {},
     "output_type": "execute_result"
    }
   ],
   "source": [
    "len(zip(train_predictions,Y))"
   ]
  },
  {
   "cell_type": "code",
   "execution_count": 52,
   "metadata": {},
   "outputs": [],
   "source": [
    "X1=[]\n",
    "Y1=[]\n",
    "for user in range(10000,18793):#len(dUB)): #18793\n",
    "    friend={}\n",
    "    w1=len(dUB[user])/10.642260416112382\n",
    "    for neighor in ans[user]:\n",
    "        for item in dUB[neighor]:\n",
    "            if item not in friend:\n",
    "                friend[item]=1.0/len(dUB[neighor])\n",
    "            else:\n",
    "                friend[item]+=1.0/len(dUB[neighor])\n",
    "    for i in friend:\n",
    "        X1.append([1,friend[i]/w1])\n",
    "        Y1.append(1 if i in dUB[user] else 0)"
   ]
  },
  {
   "cell_type": "code",
   "execution_count": 53,
   "metadata": {},
   "outputs": [],
   "source": [
    "test_predictions = clf.predict(X1)"
   ]
  },
  {
   "cell_type": "code",
   "execution_count": 54,
   "metadata": {},
   "outputs": [
    {
     "data": {
      "text/plain": [
       "(3.4013735267575993,\n",
       " 1.8247349322369839,\n",
       " 10.299269615287097,\n",
       " 91.277368979233515)"
      ]
     },
     "execution_count": 54,
     "metadata": {},
     "output_type": "execute_result"
    }
   ],
   "source": [
    "train_accuracy=sum([(x==y) for x,y in zip(test_predictions,Y1)])*1.0/len(X1)*100\n",
    "truepositive=sum([(x==1 and y==1) for x,y in zip(test_predictions,Y1)])*1.0/len(X1)*100\n",
    "falsepositive=sum([(x==1 and y==0) for x,y in zip(test_predictions,Y1)])*1.0/len(X1 )*100\n",
    "truelabel=sum(Y1)*1.0/len(Y1)*100\n",
    "truepositive,falsepositive,truelabel,train_accuracy"
   ]
  },
  {
   "cell_type": "code",
   "execution_count": null,
   "metadata": {},
   "outputs": [],
   "source": [
    "predictions = open(\"predictions_Visiting.txt\", 'w')\n",
    "noUorB=0\n",
    "for l in open(\"pairs_Visit.txt\"):\n",
    "    if l.startswith(\"userID\"):\n",
    "        #header\n",
    "        predictions.write(l)\n",
    "        continue\n",
    "    u,b = l.strip().split('-')\n",
    "    predictions.write(u + '-' + b + ',')\n",
    "    if u not in mapU2number or b not in mapB2number:\n",
    "        noUorB+=1\n",
    "        predictions.write(str(0) + '\\n')\n",
    "        \n",
    "    else:\n",
    "        u = mapU2number.index(u)\n",
    "        b = mapB2number.index(b)\n",
    "        flag = 0\n",
    "        for neighbor in knnU[u]:\n",
    "            if b in dUB[neighbor]:\n",
    "                flag=1\n",
    "        predictions.write(str(flag) + '\\n')\n",
    "predictions.close()"
   ]
  }
 ],
 "metadata": {
  "kernelspec": {
   "display_name": "Python 2",
   "language": "python",
   "name": "python2"
  },
  "language_info": {
   "codemirror_mode": {
    "name": "ipython",
    "version": 2
   },
   "file_extension": ".py",
   "mimetype": "text/x-python",
   "name": "python",
   "nbconvert_exporter": "python",
   "pygments_lexer": "ipython2",
   "version": "2.7.13"
  }
 },
 "nbformat": 4,
 "nbformat_minor": 2
}
