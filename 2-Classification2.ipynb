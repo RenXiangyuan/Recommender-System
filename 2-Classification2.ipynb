{
 "cells": [
  {
   "cell_type": "code",
   "execution_count": 1,
   "metadata": {},
   "outputs": [
    {
     "name": "stdout",
     "output_type": "stream",
     "text": [
      "Reading data...\n",
      "done\n"
     ]
    }
   ],
   "source": [
    "import numpy\n",
    "import scipy.optimize\n",
    "import random\n",
    "from math import exp\n",
    "from math import log\n",
    "\n",
    "def parseDataFromFile(fname):\n",
    "    for l in open(fname):\n",
    "        yield eval(l)\n",
    "\n",
    "print \"Reading data...\"\n",
    "data = list(parseDataFromFile(\"beer_50000.json\"))\n",
    "print \"done\"\n"
   ]
  },
  {
   "cell_type": "markdown",
   "metadata": {},
   "source": [
    "---\n",
    "## Qestion 8: \n",
    "####  fit a model (for the problem from Q5) using logistic regression\n",
    "#### What is the log-likelihood of after convergence, and what is the accuracy (on the test set) of the resulting model\n",
    "#### The log-likelihood after convergence is: 6690.83159755\n",
    "#### The accuracy is 92.188"
   ]
  },
  {
   "cell_type": "code",
   "execution_count": 2,
   "metadata": {},
   "outputs": [],
   "source": [
    "def inner(x,y):\n",
    "  return sum([x[i]*y[i] for i in range(len(x))])\n",
    "\n",
    "def sigmoid(x):\n",
    "  return 1.0 / (1 + exp(-x))\n",
    "\n",
    "# NEGATIVE Log-likelihood\n",
    "def f(theta, X, y, lam):\n",
    "    loglikelihood = 0\n",
    "    for i in range(len(X)):\n",
    "        logit = inner(X[i], theta)\n",
    "        loglikelihood -= log(1 + exp(-logit))\n",
    "        if not y[i]:\n",
    "              loglikelihood -= logit\n",
    "    for k in range(len(theta)):\n",
    "        loglikelihood -= lam * theta[k]*theta[k]\n",
    "    print \"ll =\", loglikelihood\n",
    "    return -loglikelihood\n",
    "\n",
    "# NEGATIVE Derivative of log-likelihood\n",
    "def fprime(theta, X, y, lam):\n",
    "    X=numpy.array(X)\n",
    "    dl = [0.0]*len(theta)\n",
    "    dl -= 2*lam*theta\n",
    "    for i in range(len(X)):\n",
    "        # Fill in code for the derivative\n",
    "        dl+=(1-sigmoid(inner(X[i],theta)))*X[i]\n",
    "        if not y[i]:\n",
    "            dl-=X[i]\n",
    "    # Negate the return value since we're doing gradient *ascent*\n",
    "    return numpy.array([-x for x in dl])\n",
    "\n",
    "\n"
   ]
  },
  {
   "cell_type": "code",
   "execution_count": 4,
   "metadata": {},
   "outputs": [
    {
     "name": "stdout",
     "output_type": "stream",
     "text": [
      "ll = -17328.679514\n",
      "ll = -16341.2013892\n",
      "ll = -13952.6362653\n",
      "ll = -6951.99741346\n",
      "ll = -7358.42557314\n",
      "ll = -6910.14444961\n",
      "ll = -6906.4039954\n",
      "ll = -6892.46364043\n",
      "ll = -6803.17967996\n",
      "ll = -6787.73594284\n",
      "ll = -6783.12927193\n",
      "ll = -6782.88180995\n",
      "ll = -6782.29658661\n",
      "ll = -6780.5430371\n",
      "ll = -6776.38750021\n",
      "ll = -6766.5473173\n",
      "ll = -6747.07517193\n",
      "ll = -6718.50759263\n",
      "ll = -6888.22077896\n",
      "ll = -6716.20422105\n",
      "ll = -6695.66660154\n",
      "ll = -6691.5816811\n",
      "ll = -6690.85883334\n",
      "ll = -6690.83165269\n",
      "ll = -6690.83160231\n",
      "ll = -6690.83159755\n",
      "Final log likelihood = ll = -6690.83159755\n",
      "6690.83159755\n"
     ]
    }
   ],
   "source": [
    "X=[]\n",
    "Y=[0]*50000\n",
    "for i in range(50000):\n",
    "    if data[i]['beer/style']== 'American IPA':\n",
    "        Y[i]=1\n",
    "    X.append([1,data[i]['beer/ABV'],data[i]['review/taste']])\n",
    "\n",
    "\n",
    "X_train = X[:len(X)/2]\n",
    "X_test = X[len(X)/2:]\n",
    "y_train = Y[:25000]\n",
    "y_test = Y[25000:]\n",
    "\n",
    "# If we wanted to split with a validation set:\n",
    "#X_valid = X[len(X)/2:3*len(X)/4]\n",
    "#X_test = X[3*len(X)/4:]\n",
    "\n",
    "# Use a library function to run gradient descent (or you can implement yourself!)\n",
    "theta,l,info = scipy.optimize.fmin_l_bfgs_b(f, [0]*len(X[0]), fprime, args = (X_train, y_train, 1.0))\n",
    "print \"Final log likelihood =\", f(theta,X_train,y_train,1.0)\n",
    "\n"
   ]
  },
  {
   "cell_type": "code",
   "execution_count": 5,
   "metadata": {},
   "outputs": [
    {
     "name": "stdout",
     "output_type": "stream",
     "text": [
      "92.188\n"
     ]
    }
   ],
   "source": [
    "test_predictions=[]\n",
    "for i in numpy.matrix(X_test)*numpy.matrix(theta).T:\n",
    "    if float(i)>0:\n",
    "        test_predictions.append(1)\n",
    "    else:\n",
    "        test_predictions.append(0)\n",
    "        \n",
    "test_accuracy=sum([(x==y) for x,y in zip(test_predictions,y_test)])*1.0/25000*100\n",
    "print test_accuracy"
   ]
  },
  {
   "cell_type": "code",
   "execution_count": null,
   "metadata": {},
   "outputs": [],
   "source": []
  }
 ],
 "metadata": {
  "kernelspec": {
   "display_name": "Python 2",
   "language": "python",
   "name": "python2"
  },
  "language_info": {
   "codemirror_mode": {
    "name": "ipython",
    "version": 2
   },
   "file_extension": ".py",
   "mimetype": "text/x-python",
   "name": "python",
   "nbconvert_exporter": "python",
   "pygments_lexer": "ipython2",
   "version": "2.7.13"
  }
 },
 "nbformat": 4,
 "nbformat_minor": 2
}
