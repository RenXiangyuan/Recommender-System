{
 "cells": [
  {
   "cell_type": "markdown",
   "metadata": {},
   "source": [
    "## Classification (*Week 2*)\n",
    "### Answers Briefly (*Details shown in following pages*)\n",
    "* \n",
    "#### Q5:\n",
    "* Accuracy on training set is 91.296\n",
    "* Accuracy on test set is 92.112\n",
    "#### Q6:\n",
    "* feature: whether there is ' IPA ' in the 'beer/name'\n",
    "* Accuracy on training set is 96.192\n",
    "* Accuracy on test set is 93.74\n",
    "#### Q7:\n",
    "* Accuracy on training set is always 96.168 \n",
    "* Accuracy on test set is always 93.788\n",
    "* if using RBF kernel, accuracy changes"
   ]
  },
  {
   "cell_type": "code",
   "execution_count": 1,
   "metadata": {},
   "outputs": [
    {
     "name": "stdout",
     "output_type": "stream",
     "text": [
      "Reading data...\n",
      "done\n"
     ]
    },
    {
     "data": {
      "text/plain": [
       "{'beer/ABV': 6.8,\n",
       " 'beer/beerId': '505',\n",
       " 'beer/brewerId': '14',\n",
       " 'beer/name': 'Big Man Ale',\n",
       " 'beer/style': 'American IPA',\n",
       " 'review/appearance': 3.0,\n",
       " 'review/aroma': 3.5,\n",
       " 'review/overall': 2.5,\n",
       " 'review/palate': 3.5,\n",
       " 'review/taste': 3.0,\n",
       " 'review/text': '\"He\\'s a big, strong man with a child\\'s mind, don\\'t you take his booze away!\" - Dropkick Murphys\\t\\t@ Atwoods, Sommerville MA. Found an extra $20 that I didn\\'t know I had so I took my ladyfriend out for a beer.\\t\\tHazy copper color with a thin white head. Momentary thin skim throws up a few lacey splashes before dying out. Honestly, it wasn\\'t a great pour.\\t\\tFloral and citrus hop aroma with bubble gum. There\\'s a very faint, mild fruit malt under there somewhere.\\t\\tI didn\\'t get the citrus bomb that many reviewers described but rather a clean, juniper and spruce bitter. Bubble gum pops up here and there with a piney caramel fade. Hoppy burps that tastes like I swallowed a pine tree. \\t\\tOdd malt character: I can feel it but it seems to be a tasteless vacuum, almost like a stock ale. Website claims it was made with 770 pounds of malt (the combined weight of three brewers/managers).\\t\\tOverall this beer seemed to be everywhere and lacked focus. Not a fan.',\n",
       " 'review/timeStruct': {'hour': 18,\n",
       "  'isdst': 0,\n",
       "  'mday': 13,\n",
       "  'min': 38,\n",
       "  'mon': 1,\n",
       "  'sec': 45,\n",
       "  'wday': 2,\n",
       "  'yday': 13,\n",
       "  'year': 2010},\n",
       " 'review/timeUnix': 1263407925,\n",
       " 'user/profileName': 'donkeyrunner'}"
      ]
     },
     "execution_count": 1,
     "metadata": {},
     "output_type": "execute_result"
    }
   ],
   "source": [
    "import numpy\n",
    "import scipy.optimize\n",
    "import random\n",
    "from sklearn import svm\n",
    "\n",
    "def parseDataFromFile(fname):\n",
    "    for l in open(fname):\n",
    "        yield eval(l)\n",
    "\n",
    "print \"Reading data...\"\n",
    "data = list(parseDataFromFile(\"beer_50000.json\"))\n",
    "print \"done\"\n",
    "data[14712] #show a sample of data"
   ]
  },
  {
   "cell_type": "markdown",
   "metadata": {},
   "source": [
    "---\n",
    "## Qestion 5: \n",
    "#### c train a predictor that estimates whether a beer is an ‘American IPA’ using two features:\n",
    "#### *[‘beer/ABV’, ‘review/taste’]*\n",
    "#### Train your predictor using an SVM classifier, What is the accuracy"
   ]
  },
  {
   "cell_type": "code",
   "execution_count": 2,
   "metadata": {},
   "outputs": [],
   "source": [
    "#Building feature X and label Y\n",
    "X=[]\n",
    "Y=[0]*50000\n",
    "for i in range(50000):\n",
    "    if data[i]['beer/style']== 'American IPA':\n",
    "        Y[i]=1\n",
    "    X.append([data[i]['beer/ABV'],data[i]['review/taste']])\n",
    "\n",
    "#spliting dataset\n",
    "X_train = X[:25000]\n",
    "y_train = Y[:25000]\n",
    "X_test = X[25000:]\n",
    "y_test = Y[25000:]\n",
    "\n",
    "#training data with Linear Kernel SVM\n",
    "clf = svm.SVC(C=1000,kernel='linear')\n",
    "clf.fit(X_train, y_train)\n",
    "train_predictions = clf.predict(X_train)\n",
    "test_predictions = clf.predict(X_test)\n",
    "\n",
    "#calculating accuracy\n",
    "train_accuracy=sum([(x==y) for x,y in zip(train_predictions,y_train)])*1.0/25000*100\n",
    "test_accuracy=sum([(x==y) for x,y in zip(test_predictions,y_test)])*1.0/25000*100"
   ]
  },
  {
   "cell_type": "code",
   "execution_count": 3,
   "metadata": {},
   "outputs": [
    {
     "name": "stdout",
     "output_type": "stream",
     "text": [
      "91.296 92.112\n"
     ]
    }
   ],
   "source": [
    "print train_accuracy,test_accuracy"
   ]
  },
  {
   "cell_type": "markdown",
   "metadata": {},
   "source": [
    "### training data with Linear Kernel SVM:\n",
    "* Accuracy on training set is 91.296\n",
    "* Accuracy on test set is 92.112"
   ]
  },
  {
   "cell_type": "markdown",
   "metadata": {},
   "source": [
    "---\n",
    "## Qestion 6: \n",
    "#### a more accurate predictor：\n",
    "#### The feature I choose: whether there is an  ** ' IPA ' ** in  the **'beer/name'**\n"
   ]
  },
  {
   "cell_type": "code",
   "execution_count": 4,
   "metadata": {},
   "outputs": [],
   "source": [
    "X=[]\n",
    "for i in range(50000):\n",
    "    if 'IPA' in data[i]['beer/name']:\n",
    "        X.append([1,data[i]['review/taste']])\n",
    "    else:\n",
    "        X.append([0,data[i]['review/taste']])\n",
    "\n",
    "X_train = X[25000:]\n",
    "y_train = Y[25000:]\n",
    "X_test = X[:25000]\n",
    "y_test = Y[:25000]\n",
    "\n",
    "clf = svm.SVC(C=1000)\n",
    "clf.fit(X_train, y_train)\n",
    "train_predictions = clf.predict(X_train)\n",
    "train_accuracy=sum([(x==y) for x,y in zip(train_predictions,y_train)])*1.0/25000*100\n",
    "test_predictions = clf.predict(X_test)\n",
    "test_accuracy=sum([(x==y) for x,y in zip(test_predictions,y_test)])*1.0/25000*100"
   ]
  },
  {
   "cell_type": "code",
   "execution_count": 5,
   "metadata": {},
   "outputs": [
    {
     "name": "stdout",
     "output_type": "stream",
     "text": [
      "96.192 93.74\n"
     ]
    }
   ],
   "source": [
    "print train_accuracy,test_accuracy"
   ]
  },
  {
   "cell_type": "markdown",
   "metadata": {},
   "source": [
    "### Using the new feature:\n",
    "* Accuracy on training set is 96.192\n",
    "* Accuracy on test set is 93.74\n",
    "* BTW: The RBF kernel significantly speed up the modeling"
   ]
  },
  {
   "cell_type": "markdown",
   "metadata": {},
   "source": [
    "---\n",
    "## Qestion 7: \n",
    "#### What effect does the regularization constant C have on the training/test performance?"
   ]
  },
  {
   "cell_type": "code",
   "execution_count": 7,
   "metadata": {},
   "outputs": [
    {
     "name": "stdout",
     "output_type": "stream",
     "text": [
      "96.168 93.788\n"
     ]
    }
   ],
   "source": [
    "clf = svm.SVC(C=100000,kernel='linear')\n",
    "clf.fit(X_train, y_train)\n",
    "train_predictions = clf.predict(X_train)\n",
    "train_accuracy=sum([(x==y) for x,y in zip(train_predictions,y_train)])*1.0/25000*100\n",
    "test_predictions = clf.predict(X_test)\n",
    "test_accuracy=sum([(x==y) for x,y in zip(test_predictions,y_test)])*1.0/25000*100\n",
    "print train_accuracy,\n",
    "print test_accuracy"
   ]
  },
  {
   "cell_type": "code",
   "execution_count": 8,
   "metadata": {},
   "outputs": [
    {
     "name": "stdout",
     "output_type": "stream",
     "text": [
      "96.168 93.788\n"
     ]
    }
   ],
   "source": [
    "clf = svm.SVC(C=10,kernel='linear')\n",
    "clf.fit(X_train, y_train)\n",
    "train_predictions = clf.predict(X_train)\n",
    "train_accuracy=sum([(x==y) for x,y in zip(train_predictions,y_train)])*1.0/25000*100\n",
    "test_predictions = clf.predict(X_test)\n",
    "test_accuracy=sum([(x==y) for x,y in zip(test_predictions,y_test)])*1.0/25000*100\n",
    "print train_accuracy,\n",
    "print test_accuracy"
   ]
  },
  {
   "cell_type": "code",
   "execution_count": 9,
   "metadata": {},
   "outputs": [
    {
     "name": "stdout",
     "output_type": "stream",
     "text": [
      "96.168 93.788\n"
     ]
    }
   ],
   "source": [
    "clf = svm.SVC(C=0.1,kernel='linear')\n",
    "clf.fit(X_train, y_train)\n",
    "train_predictions = clf.predict(X_train)\n",
    "train_accuracy=sum([(x==y) for x,y in zip(train_predictions,y_train)])*1.0/25000*100\n",
    "test_predictions = clf.predict(X_test)\n",
    "test_accuracy=sum([(x==y) for x,y in zip(test_predictions,y_test)])*1.0/25000*100\n",
    "print train_accuracy,\n",
    "print test_accuracy"
   ]
  },
  {
   "cell_type": "markdown",
   "metadata": {},
   "source": [
    "### Using the C as 100000, 10 , 0.1, 1000 with **Linear Kernel**:\n",
    "* Accuracy on training set is always 96.168 \n",
    "* Accuracy on test set is always 93.788\n",
    "### However, if changed into RBF Kernel: (they do not remain the same)\n",
    "* C=1000: Train=96.2; Test=93.7;\n",
    "* C=100000: Train=96.2; Test=93.7;\n",
    "* C=10: Train=96.2; Test=93.8;\n",
    "* C=1000: Train=96.2; Test=93.8;"
   ]
  },
  {
   "cell_type": "code",
   "execution_count": null,
   "metadata": {},
   "outputs": [],
   "source": []
  }
 ],
 "metadata": {
  "kernelspec": {
   "display_name": "Python 2",
   "language": "python",
   "name": "python2"
  },
  "language_info": {
   "codemirror_mode": {
    "name": "ipython",
    "version": 2
   },
   "file_extension": ".py",
   "mimetype": "text/x-python",
   "name": "python",
   "nbconvert_exporter": "python",
   "pygments_lexer": "ipython2",
   "version": "2.7.13"
  }
 },
 "nbformat": 4,
 "nbformat_minor": 2
}
