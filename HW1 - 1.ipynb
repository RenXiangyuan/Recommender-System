{
 "cells": [
  {
   "cell_type": "markdown",
   "metadata": {},
   "source": [
    "# <center>CSE 258 Fall 2017 - Homework 1<center>\n",
    "- - -\n",
    "\n",
    "## <center>Xiangyuan Ren<center>\n",
    "### <center> Department of Electrical and Computer Engineering <center>\n",
    "### <center>Email: xir010@eng.ucsd.edu <center>"
   ]
  },
  {
   "cell_type": "markdown",
   "metadata": {},
   "source": [
    "## Regression (*Week 1*)\n",
    "### Answers Briefly (*Details shown in following pages*)\n",
    "* \n",
    "#### Q1:\n",
    "* Hefeweizen- 618- 3.63430420712   \n",
    "* English Strong Ale-164 - 3.74390243902\n",
    "* Foreign / Export Stout-55 - 3.21818181818\n",
    "* German Pilsener-586- 3.6638225256\n",
    "#### Q2:\n",
    "* $\\theta0$ = 3.91520474,$\\theta1$= 0.08564622\n",
    "#### Q3:\n",
    "* MSE on training set is 0.55810729\n",
    "* MSE on test set is 0.46841005\n",
    "#### Q4:\n",
    "* MSE on training set is 0.36784045\n",
    "* MSE on test set is 0.43366651"
   ]
  },
  {
   "cell_type": "code",
   "execution_count": 1,
   "metadata": {},
   "outputs": [
    {
     "data": {
      "text/plain": [
       "{'beer/ABV': 5.0,\n",
       " 'beer/beerId': '47986',\n",
       " 'beer/brewerId': '10325',\n",
       " 'beer/name': 'Sausa Weizen',\n",
       " 'beer/style': 'Hefeweizen',\n",
       " 'review/appearance': 2.5,\n",
       " 'review/aroma': 2.0,\n",
       " 'review/overall': 1.5,\n",
       " 'review/palate': 1.5,\n",
       " 'review/taste': 1.5,\n",
       " 'review/text': 'A lot of foam. But a lot.\\tIn the smell some banana, and then lactic and tart. Not a good start.\\tQuite dark orange in color, with a lively carbonation (now visible, under the foam).\\tAgain tending to lactic sourness.\\tSame for the taste. With some yeast and banana.',\n",
       " 'review/timeStruct': {'hour': 20,\n",
       "  'isdst': 0,\n",
       "  'mday': 16,\n",
       "  'min': 57,\n",
       "  'mon': 2,\n",
       "  'sec': 3,\n",
       "  'wday': 0,\n",
       "  'yday': 47,\n",
       "  'year': 2009},\n",
       " 'review/timeUnix': 1234817823,\n",
       " 'user/profileName': 'stcules'}"
      ]
     },
     "execution_count": 1,
     "metadata": {},
     "output_type": "execute_result"
    }
   ],
   "source": [
    "#Reading data \n",
    "import numpy\n",
    "import random\n",
    "def ParseDataFromFile(f):\n",
    "    for l in open(f):\n",
    "        yield eval(l)\n",
    "data=list(ParseDataFromFile(\"beer_50000.json\"))\n",
    "data[0]"
   ]
  },
  {
   "cell_type": "markdown",
   "metadata": {},
   "source": [
    "---\n",
    "## Qestion 1: \n",
    "###            How many reviews are there for each style of beer in the dataset (‘beer/style’)? What is the average value of ‘review/taste’ for reviews from each style?\n",
    "*  **style** (*list*) to store the Name of each style( it is ordered)\n",
    "*  **styleNum** (*dictionary*) to store the Number of review for each style\n",
    "*  **styleAverage** (*dictionary*) to store the average value of 'review/taste' for these reviews"
   ]
  },
  {
   "cell_type": "code",
   "execution_count": 2,
   "metadata": {},
   "outputs": [
    {
     "name": "stdout",
     "output_type": "stream",
     "text": [
      "['Hefeweizen', 'English Strong Ale', 'Foreign / Export Stout', 'German Pilsener', 'American Double / Imperial IPA']\n",
      "618 164 55 586 3886\n",
      "3.63430420712 3.74390243902 3.21818181818 3.6638225256 4.03242408646\n"
     ]
    }
   ],
   "source": [
    "style=[]\n",
    "for i in range(50000):\n",
    "    if data[i]['beer/style'] not in style:\n",
    "        style.append(data[i]['beer/style'])\n",
    "styleNum={}\n",
    "styleValueSum={}\n",
    "styleAverage={}\n",
    "for i in range(50000):\n",
    "    if data[i]['beer/style'] not in styleNum:\n",
    "        styleNum[data[i]['beer/style']]=1\n",
    "        styleValueSum[data[i]['beer/style']]=1\n",
    "    else:\n",
    "        styleNum[data[i]['beer/style']]+=1\n",
    "        styleValueSum[data[i]['beer/style']]+=data[i]['review/taste']\n",
    "for each in styleValueSum:\n",
    "    styleAverage[each]=styleValueSum[each]/styleNum[each]\n",
    "    \n",
    "print style[:5]\n",
    "print styleNum[style[0]],styleNum[style[1]],styleNum[style[2]],styleNum[style[3]],styleNum[style[4]]\n",
    "print styleAverage[style[0]],styleAverage[style[1]],styleAverage[style[2]],styleAverage[style[3]],styleAverage[style[4]]"
   ]
  },
  {
   "cell_type": "markdown",
   "metadata": {},
   "source": [
    "### So, here is the result for some styles:\n",
    "| Hefeweizen | English Strong Ale | Foreign / Export Stout | German Pilsener|American Double / Imperial IPA|\n",
    "|-----------------|-----------------|-----------------|-----------------|-----------------|-----------------|-----------------|\n",
    "| 617 | 163 | 54 | 585 | 3885 |\n",
    "| 3.63430420712 |3.74390243902 | 3.21818181818 | 3.6638225256 | 4.03242408646 |"
   ]
  },
  {
   "cell_type": "markdown",
   "metadata": {},
   "source": [
    "---\n",
    "## Qestion 2: \n",
    "### Train a simple predictor with a single binary feature indicating whether a beer is an ‘American IPA’\n",
    "### Report the values of $\\theta0$ and $\\theta1$. Briefly describe your interpretation of these values, i.e., what do $\\theta1$ and $\\theta1$ represent"
   ]
  },
  {
   "cell_type": "code",
   "execution_count": 3,
   "metadata": {},
   "outputs": [
    {
     "data": {
      "text/plain": [
       "array([ 3.91520474,  0.08564622])"
      ]
     },
     "execution_count": 3,
     "metadata": {},
     "output_type": "execute_result"
    }
   ],
   "source": [
    "def feature(datum):\n",
    "    if datum['beer/style']==\"American IPA\":\n",
    "        feat=[1,1]\n",
    "    else:\n",
    "        feat=[1,0]\n",
    "    return feat\n",
    "X= [feature(d) for d in data]\n",
    "y=[d['review/taste']for d in data]\n",
    "theta,residuals,rank,s = numpy.linalg.lstsq(X, y)\n",
    "theta"
   ]
  },
  {
   "cell_type": "markdown",
   "metadata": {},
   "source": [
    "### $\\theta0$ = 3.91520474,$\\theta1$= 0.08564622\n",
    "* $\\theta0$: it represent the **average value** of the 'review/taste' (Almost every beer has 3.915 average 'review/taste')\n",
    "* $\\theta1$: it represent the weight of 'beer/style'(American IPA has 0.0856 higher 'review/taste')"
   ]
  },
  {
   "cell_type": "markdown",
   "metadata": {},
   "source": [
    "---\n",
    "## Qestion 3: \n",
    "### Split the data into two equal fractions – the first half for training, the second half for testing\n",
    "### What is the model’s MSE on the training and on the test set"
   ]
  },
  {
   "cell_type": "code",
   "execution_count": 4,
   "metadata": {},
   "outputs": [
    {
     "name": "stdout",
     "output_type": "stream",
     "text": [
      "[[ 0.55810729]] [[ 0.46841005]]\n"
     ]
    }
   ],
   "source": [
    "X1 = numpy.matrix([feature(d) for d in data[:25000]])\n",
    "X2 = numpy.matrix([feature(d) for d in data[25000:]])\n",
    "y1 = numpy.matrix([d['review/taste']for d in data[:25000]])\n",
    "y2 = numpy.matrix([d['review/taste']for d in data[25000:]])\n",
    "\n",
    "theta1,residuals,rank,s = numpy.linalg.lstsq(X1, y1.T)\n",
    "\n",
    "MSEtrain=(y1.T-X1*theta1).T*(y1.T-X1*theta1)/25000\n",
    "MSEtest=(y2.T-X2*theta1).T*(y2.T-X2*theta1)/25000\n",
    "print MSEtrain,MSEtest"
   ]
  },
  {
   "cell_type": "markdown",
   "metadata": {},
   "source": [
    "### Using numpy.linalg.lstsg and spliting dataset:\n",
    "* MSE on training set is 0.55810729\n",
    "* MSE on test set is 0.46841005"
   ]
  },
  {
   "cell_type": "markdown",
   "metadata": {},
   "source": [
    "---\n",
    "## Qestion 4: \n",
    "### Extend the model above so that it incorporates binary features for every style of beer with ≥ 50 reviews\n",
    "### Report the values of $\\theta$ that you obtain, and the model’s MSE on the training and on the test set"
   ]
  },
  {
   "cell_type": "code",
   "execution_count": 5,
   "metadata": {},
   "outputs": [
    {
     "name": "stdout",
     "output_type": "stream",
     "text": [
      "74\n"
     ]
    }
   ],
   "source": [
    "for key in style[:]:\n",
    "    if styleNum[key]<50:# remove style has reviews<=50\n",
    "        style.remove(key)\n",
    "        styleNum.pop(key)\n",
    "print len(styleNum)#how many styles left: 74"
   ]
  },
  {
   "cell_type": "code",
   "execution_count": 6,
   "metadata": {},
   "outputs": [
    {
     "name": "stdout",
     "output_type": "stream",
     "text": [
      "[1, 1, 0, 0, 0, 0, 0, 0, 0, 0, 0, 0, 0, 0, 0, 0, 0, 0, 0, 0, 0, 0, 0, 0, 0, 0, 0, 0, 0, 0, 0, 0, 0, 0, 0, 0, 0, 0, 0, 0, 0, 0, 0, 0, 0, 0, 0, 0, 0, 0, 0, 0, 0, 0, 0, 0, 0, 0, 0, 0, 0, 0, 0, 0, 0, 0, 0, 0, 0, 0, 0, 0, 0, 0, 0] \n",
      "3.0\n"
     ]
    }
   ],
   "source": [
    "def feature(datum):\n",
    "    feat=[0]*(1+74)\n",
    "    feat[0]=1\n",
    "    if datum['beer/style'] in style:\n",
    "        feat[style.index(datum['beer/style'])]=1\n",
    "    return feat\n",
    "X= [feature(d) for d in data]\n",
    "y=[d['review/taste']for d in data]\n",
    "print X[1],'\\n',y[1]#show an sample of feature X and label y"
   ]
  },
  {
   "cell_type": "code",
   "execution_count": 7,
   "metadata": {},
   "outputs": [
    {
     "name": "stdout",
     "output_type": "stream",
     "text": [
      "[[ 0.36784045]] [[ 0.43366651]]\n"
     ]
    }
   ],
   "source": [
    "X1 = numpy.matrix(X[:25000])\n",
    "X2 = numpy.matrix(X[25000:])\n",
    "y1 = numpy.matrix(y[:25000])\n",
    "y2 = numpy.matrix(y[25000:])\n",
    "theta1,residuals,rank,s = numpy.linalg.lstsq(X1, y1.T)\n",
    "MSEtrain=(y1.T-X1*theta1).T*(y1.T-X1*theta1)/25000\n",
    "MSEtest=(y2.T-X2*theta1).T*(y2.T-X2*theta1)/25000\n",
    "print MSEtrain,MSEtest"
   ]
  },
  {
   "cell_type": "markdown",
   "metadata": {},
   "source": [
    "### Containg style with review>=50 as feature:\n",
    "* MSE on training set is 0.36784045\n",
    "* MSE on test set is 0.43366651"
   ]
  }
 ],
 "metadata": {
  "kernelspec": {
   "display_name": "Python 2",
   "language": "python",
   "name": "python2"
  },
  "language_info": {
   "codemirror_mode": {
    "name": "ipython",
    "version": 2
   },
   "file_extension": ".py",
   "mimetype": "text/x-python",
   "name": "python",
   "nbconvert_exporter": "python",
   "pygments_lexer": "ipython2",
   "version": "2.7.13"
  }
 },
 "nbformat": 4,
 "nbformat_minor": 2
}
